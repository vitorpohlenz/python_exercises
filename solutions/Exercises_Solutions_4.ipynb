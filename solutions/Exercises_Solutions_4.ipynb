{
  "nbformat": 4,
  "nbformat_minor": 0,
  "metadata": {
    "colab": {
      "provenance": [],
      "include_colab_link": true
    },
    "kernelspec": {
      "name": "python3",
      "display_name": "Python 3"
    },
    "language_info": {
      "name": "python"
    }
  },
  "cells": [
    {
      "cell_type": "markdown",
      "metadata": {
        "id": "view-in-github",
        "colab_type": "text"
      },
      "source": [
        "<a href=\"https://colab.research.google.com/github/vitorpohlenz/python_exercises/blob/list_4/solutions/Exercises_Solutions_4.ipynb\" target=\"_parent\"><img src=\"https://colab.research.google.com/assets/colab-badge.svg\" alt=\"Open In Colab\"/></a>"
      ]
    },
    {
      "cell_type": "markdown",
      "source": [
        "# Language\n",
        "\n",
        "[EN] Please select the language.\n",
        "\n",
        "[PT] Por favor selecione a linguadem."
      ],
      "metadata": {
        "id": "jM3IdlPQourA"
      }
    },
    {
      "cell_type": "code",
      "source": [
        "# 'PTBR': Português\n",
        "# 'EN': English\n",
        "LANGUAGE = 'PTBR'"
      ],
      "metadata": {
        "id": "7oPN-pqODga1"
      },
      "execution_count": 1,
      "outputs": []
    },
    {
      "cell_type": "markdown",
      "source": [
        "# Setup"
      ],
      "metadata": {
        "id": "089nyz4hDnri"
      }
    },
    {
      "cell_type": "code",
      "source": [
        "import os\n",
        "import numpy as np\n",
        "from IPython.display import Markdown as md # Displaying Markdown as \"prints\""
      ],
      "metadata": {
        "id": "L_LyBYYrr-cn"
      },
      "execution_count": 2,
      "outputs": []
    },
    {
      "cell_type": "markdown",
      "source": [
        "<font color = \"yellow\">[EN] Please do not change the following code! </font>\n",
        "\n",
        "<font color = \"yellow\">[PT] Por favor não altere o código abaixo! </font>"
      ],
      "metadata": {
        "id": "ZyfGjTf0DZxV"
      }
    },
    {
      "cell_type": "code",
      "source": [
        "!git clone https://github.com/vitorpohlenz/python_exercises.git --branch list_4 --single-branch"
      ],
      "metadata": {
        "colab": {
          "base_uri": "https://localhost:8080/"
        },
        "id": "XaX4qBnViWOM",
        "outputId": "f14fe5ad-fc6e-4c27-8b48-f150e296418d"
      },
      "execution_count": 3,
      "outputs": [
        {
          "output_type": "stream",
          "name": "stdout",
          "text": [
            "Cloning into 'python_exercises'...\n",
            "remote: Enumerating objects: 60, done.\u001b[K\n",
            "remote: Counting objects: 100% (22/22), done.\u001b[K\n",
            "remote: Compressing objects: 100% (19/19), done.\u001b[K\n",
            "remote: Total 60 (delta 9), reused 7 (delta 3), pack-reused 38 (from 1)\u001b[K\n",
            "Receiving objects: 100% (60/60), 45.13 KiB | 1.61 MiB/s, done.\n",
            "Resolving deltas: 100% (21/21), done.\n"
          ]
        }
      ]
    },
    {
      "cell_type": "code",
      "source": [
        "# Reading Markdown file with the exercises.\n",
        "with open(f'python_exercises/exercises/List_4_{LANGUAGE}.md','r') as file:\n",
        "  exercises_raw = file.read()"
      ],
      "metadata": {
        "id": "e9gtnBc5qWlF"
      },
      "execution_count": 4,
      "outputs": []
    },
    {
      "cell_type": "code",
      "source": [
        "# Header of the file.\n",
        "header = exercises_raw.split('## 1')[0]"
      ],
      "metadata": {
        "id": "YlOOasNnsyWI"
      },
      "execution_count": 5,
      "outputs": []
    },
    {
      "cell_type": "code",
      "source": [
        "# Raw string with the questions.\n",
        "questions_raw = exercises_raw.replace(header,'')"
      ],
      "metadata": {
        "id": "OOrf0QHrtqFB"
      },
      "execution_count": 6,
      "outputs": []
    },
    {
      "cell_type": "code",
      "source": [
        "# Putting the questions in to a dict to be displayed.\n",
        "questions = dict()\n",
        "for q_string in questions_raw.split(';'):\n",
        "  if '## ' in q_string:\n",
        "    q_num = int(q_string.replace('## ','').split('.')[0])\n",
        "    questions[q_num] = q_string"
      ],
      "metadata": {
        "id": "H8LW6njsu8_a"
      },
      "execution_count": 7,
      "outputs": []
    },
    {
      "cell_type": "markdown",
      "source": [
        "# Suggested Solutions\n",
        "[EN] The solutions provided are just suggestions, there are other possible solutions.\n",
        "\n",
        "For now on <font color = \"whitegreen\"> feel free to change</font> the code if you want, and <font color = \"yellow\"> please report any issues!</font>\n",
        "\n",
        "[PT] As soluções fornecidas aqui são apenas sugestões, existem outras soluções possíveis.\n",
        "\n",
        "Daqui em diante <font color = \"whitegreen\"> fique a vontade para modificar</font> o código se quiser, e <font color = \"yellow\"> por favor reportem qualquer problema!</font>\n",
        "\n"
      ],
      "metadata": {
        "id": "XKoDYjHbD2v7"
      }
    },
    {
      "cell_type": "code",
      "source": [
        "md(header)"
      ],
      "metadata": {
        "colab": {
          "base_uri": "https://localhost:8080/",
          "height": 74
        },
        "id": "6qlj9ap3ta0O",
        "outputId": "0589061d-e4f0-4687-b8f3-4adaab69c2e4"
      },
      "execution_count": 8,
      "outputs": [
        {
          "output_type": "execute_result",
          "data": {
            "text/plain": [
              "<IPython.core.display.Markdown object>"
            ],
            "text/markdown": "# Exercícios com Numpy: Arrays, ndarrays e Operações Matriciais\n\n"
          },
          "metadata": {},
          "execution_count": 8
        }
      ]
    },
    {
      "cell_type": "markdown",
      "source": [
        "> [EN] Note: AS a commom practice for this notebook Numpy is imported as `np`.\n",
        "\n",
        "> [PT] Nota: Como prática comum, para este notebook o Numpy é importado como `np`.\n",
        "\n",
        "``` import numpy as np ```"
      ],
      "metadata": {
        "id": "foWDSApJXUOg"
      }
    },
    {
      "cell_type": "code",
      "source": [
        "md(questions.get(1))"
      ],
      "metadata": {
        "colab": {
          "base_uri": "https://localhost:8080/",
          "height": 90
        },
        "id": "gykgNQRhtEa5",
        "outputId": "8ad71063-8b75-4f44-d746-f77e08421994"
      },
      "execution_count": 9,
      "outputs": [
        {
          "output_type": "execute_result",
          "data": {
            "text/plain": [
              "<IPython.core.display.Markdown object>"
            ],
            "text/markdown": "## 1. Criação de um Array 1D\nCrie um array unidimensional (1D) contendo os números de 0 a 9 usando o Numpy. Exiba o array e seu tipo"
          },
          "metadata": {},
          "execution_count": 9
        }
      ]
    },
    {
      "cell_type": "code",
      "source": [
        "np_array = np.array(range(10))\n",
        "np_array"
      ],
      "metadata": {
        "colab": {
          "base_uri": "https://localhost:8080/"
        },
        "id": "OlpUzEHxYIT0",
        "outputId": "17b27af3-7ed3-4b00-a944-e59a3b4209bd"
      },
      "execution_count": 10,
      "outputs": [
        {
          "output_type": "execute_result",
          "data": {
            "text/plain": [
              "array([0, 1, 2, 3, 4, 5, 6, 7, 8, 9])"
            ]
          },
          "metadata": {},
          "execution_count": 10
        }
      ]
    },
    {
      "cell_type": "code",
      "source": [
        "md(questions.get(2))"
      ],
      "metadata": {
        "colab": {
          "base_uri": "https://localhost:8080/",
          "height": 90
        },
        "id": "on6ASjbcFM6F",
        "outputId": "67085cfd-ddd3-48e9-8135-e8be89f8e253"
      },
      "execution_count": 11,
      "outputs": [
        {
          "output_type": "execute_result",
          "data": {
            "text/plain": [
              "<IPython.core.display.Markdown object>"
            ],
            "text/markdown": "\n\n## 2. Criação de um Array 2D\nCrie um array bidimensional (2D) 3x3 com valores de 1 a 9 usando o Numpy. Exiba a matriz e suas dimensões"
          },
          "metadata": {},
          "execution_count": 11
        }
      ]
    },
    {
      "cell_type": "code",
      "source": [
        "np_matrix = np.array([[1,2,3],[4,5,6], [7,8,9]])\n",
        "\n",
        "print(np_matrix)\n",
        "\n",
        "print(f\"Matrix dims: {np_matrix.shape}\")"
      ],
      "metadata": {
        "colab": {
          "base_uri": "https://localhost:8080/"
        },
        "id": "pQ_cu8nuY1JH",
        "outputId": "3f6522c2-643c-46fd-c2e0-d9eaa8e06771"
      },
      "execution_count": 12,
      "outputs": [
        {
          "output_type": "stream",
          "name": "stdout",
          "text": [
            "[[1 2 3]\n",
            " [4 5 6]\n",
            " [7 8 9]]\n",
            "Matrix dims: (3, 3)\n"
          ]
        }
      ]
    },
    {
      "cell_type": "code",
      "source": [
        "md(questions.get(3))"
      ],
      "metadata": {
        "colab": {
          "base_uri": "https://localhost:8080/",
          "height": 107
        },
        "id": "QCyVeUdAHZyB",
        "outputId": "50a4371d-791b-4ae2-cdf1-b178908332f5"
      },
      "execution_count": 13,
      "outputs": [
        {
          "output_type": "execute_result",
          "data": {
            "text/plain": [
              "<IPython.core.display.Markdown object>"
            ],
            "text/markdown": "\n\n## 3. Operação de Soma em Arrays\nCrie dois arrays 1D de tamanho 5, contendo números inteiros aleatórios entre 1 e 10.\nRealize a soma entre esses arrays, garanta que os mesmos números aleatórios sejam usados indiferente de quantas vezes o código seja executado"
          },
          "metadata": {},
          "execution_count": 13
        }
      ]
    },
    {
      "cell_type": "code",
      "source": [
        "# To keep the same random generation it needs a fixed random_state/seed.\n",
        "np.random.seed(42)\n",
        "\n",
        "random_array_1 = np.random.randint(low=1, high=10, size=5)\n",
        "random_array_2 = np.random.randint(low=1, high=10, size=5)\n",
        "\n",
        "print(random_array_1)\n",
        "print(random_array_2)\n",
        "print(random_array_2 + random_array_1)"
      ],
      "metadata": {
        "colab": {
          "base_uri": "https://localhost:8080/"
        },
        "id": "dWIZpbV-Y0Ms",
        "outputId": "1483b0f9-3167-4b00-f066-ed5d1321bb52"
      },
      "execution_count": 14,
      "outputs": [
        {
          "output_type": "stream",
          "name": "stdout",
          "text": [
            "[7 4 8 5 7]\n",
            "[3 7 8 5 4]\n",
            "[10 11 16 10 11]\n"
          ]
        }
      ]
    },
    {
      "cell_type": "code",
      "source": [
        "md(questions.get(4))"
      ],
      "metadata": {
        "colab": {
          "base_uri": "https://localhost:8080/",
          "height": 90
        },
        "id": "nJK5mQTxKDcp",
        "outputId": "376372c0-8d1e-46b6-9e6b-88c2a5fb37b7"
      },
      "execution_count": 15,
      "outputs": [
        {
          "output_type": "execute_result",
          "data": {
            "text/plain": [
              "<IPython.core.display.Markdown object>"
            ],
            "text/markdown": "\n\n## 4. Operações Matemáticas Elementares\nDado um array 1D de números inteiros de 1 a 5, calcule o quadrado de cada elemento usando operações do Numpy"
          },
          "metadata": {},
          "execution_count": 15
        }
      ]
    },
    {
      "cell_type": "code",
      "source": [
        "dummy_array = np.array([1,2,3,4,5])\n",
        "\n",
        "# Option 1\n",
        "print(dummy_array**2)\n",
        "\n",
        "# Option 2\n",
        "print(np.power(dummy_array, 2))"
      ],
      "metadata": {
        "colab": {
          "base_uri": "https://localhost:8080/"
        },
        "id": "OMZg_AxHaaRc",
        "outputId": "1d46918f-5c3a-47cb-ca3c-a5b88718834d"
      },
      "execution_count": 16,
      "outputs": [
        {
          "output_type": "stream",
          "name": "stdout",
          "text": [
            "[ 1  4  9 16 25]\n",
            "[ 1  4  9 16 25]\n"
          ]
        }
      ]
    },
    {
      "cell_type": "code",
      "source": [
        "md(questions.get(5))"
      ],
      "metadata": {
        "colab": {
          "base_uri": "https://localhost:8080/",
          "height": 107
        },
        "id": "Ti1nbO0bL4NT",
        "outputId": "cc80572a-6ced-4870-8074-9c54fb6b0316"
      },
      "execution_count": 17,
      "outputs": [
        {
          "output_type": "execute_result",
          "data": {
            "text/plain": [
              "<IPython.core.display.Markdown object>"
            ],
            "text/markdown": "\n\n## 5. Multiplicação Matricial\nCrie duas matrizes 3x3 de números aleatórios e calcule o produto matricial entre elas usando o método `dot()` do Numpy, utilize também o operador `*` e perceba a diferença"
          },
          "metadata": {},
          "execution_count": 17
        }
      ]
    },
    {
      "cell_type": "code",
      "source": [
        "m1 = np.random.randint(low =1 , high=10,size = (3,3))\n",
        "m2 = np.random.randint(low =1 , high=10, size = (3,3))\n",
        "\n",
        "print(\"Matrix 1:\\n\", m1)\n",
        "print(\"Matrix 2:\\n\", m2)\n",
        "\n",
        "print(\"Matricial operation:\")\n",
        "\n",
        "# Option 1\n",
        "print(m1.dot(m2))\n",
        "\n",
        "# Option 2\n",
        "print(m1@m2)\n",
        "\n",
        "print(\"Element-wise operation:\")\n",
        "print(m1*m2)"
      ],
      "metadata": {
        "colab": {
          "base_uri": "https://localhost:8080/"
        },
        "id": "Rdp5NZ5AzBs7",
        "outputId": "a1d00c50-2bed-476a-d5e5-acb02818677b"
      },
      "execution_count": 18,
      "outputs": [
        {
          "output_type": "stream",
          "name": "stdout",
          "text": [
            "Matrix 1:\n",
            " [[8 8 3]\n",
            " [6 5 2]\n",
            " [8 6 2]]\n",
            "Matrix 2:\n",
            " [[5 1 6]\n",
            " [9 1 3]\n",
            " [7 4 9]]\n",
            "Matricial operation:\n",
            "[[133  28  99]\n",
            " [ 89  19  69]\n",
            " [108  22  84]]\n",
            "[[133  28  99]\n",
            " [ 89  19  69]\n",
            " [108  22  84]]\n",
            "Element-wise operation:\n",
            "[[40  8 18]\n",
            " [54  5  6]\n",
            " [56 24 18]]\n"
          ]
        }
      ]
    },
    {
      "cell_type": "code",
      "source": [
        "md(questions.get(6))"
      ],
      "metadata": {
        "colab": {
          "base_uri": "https://localhost:8080/",
          "height": 90
        },
        "id": "HU0hUAN3OUHR",
        "outputId": "99a84a93-3dec-4420-978e-791dee83c652"
      },
      "execution_count": 19,
      "outputs": [
        {
          "output_type": "execute_result",
          "data": {
            "text/plain": [
              "<IPython.core.display.Markdown object>"
            ],
            "text/markdown": "\n\n## 6. Transposição de Matriz\nCrie uma matriz 4x3 de números aleatórios e calcule sua transposta usando o Numpy"
          },
          "metadata": {},
          "execution_count": 19
        }
      ]
    },
    {
      "cell_type": "code",
      "source": [
        "m = np.random.randn(3,3)\n",
        "print(\"Matrix: \\n\",m)\n",
        "print(\"Transpose Matrix: \\n\", m.T)"
      ],
      "metadata": {
        "colab": {
          "base_uri": "https://localhost:8080/"
        },
        "id": "6G57AknH5lXy",
        "outputId": "26a5bb1f-9b5d-4c6d-ecc8-5b1e94e9c359"
      },
      "execution_count": 20,
      "outputs": [
        {
          "output_type": "stream",
          "name": "stdout",
          "text": [
            "Matrix: \n",
            " [[ 0.12221917 -0.51543566 -0.60025385]\n",
            " [ 0.94743982  0.291034   -0.63555974]\n",
            " [-1.02155219 -0.16175539 -0.5336488 ]]\n",
            "Transpose Matrix: \n",
            " [[ 0.12221917  0.94743982 -1.02155219]\n",
            " [-0.51543566  0.291034   -0.16175539]\n",
            " [-0.60025385 -0.63555974 -0.5336488 ]]\n"
          ]
        }
      ]
    },
    {
      "cell_type": "code",
      "source": [
        "md(questions.get(7))"
      ],
      "metadata": {
        "colab": {
          "base_uri": "https://localhost:8080/",
          "height": 107
        },
        "id": "jBkGUSxN4MCs",
        "outputId": "b071c455-3ca3-4fd4-c3a3-682ee1b17a52"
      },
      "execution_count": 21,
      "outputs": [
        {
          "output_type": "execute_result",
          "data": {
            "text/plain": [
              "<IPython.core.display.Markdown object>"
            ],
            "text/markdown": "\n\n## 7. Produto interno usual\nO que acontece se utilizar o operador `.dot()` ou `@` entre dois arrays do mesmo tamanho? E entre uma matriz e um array ? Lembre-se de respeitar a coerência entre o número de dimensões da matriz e elementos do array"
          },
          "metadata": {},
          "execution_count": 21
        }
      ]
    },
    {
      "cell_type": "code",
      "source": [
        "dummy_array = np.array([1,2,3])\n",
        "dummy_array2 = np.array([3,2,1])\n",
        "\n",
        "dummy_matrix = np.array(range(1,10)).reshape(3,3)\n",
        "\n",
        "print(f\"Array_1: {dummy_array}\")\n",
        "print(f\"Array 2: {dummy_array2}\")\n",
        "print(f\"Matrix :\\n{dummy_matrix}\")\n",
        "\n",
        "print(\"Array_1 @ Array_2 = \", dummy_array @ dummy_array2)\n",
        "\n",
        "print(\"Array_1 @ Matrix = \", dummy_array.dot(dummy_matrix))\n",
        "\n",
        "print(\"Matrix @ Array_1 = \", dummy_matrix.dot(dummy_array))"
      ],
      "metadata": {
        "colab": {
          "base_uri": "https://localhost:8080/"
        },
        "id": "jUBkLkq75_jn",
        "outputId": "e8eaf569-db4c-4028-b04d-270e03a6c3dc"
      },
      "execution_count": 22,
      "outputs": [
        {
          "output_type": "stream",
          "name": "stdout",
          "text": [
            "Array_1: [1 2 3]\n",
            "Array 2: [3 2 1]\n",
            "Matrix :\n",
            "[[1 2 3]\n",
            " [4 5 6]\n",
            " [7 8 9]]\n",
            "Array_1 @ Array_2 =  10\n",
            "Array_1 @ Matrix =  [30 36 42]\n",
            "Matrix @ Array_1 =  [14 32 50]\n"
          ]
        }
      ]
    },
    {
      "cell_type": "code",
      "source": [
        "md(questions.get(8))"
      ],
      "metadata": {
        "colab": {
          "base_uri": "https://localhost:8080/",
          "height": 90
        },
        "id": "x7BdAmXQ4Nh7",
        "outputId": "47608e6b-36f2-4125-b143-1f433bf0c3a1"
      },
      "execution_count": 23,
      "outputs": [
        {
          "output_type": "execute_result",
          "data": {
            "text/plain": [
              "<IPython.core.display.Markdown object>"
            ],
            "text/markdown": "\n\n## 8. Redimensionamento de Arrays\nCrie um array 1D contendo 12 números e redimensione-o para uma matriz 3x4"
          },
          "metadata": {},
          "execution_count": 23
        }
      ]
    },
    {
      "cell_type": "code",
      "source": [
        "np.array(range(12)).reshape(3,4)"
      ],
      "metadata": {
        "colab": {
          "base_uri": "https://localhost:8080/"
        },
        "id": "Ot7S5Ruh7p8v",
        "outputId": "78de501d-2e3c-4d75-f433-5b0bf5e95b1c"
      },
      "execution_count": 24,
      "outputs": [
        {
          "output_type": "execute_result",
          "data": {
            "text/plain": [
              "array([[ 0,  1,  2,  3],\n",
              "       [ 4,  5,  6,  7],\n",
              "       [ 8,  9, 10, 11]])"
            ]
          },
          "metadata": {},
          "execution_count": 24
        }
      ]
    },
    {
      "cell_type": "code",
      "source": [
        "md(questions.get(9))"
      ],
      "metadata": {
        "colab": {
          "base_uri": "https://localhost:8080/",
          "height": 90
        },
        "id": "P41CtPw14PtV",
        "outputId": "f8e4a900-3f19-4954-8c94-a10937f55012"
      },
      "execution_count": 25,
      "outputs": [
        {
          "output_type": "execute_result",
          "data": {
            "text/plain": [
              "<IPython.core.display.Markdown object>"
            ],
            "text/markdown": "\n\n## 9. Indexação e Slicing\nDada uma matriz 5x5 de números aleatórios, extraia a submatriz 2x2 localizada na parte superior direita"
          },
          "metadata": {},
          "execution_count": 25
        }
      ]
    },
    {
      "cell_type": "code",
      "source": [
        "matrix = np.random.randint(low=1, high=10, size=(5,5))\n",
        "print(\"Matrix :\\n\", matrix)\n",
        "\n",
        "print(\"Submatrix :\\n\",matrix[:2, -2:] )"
      ],
      "metadata": {
        "colab": {
          "base_uri": "https://localhost:8080/"
        },
        "id": "buX2n2AE9TD0",
        "outputId": "12a66c04-962e-477b-bd80-76965f4120e4"
      },
      "execution_count": 26,
      "outputs": [
        {
          "output_type": "stream",
          "name": "stdout",
          "text": [
            "Matrix :\n",
            " [[1 4 2 8 4]\n",
            " [2 6 6 4 6]\n",
            " [2 2 4 8 7]\n",
            " [9 8 5 2 5]\n",
            " [8 9 9 1 9]]\n",
            "Submatrix :\n",
            " [[8 4]\n",
            " [4 6]]\n"
          ]
        }
      ]
    },
    {
      "cell_type": "code",
      "source": [
        "md(questions.get(10))"
      ],
      "metadata": {
        "colab": {
          "base_uri": "https://localhost:8080/",
          "height": 107
        },
        "id": "bhyqK0Kq-UFW",
        "outputId": "49525fbc-314d-4793-efc1-bb4bc2d5cc6e"
      },
      "execution_count": 27,
      "outputs": [
        {
          "output_type": "execute_result",
          "data": {
            "text/plain": [
              "<IPython.core.display.Markdown object>"
            ],
            "text/markdown": "\n\n## 10. Operações Lógicas\nCrie um array 1D de 10 números inteiros aleatórios. Verifique quais elementos são maiores que 5 e exiba o resultado como um array booleano e também os valores acima de 5"
          },
          "metadata": {},
          "execution_count": 27
        }
      ]
    },
    {
      "cell_type": "code",
      "source": [
        "int_array = np.random.randint(low=1, high=10, size = 10)\n",
        "bool_array = int_array > 5\n",
        "print(int_array)\n",
        "print(bool_array)\n",
        "print(int_array[bool_array])"
      ],
      "metadata": {
        "colab": {
          "base_uri": "https://localhost:8080/"
        },
        "id": "q9zSGgwe-gDF",
        "outputId": "1d983609-96ed-4e57-fba6-61be3f50b94a"
      },
      "execution_count": 28,
      "outputs": [
        {
          "output_type": "stream",
          "name": "stdout",
          "text": [
            "[7 9 8 1 8 8 3 1 8 3]\n",
            "[ True  True  True False  True  True False False  True False]\n",
            "[7 9 8 8 8 8]\n"
          ]
        }
      ]
    },
    {
      "cell_type": "code",
      "source": [
        "md(questions.get(11))"
      ],
      "metadata": {
        "colab": {
          "base_uri": "https://localhost:8080/",
          "height": 90
        },
        "id": "1GXibM_Q-XoW",
        "outputId": "5822dd5e-7c36-4a31-b1e5-54dd29b61f52"
      },
      "execution_count": 29,
      "outputs": [
        {
          "output_type": "execute_result",
          "data": {
            "text/plain": [
              "<IPython.core.display.Markdown object>"
            ],
            "text/markdown": "\n\n## 11. Cálculo de Média e Desvio Padrão\nDada uma matriz 4x4 de números inteiros aleatórios, calcule a média e o desvio padrão utilizando todos os elementos"
          },
          "metadata": {},
          "execution_count": 29
        }
      ]
    },
    {
      "cell_type": "code",
      "source": [
        "int_matrix = np.random.randint(low=1, high=16, size = (4,4))\n",
        "print(\"Matrix:\\n\", int_matrix)\n",
        "print(\"Mean: \", int_matrix.mean())\n",
        "print(\"Std: \", int_matrix.std())"
      ],
      "metadata": {
        "colab": {
          "base_uri": "https://localhost:8080/"
        },
        "id": "TaqG7oh0___z",
        "outputId": "5ab45a56-a8c4-4663-995f-63a3261f5e1a"
      },
      "execution_count": 30,
      "outputs": [
        {
          "output_type": "stream",
          "name": "stdout",
          "text": [
            "Matrix:\n",
            " [[ 3  1 11  5]\n",
            " [10  7 10  9]\n",
            " [12  7  9  8]\n",
            " [12  2  1  7]]\n",
            "Mean:  7.125\n",
            "Std:  3.6206870894900596\n"
          ]
        }
      ]
    },
    {
      "cell_type": "code",
      "source": [
        "md(questions.get(12))"
      ],
      "metadata": {
        "colab": {
          "base_uri": "https://localhost:8080/",
          "height": 90
        },
        "id": "JKJmAZ1Y-Zm_",
        "outputId": "9b044a54-733d-4034-8af7-1419aaaa5b8a"
      },
      "execution_count": 31,
      "outputs": [
        {
          "output_type": "execute_result",
          "data": {
            "text/plain": [
              "<IPython.core.display.Markdown object>"
            ],
            "text/markdown": "\n\n## 12. Matrizes de Zeros e Uns\nCrie uma matriz 5x5 de zeros e outra de uns usando os métodos `zeros()` e `ones()` do Numpy"
          },
          "metadata": {},
          "execution_count": 31
        }
      ]
    },
    {
      "cell_type": "code",
      "source": [
        "print(\"Zeros: \\n\", np.zeros(shape = (5,5)))\n",
        "print(\"Ones: \\n\", np.ones(shape = (5,5)))"
      ],
      "metadata": {
        "colab": {
          "base_uri": "https://localhost:8080/"
        },
        "id": "gtITBE4mAgdm",
        "outputId": "3a844f0c-c10d-4aa6-df41-6a8d25390afe"
      },
      "execution_count": 32,
      "outputs": [
        {
          "output_type": "stream",
          "name": "stdout",
          "text": [
            "Zeros: \n",
            " [[0. 0. 0. 0. 0.]\n",
            " [0. 0. 0. 0. 0.]\n",
            " [0. 0. 0. 0. 0.]\n",
            " [0. 0. 0. 0. 0.]\n",
            " [0. 0. 0. 0. 0.]]\n",
            "Ones: \n",
            " [[1. 1. 1. 1. 1.]\n",
            " [1. 1. 1. 1. 1.]\n",
            " [1. 1. 1. 1. 1.]\n",
            " [1. 1. 1. 1. 1.]\n",
            " [1. 1. 1. 1. 1.]]\n"
          ]
        }
      ]
    },
    {
      "cell_type": "code",
      "source": [
        "md(questions.get(13))"
      ],
      "metadata": {
        "colab": {
          "base_uri": "https://localhost:8080/",
          "height": 90
        },
        "id": "WYtReruq-aXS",
        "outputId": "d26792e2-2ea4-4e7e-ca3d-214d0fa7b358"
      },
      "execution_count": 33,
      "outputs": [
        {
          "output_type": "execute_result",
          "data": {
            "text/plain": [
              "<IPython.core.display.Markdown object>"
            ],
            "text/markdown": "\n\n## 13. Concatenação de Arrays\nCrie dois arrays 1D de tamanho 3 e concatene-os tanto horizontalmente quanto verticalmente"
          },
          "metadata": {},
          "execution_count": 33
        }
      ]
    },
    {
      "cell_type": "code",
      "source": [
        "a1 = np.array(range(3))\n",
        "a2 = np.array(range(3,6))\n",
        "\n",
        "print(\"Horizontal: \",np.hstack((a1, a2)))\n",
        "print(\"Vertical: \\n\",np.vstack((a1, a2)))"
      ],
      "metadata": {
        "colab": {
          "base_uri": "https://localhost:8080/"
        },
        "id": "YZiBIejyA3Ss",
        "outputId": "569fb2f5-1eb1-454d-8886-863c73625ff9"
      },
      "execution_count": 34,
      "outputs": [
        {
          "output_type": "stream",
          "name": "stdout",
          "text": [
            "Horizontal:  [0 1 2 3 4 5]\n",
            "Vertical: \n",
            " [[0 1 2]\n",
            " [3 4 5]]\n"
          ]
        }
      ]
    },
    {
      "cell_type": "code",
      "source": [
        "md(questions.get(14))"
      ],
      "metadata": {
        "colab": {
          "base_uri": "https://localhost:8080/",
          "height": 90
        },
        "id": "1MudP68F-bLb",
        "outputId": "e48d7014-f939-488c-804f-f2501301a3cd"
      },
      "execution_count": 35,
      "outputs": [
        {
          "output_type": "execute_result",
          "data": {
            "text/plain": [
              "<IPython.core.display.Markdown object>"
            ],
            "text/markdown": "\n\n## 14. Geração de Linspace\nUse o método `linspace()` para gerar um array de 10 elementos igualmente espaçados entre 0 e 1. Exiba o array"
          },
          "metadata": {},
          "execution_count": 35
        }
      ]
    },
    {
      "cell_type": "code",
      "source": [
        "np.linspace(start = 0, stop = 1, num = 10)"
      ],
      "metadata": {
        "colab": {
          "base_uri": "https://localhost:8080/"
        },
        "id": "n-WOuVFvB6R_",
        "outputId": "97dd7c3e-a775-436d-a753-5295d7eceaff"
      },
      "execution_count": 36,
      "outputs": [
        {
          "output_type": "execute_result",
          "data": {
            "text/plain": [
              "array([0.        , 0.11111111, 0.22222222, 0.33333333, 0.44444444,\n",
              "       0.55555556, 0.66666667, 0.77777778, 0.88888889, 1.        ])"
            ]
          },
          "metadata": {},
          "execution_count": 36
        }
      ]
    },
    {
      "cell_type": "code",
      "source": [
        "md(questions.get(15))"
      ],
      "metadata": {
        "colab": {
          "base_uri": "https://localhost:8080/",
          "height": 90
        },
        "id": "_INhA2CR-cJf",
        "outputId": "a668b64f-0aad-41c7-82b7-3de4657eb7c1"
      },
      "execution_count": 37,
      "outputs": [
        {
          "output_type": "execute_result",
          "data": {
            "text/plain": [
              "<IPython.core.display.Markdown object>"
            ],
            "text/markdown": "\n\n## 15. Extração de Diagonal de Matriz\nDada uma matriz 4x4 de números aleatórios, extraia os elementos da diagonal principal usando o método `diag()` do Numpy"
          },
          "metadata": {},
          "execution_count": 37
        }
      ]
    },
    {
      "cell_type": "code",
      "source": [
        "matrix = np.random.randint(low=1, high=16, size = (4,4))\n",
        "\n",
        "print(\"Matrix: \\n\", matrix)\n",
        "print(\"Matrix Diag: \\n\", np.diag(matrix))"
      ],
      "metadata": {
        "colab": {
          "base_uri": "https://localhost:8080/"
        },
        "id": "SGdUddaiCMa2",
        "outputId": "eaec525f-30f6-4747-b192-9d584df5ce67"
      },
      "execution_count": 38,
      "outputs": [
        {
          "output_type": "stream",
          "name": "stdout",
          "text": [
            "Matrix: \n",
            " [[ 7 14  8  5]\n",
            " [ 3 12  8  6]\n",
            " [11  3  1  3]\n",
            " [ 5 15 14  3]]\n",
            "Matrix Diag: \n",
            " [ 7 12  1  3]\n"
          ]
        }
      ]
    }
  ]
}