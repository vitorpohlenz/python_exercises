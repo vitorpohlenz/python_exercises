{
  "nbformat": 4,
  "nbformat_minor": 0,
  "metadata": {
    "colab": {
      "provenance": [],
      "gpuType": "T4",
      "include_colab_link": true
    },
    "kernelspec": {
      "name": "python3",
      "display_name": "Python 3"
    },
    "language_info": {
      "name": "python"
    },
    "accelerator": "GPU"
  },
  "cells": [
    {
      "cell_type": "markdown",
      "metadata": {
        "id": "view-in-github",
        "colab_type": "text"
      },
      "source": [
        "<a href=\"https://colab.research.google.com/github/vitorpohlenz/python_exercises/blob/list_10/solutions/Exercises_Solutions_10.ipynb\" target=\"_parent\"><img src=\"https://colab.research.google.com/assets/colab-badge.svg\" alt=\"Open In Colab\"/></a>"
      ]
    },
    {
      "cell_type": "markdown",
      "source": [
        "# Language\n",
        "\n",
        "[EN] Please select the language.\n",
        "\n",
        "[PT] Por favor selecione a linguadem."
      ],
      "metadata": {
        "id": "jM3IdlPQourA"
      }
    },
    {
      "cell_type": "code",
      "source": [
        "# 'PTBR': Português\n",
        "# 'EN': English\n",
        "LANGUAGE = 'PTBR'"
      ],
      "metadata": {
        "id": "7oPN-pqODga1"
      },
      "execution_count": 1,
      "outputs": []
    },
    {
      "cell_type": "markdown",
      "source": [
        "# Setup"
      ],
      "metadata": {
        "id": "089nyz4hDnri"
      }
    },
    {
      "cell_type": "code",
      "source": [
        "import os\n",
        "import numpy as np\n",
        "import torch\n",
        "import torch.nn as nn\n",
        "import torch.optim as optim\n",
        "import seaborn as sns\n",
        "import pandas as pd\n",
        "from sklearn.model_selection import train_test_split\n",
        "from sklearn.preprocessing import MinMaxScaler\n",
        "from sklearn.datasets import load_iris\n",
        "from sklearn.metrics import accuracy_score, confusion_matrix\n",
        "import matplotlib.pyplot as plt\n",
        "import seaborn as sns\n",
        "from IPython.display import Markdown as md # Displaying Markdown as \"prints\""
      ],
      "metadata": {
        "id": "vkCd1GdARJsh"
      },
      "execution_count": 2,
      "outputs": []
    },
    {
      "cell_type": "markdown",
      "source": [
        "<font color = \"yellow\">[EN] Please do not change the following code! </font>\n",
        "\n",
        "<font color = \"yellow\">[PT] Por favor não altere o código abaixo! </font>"
      ],
      "metadata": {
        "id": "ZyfGjTf0DZxV"
      }
    },
    {
      "cell_type": "code",
      "source": [
        "!git clone https://github.com/vitorpohlenz/python_exercises.git --branch list_10 --single-branch"
      ],
      "metadata": {
        "colab": {
          "base_uri": "https://localhost:8080/"
        },
        "id": "XaX4qBnViWOM",
        "outputId": "ddfa6f73-2553-4585-f6cb-1583eb18a742"
      },
      "execution_count": 3,
      "outputs": [
        {
          "output_type": "stream",
          "name": "stdout",
          "text": [
            "Cloning into 'python_exercises'...\n",
            "remote: Enumerating objects: 82, done.\u001b[K\n",
            "remote: Counting objects: 100% (44/44), done.\u001b[K\n",
            "remote: Compressing objects: 100% (40/40), done.\u001b[K\n",
            "remote: Total 82 (delta 19), reused 11 (delta 4), pack-reused 38 (from 1)\u001b[K\n",
            "Receiving objects: 100% (82/82), 606.41 KiB | 9.78 MiB/s, done.\n",
            "Resolving deltas: 100% (29/29), done.\n"
          ]
        }
      ]
    },
    {
      "cell_type": "code",
      "source": [
        "# Reading Markdown file with the exercises.\n",
        "with open(f'python_exercises/exercises/List_10_{LANGUAGE}.md','r') as file:\n",
        "  exercises_raw = file.read()"
      ],
      "metadata": {
        "id": "e9gtnBc5qWlF"
      },
      "execution_count": 4,
      "outputs": []
    },
    {
      "cell_type": "code",
      "source": [
        "# Header of the file.\n",
        "header = exercises_raw.split('## 1')[0]"
      ],
      "metadata": {
        "id": "YlOOasNnsyWI"
      },
      "execution_count": 5,
      "outputs": []
    },
    {
      "cell_type": "code",
      "source": [
        "# Raw string with the questions.\n",
        "questions_raw = exercises_raw.replace(header,'')"
      ],
      "metadata": {
        "id": "OOrf0QHrtqFB"
      },
      "execution_count": 6,
      "outputs": []
    },
    {
      "cell_type": "code",
      "source": [
        "# Putting the questions in to a dict to be displayed.\n",
        "questions = dict()\n",
        "for q_string in questions_raw.split(';'):\n",
        "  if '## ' in q_string:\n",
        "    q_num = int(q_string.replace('## ','').split('.')[0])\n",
        "    questions[q_num] = q_string"
      ],
      "metadata": {
        "id": "H8LW6njsu8_a"
      },
      "execution_count": 7,
      "outputs": []
    },
    {
      "cell_type": "markdown",
      "source": [
        "# Suggested Solutions\n",
        "[EN] The solutions provided are just suggestions, there are other possible solutions.\n",
        "\n",
        "For now on <font color = \"whitegreen\"> feel free to change</font> the code if you want, and <font color = \"yellow\"> please report any issues!</font>\n",
        "\n",
        "[PT] As soluções fornecidas aqui são apenas sugestões, existem outras soluções possíveis.\n",
        "\n",
        "Daqui em diante <font color = \"whitegreen\"> fique a vontade para modificar</font> o código se quiser, e <font color = \"yellow\"> por favor reportem qualquer problema!</font>\n",
        "\n"
      ],
      "metadata": {
        "id": "XKoDYjHbD2v7"
      }
    },
    {
      "cell_type": "code",
      "source": [
        "md(header)"
      ],
      "metadata": {
        "colab": {
          "base_uri": "https://localhost:8080/",
          "height": 74
        },
        "id": "6qlj9ap3ta0O",
        "outputId": "fad149e7-71b7-4dcd-8b4c-c24a996fb46d"
      },
      "execution_count": 8,
      "outputs": [
        {
          "output_type": "execute_result",
          "data": {
            "text/plain": [
              "<IPython.core.display.Markdown object>"
            ],
            "text/markdown": "# Exercícios PyTorch\n\n"
          },
          "metadata": {},
          "execution_count": 8
        }
      ]
    },
    {
      "cell_type": "markdown",
      "source": [
        "> [EN] Note: In this notebook used these imports.\n",
        "\n",
        "> [PT] Nota: Neste notebook são utilizadas essas importações.\n",
        "\n",
        "```\n",
        "import numpy as np\n",
        "from numba import jit, cuda\n",
        "import cupy as cp\n",
        "import math\n",
        "import time\n",
        "```"
      ],
      "metadata": {
        "id": "3OtGECfx-K_h"
      }
    },
    {
      "cell_type": "code",
      "source": [
        "md(questions.get(1))"
      ],
      "metadata": {
        "colab": {
          "base_uri": "https://localhost:8080/",
          "height": 211
        },
        "id": "L6NhrdF7wGCA",
        "outputId": "f841776b-a796-43ba-831e-421c4d55a791"
      },
      "execution_count": 9,
      "outputs": [
        {
          "output_type": "execute_result",
          "data": {
            "text/plain": [
              "<IPython.core.display.Markdown object>"
            ],
            "text/markdown": "## 1. Regressão com o Dataset Penguins\nUtilize o dataset `penguins` disponível na biblioteca `seaborn` para construir um modelo de regressão com PyTorch.\n\nO objetivo é prever a massa corporal (`body_mass_g`) dos pinguins com base em atributos como o comprimento do bico (`bill_length_mm`) e a profundidade do bico (`bill_depth_mm`).\n\nCarregue o dataset utilizando `seaborn.load_dataset('penguins')` e então treine um modelo linear e avalie o resultado no conjunto de teste, após treine um modelo não linear e avalie o resultado no conjunto de teste. \n\n> Por que existe essa diferença?\n"
          },
          "metadata": {},
          "execution_count": 9
        }
      ]
    },
    {
      "cell_type": "code",
      "source": [
        "# Loading Penguins dataset\n",
        "data = sns.load_dataset(\"penguins\").dropna()\n",
        "\n",
        "# Features and target\n",
        "features_names = ['bill_length_mm', 'bill_depth_mm']\n",
        "target_name = 'body_mass_g'\n",
        "\n",
        "X = data[features_names].values\n",
        "y = data[target_name].values.reshape(-1, 1)\n",
        "\n",
        "# Normalizing the data\n",
        "scaler_X = MinMaxScaler()\n",
        "X = scaler_X.fit_transform(X)\n",
        "\n",
        "# Train, test split\n",
        "X_train, X_test, y_train, y_test = train_test_split(X, y, test_size=0.2, random_state=42)\n",
        "\n",
        "# PyTorch tensors\n",
        "X_train = torch.tensor(X_train, dtype=torch.float32)\n",
        "y_train = torch.tensor(y_train, dtype=torch.float32)\n",
        "X_test = torch.tensor(X_test, dtype=torch.float32)\n",
        "y_test = torch.tensor(y_test, dtype=torch.float32)\n",
        "\n",
        "# Linear regression model\n",
        "class LinearRegressionModel(nn.Module):\n",
        "    def __init__(self):\n",
        "        super(LinearRegressionModel, self).__init__()\n",
        "        self.linear = nn.Linear(2, 1)\n",
        "\n",
        "    def forward(self, x):\n",
        "        return self.linear(x)\n",
        "\n",
        "model = LinearRegressionModel()\n",
        "\n",
        "\n",
        "# 5 layers non linear model\n",
        "class NonLinearRegressionModel(nn.Module):\n",
        "    def __init__(self):\n",
        "        super(NonLinearRegressionModel, self).__init__()\n",
        "        self.network = nn.Sequential(\n",
        "            nn.Linear(2, 64),\n",
        "            nn.ReLU(),\n",
        "            nn.Linear(64, 128),\n",
        "            nn.ReLU(),\n",
        "            nn.Linear(128, 64),\n",
        "            nn.ReLU(),\n",
        "            nn.Linear(64, 32),\n",
        "            nn.ReLU(),\n",
        "            nn.Linear(32, 1)\n",
        "        )\n",
        "\n",
        "    def forward(self, x):\n",
        "        return self.network(x)\n",
        "\n",
        "model_nonlinear = NonLinearRegressionModel()\n",
        "\n",
        "# Loss function and optmizer\n",
        "criterion = nn.MSELoss()\n",
        "optimizer = optim.SGD(model.parameters(), lr=0.001)\n",
        "optimizer_non_linear = optim.Adam(model_nonlinear.parameters(), lr=0.001)\n",
        "\n",
        "\n",
        "# Treinar o modelo\n",
        "epochs = 1000\n",
        "losses_non_linear = []\n",
        "for epoch in range(epochs):\n",
        "    model_nonlinear.train()\n",
        "    optimizer_non_linear.zero_grad()\n",
        "    outputs_non_linear = model_nonlinear(X_train)\n",
        "    loss_non_linear = criterion(outputs_non_linear, y_train)\n",
        "    loss_non_linear.backward()\n",
        "    optimizer_non_linear.step()\n",
        "    losses_non_linear.append(loss_non_linear.item())\n",
        "\n",
        "# Training\n",
        "epochs = 1000\n",
        "losses = []\n",
        "losses_non_linear = []\n",
        "for epoch in range(epochs):\n",
        "  # Linear\n",
        "    model.train()\n",
        "    optimizer.zero_grad()\n",
        "    outputs = model(X_train)\n",
        "    loss = criterion(outputs, y_train)\n",
        "    loss.backward()\n",
        "    optimizer.step()\n",
        "    losses.append(loss.item())\n",
        "\n",
        "  # Non Linear\n",
        "    model_nonlinear.train()\n",
        "    optimizer_non_linear.zero_grad()\n",
        "    outputs_non_linear = model_nonlinear(X_train)\n",
        "    loss_non_linear = criterion(outputs_non_linear, y_train)\n",
        "    loss_non_linear.backward()\n",
        "    optimizer_non_linear.step()\n",
        "    losses_non_linear.append(loss_non_linear.item())\n",
        "\n",
        "# Evaluating\n",
        "model.eval()\n",
        "with torch.no_grad():\n",
        "  # Linear\n",
        "    predictions = model(X_test)\n",
        "    test_loss = criterion(predictions, y_test)\n",
        "    print(f\"Root Mean Squared Error on Test Set (Linear Model): {np.sqrt(test_loss.item())}\")\n",
        "  # Non Linear\n",
        "    predictions_non_linear = model_nonlinear(X_test)\n",
        "    test_loss_non_linear = criterion(predictions_non_linear, y_test)\n",
        "    print(f\"Root Mean Squared Error on Test Set (Non-Linear Model): {np.sqrt(test_loss_non_linear.item())}\")\n",
        "\n",
        "\n",
        "    # Plotting errors\n",
        "    plt.scatter(x=range(len(y_test)), y = y_test - predictions, label=\"Linear\")\n",
        "    plt.scatter(x=range(len(y_test)), y = y_test - predictions_non_linear, label=\"Non Linear\")\n",
        "    plt.xlabel(\"Index\")\n",
        "    plt.ylabel(\"Errors (g)\")\n",
        "    plt.legend()\n",
        "    plt.show()\n"
      ],
      "metadata": {
        "id": "ZWCk-bIKBOqH",
        "colab": {
          "base_uri": "https://localhost:8080/",
          "height": 485
        },
        "outputId": "f9e512a9-2906-4ce8-b74e-f88d96ec355b"
      },
      "execution_count": 10,
      "outputs": [
        {
          "output_type": "stream",
          "name": "stdout",
          "text": [
            "Root Mean Squared Error on Test Set (Linear Model): 851.7344069602918\n",
            "Root Mean Squared Error on Test Set (Non-Linear Model): 510.0194389677711\n"
          ]
        },
        {
          "output_type": "display_data",
          "data": {
            "text/plain": [
              "<Figure size 640x480 with 1 Axes>"
            ],
            "image/png": "[encoded data removed]"
          },
          "metadata": {}
        }
      ]
    },
    {
      "cell_type": "code",
      "source": [
        "md(questions.get(2))"
      ],
      "metadata": {
        "colab": {
          "base_uri": "https://localhost:8080/",
          "height": 107
        },
        "id": "KvYXsTP89uEK",
        "outputId": "a9720a45-9ab4-4159-bb6a-5d540ddb215d"
      },
      "execution_count": 11,
      "outputs": [
        {
          "output_type": "execute_result",
          "data": {
            "text/plain": [
              "<IPython.core.display.Markdown object>"
            ],
            "text/markdown": "\n\n## 2. Classificação com o Dataset Iris\nTreine um modelo de classificação com PyTorch para prever a espécie de cada flor no dataset Iris com base em suas características.\nPara tal, carregue esse data set utilizando a função `load_iris()` disponível em `sklearn.datasets`."
          },
          "metadata": {},
          "execution_count": 11
        }
      ]
    },
    {
      "cell_type": "code",
      "source": [
        "# Loading Iris dataset\n",
        "iris = load_iris()\n",
        "X = iris.data  # Features (4)\n",
        "y = iris.target  # Classes (0, 1, 2)\n",
        "\n",
        "# Train, test split (80%) (20%)\n",
        "X_train, X_test, y_train, y_test = train_test_split(X, y, test_size=0.2, random_state=42)\n",
        "\n",
        "# Normalizing the features\n",
        "scaler = MinMaxScaler()\n",
        "X_train = scaler.fit_transform(X_train)\n",
        "X_test = scaler.transform(X_test)\n",
        "\n",
        "# Converting to PyTorch tensors\n",
        "X_train = torch.tensor(X_train, dtype=torch.float32)\n",
        "X_test = torch.tensor(X_test, dtype=torch.float32)\n",
        "y_train = torch.tensor(y_train, dtype=torch.long)  # For classification\n",
        "y_test = torch.tensor(y_test, dtype=torch.long)\n",
        "\n",
        "# Classification model\n",
        "class IrisClassifier(nn.Module):\n",
        "    def __init__(self):\n",
        "        super(IrisClassifier, self).__init__()\n",
        "        self.network = nn.Sequential(\n",
        "            nn.Linear(4, 16),\n",
        "            nn.ReLU(),\n",
        "            nn.Linear(16, 3),\n",
        "            nn.Softmax(dim=1)\n",
        "        )\n",
        "\n",
        "    def forward(self, x):\n",
        "        return self.network(x)\n",
        "\n",
        "model = IrisClassifier()\n",
        "\n",
        "# Loss function and optmizer\n",
        "criterion = nn.CrossEntropyLoss()\n",
        "optimizer = optim.Adam(model.parameters(), lr=0.01)\n",
        "\n",
        "# Training\n",
        "epochs = 200\n",
        "losses = []\n",
        "for epoch in range(epochs):\n",
        "    model.train()\n",
        "    optimizer.zero_grad()\n",
        "    outputs = model(X_train)\n",
        "    loss = criterion(outputs, y_train)\n",
        "    loss.backward()\n",
        "    optimizer.step()\n",
        "    losses.append(loss.item())\n",
        "    if (epoch + 1) % 100 == 0:\n",
        "        print(f\"Epoch {epoch + 1}/{epochs}, Loss: {loss.item()}\")\n",
        "\n",
        "# Model evaluation\n",
        "model.eval()\n",
        "with torch.no_grad():\n",
        "    predictions = model(X_test)\n",
        "    _, predicted_classes = torch.max(predictions, 1)\n",
        "    accuracy = accuracy_score(y_test.numpy(), predicted_classes.numpy())\n",
        "    print(f\"Accuracy on Test Set: {accuracy:.2f}\")\n",
        "\n",
        "    # Confusion Matrix\n",
        "    cm = confusion_matrix(y_test.numpy(), predicted_classes.numpy())\n",
        "    sns.heatmap(cm, annot=True, fmt=\"d\", cmap=\"Blues\", xticklabels=iris.target_names, yticklabels=iris.target_names)\n",
        "    plt.xlabel(\"Predicted\")\n",
        "    plt.ylabel(\"Actual\")\n",
        "    plt.title(\"Confusion Matrix\")\n",
        "    plt.show()\n",
        "\n",
        "# Loss curves\n",
        "plt.plot(range(epochs), losses)\n",
        "plt.xlabel(\"Epoch\")\n",
        "plt.ylabel(\"Loss\")\n",
        "plt.title(\"Training Loss Curve\")\n",
        "plt.show()\n"
      ],
      "metadata": {
        "colab": {
          "base_uri": "https://localhost:8080/",
          "height": 979
        },
        "id": "9lQum8i6btjY",
        "outputId": "cb276c0d-f616-41ab-cca4-91466690acde"
      },
      "execution_count": 12,
      "outputs": [
        {
          "output_type": "stream",
          "name": "stdout",
          "text": [
            "Epoch 100/200, Loss: 0.6451584696769714\n",
            "Epoch 200/200, Loss: 0.5893081426620483\n",
            "Accuracy on Test Set: 0.97\n"
          ]
        },
        {
          "output_type": "display_data",
          "data": {
            "text/plain": [
              "<Figure size 640x480 with 2 Axes>"
            ],
            "image/png": "[encoded data removed]"
          },
          "metadata": {}
        },
        {
          "output_type": "display_data",
          "data": {
            "text/plain": [
              "<Figure size 640x480 with 1 Axes>"
            ],
            "image/png": "[encoded data removed]"
          },
          "metadata": {}
        }
      ]
    }
  ]
}