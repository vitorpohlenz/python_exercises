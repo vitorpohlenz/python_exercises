{
  "nbformat": 4,
  "nbformat_minor": 0,
  "metadata": {
    "colab": {
      "provenance": [],
      "include_colab_link": true
    },
    "kernelspec": {
      "name": "python3",
      "display_name": "Python 3"
    },
    "language_info": {
      "name": "python"
    }
  },
  "cells": [
    {
      "cell_type": "markdown",
      "metadata": {
        "id": "view-in-github",
        "colab_type": "text"
      },
      "source": [
        "<a href=\"https://colab.research.google.com/github/vitorpohlenz/python_exercises/blob/class_1/solutions/Exercises_Solutions_1.ipynb\" target=\"_parent\"><img src=\"https://colab.research.google.com/assets/colab-badge.svg\" alt=\"Open In Colab\"/></a>"
      ]
    },
    {
      "cell_type": "markdown",
      "source": [
        "# Setup"
      ],
      "metadata": {
        "id": "vDWvGJQhL9ga"
      }
    },
    {
      "cell_type": "markdown",
      "source": [
        "<font color = \"yellow\">[EN] Please do not change the following code! </font>\n",
        "\n",
        "<font color = \"yellow\">[PT] Por favor não altere o código abaixo! </font>"
      ],
      "metadata": {
        "id": "jM3IdlPQourA"
      }
    },
    {
      "cell_type": "code",
      "source": [
        "import os\n",
        "import math\n",
        "import numpy as np\n",
        "import random\n",
        "import string as string_module\n",
        "import re\n",
        "from IPython.display import Markdown as md # Displaying Markdown as \"prints\""
      ],
      "metadata": {
        "id": "L_LyBYYrr-cn"
      },
      "execution_count": 157,
      "outputs": []
    },
    {
      "cell_type": "code",
      "source": [
        "!git clone https://github.com/vitorpohlenz/python_exercises.git --branch class_1 --single-branch"
      ],
      "metadata": {
        "colab": {
          "base_uri": "https://localhost:8080/"
        },
        "id": "XaX4qBnViWOM",
        "outputId": "46c92bbc-f5d6-46c8-8dbd-ab44b6d5aa5e"
      },
      "execution_count": 2,
      "outputs": [
        {
          "output_type": "stream",
          "name": "stdout",
          "text": [
            "Cloning into 'python_exercises'...\n",
            "remote: Enumerating objects: 20, done.\u001b[K\n",
            "remote: Counting objects: 100% (20/20), done.\u001b[K\n",
            "remote: Compressing objects: 100% (14/14), done.\u001b[K\n",
            "remote: Total 20 (delta 3), reused 12 (delta 2), pack-reused 0 (from 0)\u001b[K\n",
            "Receiving objects: 100% (20/20), 4.49 KiB | 4.49 MiB/s, done.\n",
            "Resolving deltas: 100% (3/3), done.\n"
          ]
        }
      ]
    },
    {
      "cell_type": "code",
      "source": [
        "# Reading Markdown file with the exercises.\n",
        "with open('python_exercises/exercises/List_1_PTBR.md','r') as file:\n",
        "  exercises_raw = file.read()"
      ],
      "metadata": {
        "id": "e9gtnBc5qWlF"
      },
      "execution_count": 3,
      "outputs": []
    },
    {
      "cell_type": "code",
      "source": [
        "# Header of the file.\n",
        "header = exercises_raw.split('## 1')[0]"
      ],
      "metadata": {
        "id": "YlOOasNnsyWI"
      },
      "execution_count": 4,
      "outputs": []
    },
    {
      "cell_type": "code",
      "source": [
        "# Raw string with the questions.\n",
        "questions_raw = exercises_raw.replace(header,'')"
      ],
      "metadata": {
        "id": "OOrf0QHrtqFB"
      },
      "execution_count": 5,
      "outputs": []
    },
    {
      "cell_type": "code",
      "source": [
        "# Putting the questions in to a dict to be displayed.\n",
        "questions = dict()\n",
        "for q_string in questions_raw.split(';'):\n",
        "  if '## ' in q_string:\n",
        "    q_num = int(q_string.replace('## ','').split('.')[0])\n",
        "    questions[q_num] = q_string"
      ],
      "metadata": {
        "id": "H8LW6njsu8_a"
      },
      "execution_count": 6,
      "outputs": []
    },
    {
      "cell_type": "markdown",
      "source": [
        "# Suggested Solutions\n",
        "[EN] The solutions provided are just suggestions, there are other possible solutions.\n",
        "\n",
        "For now on <font color = \"whitegreen\"> feel free to change</font> the code if you want, and <font color = \"yellow\"> please report any issues!</font>\n",
        "\n",
        "[PT] As soluções fornecidas aqui são apenas sugestões, existem outras soluções possíveis.\n",
        "\n",
        "Daqui em diante <font color = \"whitegreen\"> fique a vontade para modificar</font> o código se quiser, e <font color = \"yellow\"> por favor reportem qualquer problema!</font>\n",
        "\n"
      ],
      "metadata": {
        "id": "XKoDYjHbD2v7"
      }
    },
    {
      "cell_type": "code",
      "source": [
        "md(header)"
      ],
      "metadata": {
        "colab": {
          "base_uri": "https://localhost:8080/",
          "height": 74
        },
        "id": "6qlj9ap3ta0O",
        "outputId": "83665360-9290-4834-ee59-91d92057a8b2"
      },
      "execution_count": 7,
      "outputs": [
        {
          "output_type": "execute_result",
          "data": {
            "text/plain": [
              "<IPython.core.display.Markdown object>"
            ],
            "text/markdown": "\n# Lista de Exercícios Básicos de Python\n\n"
          },
          "metadata": {},
          "execution_count": 7
        }
      ]
    },
    {
      "cell_type": "code",
      "source": [
        "md(questions.get(1))"
      ],
      "metadata": {
        "colab": {
          "base_uri": "https://localhost:8080/",
          "height": 90
        },
        "id": "gykgNQRhtEa5",
        "outputId": "9d164571-b077-47d5-b3a1-448b59ce0696"
      },
      "execution_count": 8,
      "outputs": [
        {
          "output_type": "execute_result",
          "data": {
            "text/plain": [
              "<IPython.core.display.Markdown object>"
            ],
            "text/markdown": "## 1. Soma de Dois Números\nPeça ao usuário dois números inteiros e exiba a soma deles"
          },
          "metadata": {},
          "execution_count": 8
        }
      ]
    },
    {
      "cell_type": "code",
      "source": [
        "number_1 = input('Number 1: ')\n",
        "number_2 = input('Number 2: ')\n",
        "print(f'The sum of {number_1} and {number_2} is {int(number_1) + int(number_2)}')"
      ],
      "metadata": {
        "colab": {
          "base_uri": "https://localhost:8080/"
        },
        "id": "msX1M_cPFRZv",
        "outputId": "296d1ef8-76ac-4184-ff07-3d1685c83250"
      },
      "execution_count": 9,
      "outputs": [
        {
          "output_type": "stream",
          "name": "stdout",
          "text": [
            "Number 1: 10\n",
            "Number 2: 22\n",
            "The sum of 10 and 22 is 32\n"
          ]
        }
      ]
    },
    {
      "cell_type": "code",
      "source": [
        "md(questions.get(2))"
      ],
      "metadata": {
        "colab": {
          "base_uri": "https://localhost:8080/",
          "height": 90
        },
        "id": "on6ASjbcFM6F",
        "outputId": "67043a3d-4b91-4296-e657-7c9ef6f82b8e"
      },
      "execution_count": 10,
      "outputs": [
        {
          "output_type": "execute_result",
          "data": {
            "text/plain": [
              "<IPython.core.display.Markdown object>"
            ],
            "text/markdown": "\n\n## 2. Concatenação de Strings\nPeça duas strings ao usuário e mostre a concatenação delas"
          },
          "metadata": {},
          "execution_count": 10
        }
      ]
    },
    {
      "cell_type": "code",
      "source": [
        "string_1 = input('String 1: ')\n",
        "string_2 = input('String 2: ')\n",
        "print(f'String 1 concatenated with String 2 is: {string_1 + string_2}')"
      ],
      "metadata": {
        "colab": {
          "base_uri": "https://localhost:8080/"
        },
        "id": "6TrP2mr9GTBX",
        "outputId": "a714dc1f-275e-4d3d-b654-d0c1571a2f81"
      },
      "execution_count": 17,
      "outputs": [
        {
          "output_type": "stream",
          "name": "stdout",
          "text": [
            "String 1: Do not know what to write.\n",
            "String 2:  But I need to write.\n",
            "String 1 concatenated with String 2 is: Do not know what to write. But I need to write.\n"
          ]
        }
      ]
    },
    {
      "cell_type": "code",
      "source": [
        "md(questions.get(3))"
      ],
      "metadata": {
        "colab": {
          "base_uri": "https://localhost:8080/",
          "height": 90
        },
        "id": "QCyVeUdAHZyB",
        "outputId": "d7eb6982-207e-433d-e3e0-9423925e7d4f"
      },
      "execution_count": 18,
      "outputs": [
        {
          "output_type": "execute_result",
          "data": {
            "text/plain": [
              "<IPython.core.display.Markdown object>"
            ],
            "text/markdown": "\n\n## 3. Verificar Par ou Ímpar\nPeça um número ao usuário e verifique se ele é par ou ímpar"
          },
          "metadata": {},
          "execution_count": 18
        }
      ]
    },
    {
      "cell_type": "code",
      "source": [
        "number = input('Number: ')\n",
        "is_odd = bool(int(number) % 2)\n",
        "result_string = 'odd (impar)' if is_odd else 'even (par)'\n",
        "print(f\"The number is {result_string}\")"
      ],
      "metadata": {
        "colab": {
          "base_uri": "https://localhost:8080/"
        },
        "id": "mJKMmkGBHqn1",
        "outputId": "dbb289b5-5717-4a01-dc29-b2a103be1de0"
      },
      "execution_count": 42,
      "outputs": [
        {
          "output_type": "stream",
          "name": "stdout",
          "text": [
            "Number: 55\n",
            "The number is odd (impar)\n"
          ]
        }
      ]
    },
    {
      "cell_type": "code",
      "source": [
        "md(questions.get(4))"
      ],
      "metadata": {
        "colab": {
          "base_uri": "https://localhost:8080/",
          "height": 90
        },
        "id": "nJK5mQTxKDcp",
        "outputId": "ff1c47c8-a6f3-4911-bfcd-7c716238b731"
      },
      "execution_count": 43,
      "outputs": [
        {
          "output_type": "execute_result",
          "data": {
            "text/plain": [
              "<IPython.core.display.Markdown object>"
            ],
            "text/markdown": "\n\n## 4. Divisão com Resto\nPeça dois números inteiros ao usuário e mostre o resultado da divisão inteira e o resto"
          },
          "metadata": {},
          "execution_count": 43
        }
      ]
    },
    {
      "cell_type": "code",
      "source": [
        "first_number = input('First number: ')\n",
        "second_number = input('Second number: ')\n",
        "\n",
        "quotient = int(first_number)/int(second_number)\n",
        "remainder = int(first_number)%int(second_number)\n",
        "\n",
        "print(f'Quotient: {int(quotient)}')\n",
        "print(f'Remainder: {remainder}')"
      ],
      "metadata": {
        "colab": {
          "base_uri": "https://localhost:8080/"
        },
        "id": "TKhJHIsYMl37",
        "outputId": "ec0624c6-2916-4088-c289-cb9c3c40a9f2"
      },
      "execution_count": 53,
      "outputs": [
        {
          "output_type": "stream",
          "name": "stdout",
          "text": [
            "First number: 5\n",
            "Second number: 3\n",
            "Quotient: 1\n",
            "Remainder: 2\n"
          ]
        }
      ]
    },
    {
      "cell_type": "code",
      "source": [
        "md(questions.get(5))"
      ],
      "metadata": {
        "colab": {
          "base_uri": "https://localhost:8080/",
          "height": 90
        },
        "id": "Ti1nbO0bL4NT",
        "outputId": "4b24d0c2-e4e6-4df9-95f1-6302e4aaa090"
      },
      "execution_count": 44,
      "outputs": [
        {
          "output_type": "execute_result",
          "data": {
            "text/plain": [
              "<IPython.core.display.Markdown object>"
            ],
            "text/markdown": "\n\n## 5. Maior de Três Números\nPeça três números ao usuário e exiba o maior entre eles"
          },
          "metadata": {},
          "execution_count": 44
        }
      ]
    },
    {
      "cell_type": "code",
      "source": [
        "number_1 = float(input('Number 1: '))\n",
        "number_2 = float(input('Number 2: '))\n",
        "number_3 = float(input('Number 3: '))\n",
        "\n",
        "print(f'The largest number is {max(number_1,number_2,number_3)}')"
      ],
      "metadata": {
        "colab": {
          "base_uri": "https://localhost:8080/"
        },
        "id": "jDd1SJrrOJ3I",
        "outputId": "32151dae-d5ff-43b5-9212-42f4f6815132"
      },
      "execution_count": 58,
      "outputs": [
        {
          "output_type": "stream",
          "name": "stdout",
          "text": [
            "Number 1: 2\n",
            "Number 2: 5\n",
            "Number 3: 1\n",
            "The largest number is 5.0\n"
          ]
        }
      ]
    },
    {
      "cell_type": "code",
      "source": [
        "md(questions.get(6))"
      ],
      "metadata": {
        "colab": {
          "base_uri": "https://localhost:8080/",
          "height": 90
        },
        "id": "HU0hUAN3OUHR",
        "outputId": "def5fb5a-f1b2-4fba-8c8d-c3e551a69213"
      },
      "execution_count": 59,
      "outputs": [
        {
          "output_type": "execute_result",
          "data": {
            "text/plain": [
              "<IPython.core.display.Markdown object>"
            ],
            "text/markdown": "\n\n## 6. Contar Caracteres em uma String\nPeça uma string ao usuário e exiba o número de caracteres"
          },
          "metadata": {},
          "execution_count": 59
        }
      ]
    },
    {
      "cell_type": "code",
      "source": [
        "string = input('String: ')\n",
        "print(f'The string has {len(string)} characters')"
      ],
      "metadata": {
        "colab": {
          "base_uri": "https://localhost:8080/"
        },
        "id": "DxGfXlx8Ozet",
        "outputId": "38009fa9-3d77-4239-8838-a300c503e99a"
      },
      "execution_count": 60,
      "outputs": [
        {
          "output_type": "stream",
          "name": "stdout",
          "text": [
            "String: Loooooooooong_String\n",
            "The string has 20 characters\n"
          ]
        }
      ]
    },
    {
      "cell_type": "code",
      "source": [
        "md(questions.get(7))"
      ],
      "metadata": {
        "colab": {
          "base_uri": "https://localhost:8080/",
          "height": 90
        },
        "id": "gYh2vJIvO88C",
        "outputId": "cdd573b2-59fd-44a9-f688-06b8b0d40cde"
      },
      "execution_count": 61,
      "outputs": [
        {
          "output_type": "execute_result",
          "data": {
            "text/plain": [
              "<IPython.core.display.Markdown object>"
            ],
            "text/markdown": "\n\n## 7. Fatorial de um Número\nCalcule o fatorial de um número dado pelo usuário usando um loop"
          },
          "metadata": {},
          "execution_count": 61
        }
      ]
    },
    {
      "cell_type": "code",
      "source": [
        "number = int(input('Number: '))\n",
        "\n",
        "fatorial = 1\n",
        "# Using for.\n",
        "for k in range(1,number+1):\n",
        "  fatorial *= k\n",
        "\n",
        "print(f'{number}! is {fatorial}')\n",
        "\n",
        "# Pythonic way.\n",
        "print(f'{number}! in Pythonic way is {math.factorial(number)}')"
      ],
      "metadata": {
        "colab": {
          "base_uri": "https://localhost:8080/"
        },
        "id": "OeTKwfGEPI7Y",
        "outputId": "c8480f5b-4ca7-4d34-92f5-480bd109ce9b"
      },
      "execution_count": 70,
      "outputs": [
        {
          "output_type": "stream",
          "name": "stdout",
          "text": [
            "Number: 5\n",
            "5! is 120\n",
            "5! in Pythonic way is 120\n"
          ]
        }
      ]
    },
    {
      "cell_type": "code",
      "source": [
        "md(questions.get(8))"
      ],
      "metadata": {
        "colab": {
          "base_uri": "https://localhost:8080/",
          "height": 90
        },
        "id": "nfR7SEbiQWCT",
        "outputId": "71b0875f-d255-4c19-824b-dd54bd7bb4f5"
      },
      "execution_count": 71,
      "outputs": [
        {
          "output_type": "execute_result",
          "data": {
            "text/plain": [
              "<IPython.core.display.Markdown object>"
            ],
            "text/markdown": "\n\n## 8. Tabuada de um Número\nPeça um número ao usuário e exiba a tabuada desse número (do 1 ao 10)"
          },
          "metadata": {},
          "execution_count": 71
        }
      ]
    },
    {
      "cell_type": "code",
      "source": [
        "number = float(input('Number: '))\n",
        "print(f'{number*np.arange(1,11)}')"
      ],
      "metadata": {
        "colab": {
          "base_uri": "https://localhost:8080/"
        },
        "id": "ecu7d958Tivg",
        "outputId": "ab3f4fe7-8f2e-45df-b2a4-7cf6c5866388"
      },
      "execution_count": 76,
      "outputs": [
        {
          "output_type": "stream",
          "name": "stdout",
          "text": [
            "Number: 5\n",
            "[ 5. 10. 15. 20. 25. 30. 35. 40. 45. 50.]\n"
          ]
        }
      ]
    },
    {
      "cell_type": "code",
      "source": [
        "md(questions.get(9))"
      ],
      "metadata": {
        "colab": {
          "base_uri": "https://localhost:8080/",
          "height": 90
        },
        "id": "1JLwr7x0UAuH",
        "outputId": "ef396f74-d8fb-4b6b-8629-bb565e90b5ca"
      },
      "execution_count": 77,
      "outputs": [
        {
          "output_type": "execute_result",
          "data": {
            "text/plain": [
              "<IPython.core.display.Markdown object>"
            ],
            "text/markdown": "\n\n## 9. Reverter String\nPeça uma string ao usuário e mostre-a invertida"
          },
          "metadata": {},
          "execution_count": 77
        }
      ]
    },
    {
      "cell_type": "code",
      "source": [
        "string = input('String: ')\n",
        "print(f'The string in reverse is {string[::-1]}')"
      ],
      "metadata": {
        "colab": {
          "base_uri": "https://localhost:8080/"
        },
        "id": "jDma7erdUCci",
        "outputId": "43d1a958-0702-4303-ff1e-b536d199abfd"
      },
      "execution_count": 78,
      "outputs": [
        {
          "output_type": "stream",
          "name": "stdout",
          "text": [
            "String: AAAAaaaaa...\n",
            "The string in reverse is ...aaaaaAAAA\n"
          ]
        }
      ]
    },
    {
      "cell_type": "code",
      "source": [
        "md(questions.get(10))"
      ],
      "metadata": {
        "colab": {
          "base_uri": "https://localhost:8080/",
          "height": 90
        },
        "id": "_jwjLqGNUOkc",
        "outputId": "334a0927-9e69-447f-df26-fbd007917690"
      },
      "execution_count": 79,
      "outputs": [
        {
          "output_type": "execute_result",
          "data": {
            "text/plain": [
              "<IPython.core.display.Markdown object>"
            ],
            "text/markdown": "\n\n## 10. Contar Vogais em uma String\nPeça uma string ao usuário e conte quantas vogais ela contém"
          },
          "metadata": {},
          "execution_count": 79
        }
      ]
    },
    {
      "cell_type": "code",
      "source": [
        "string = input('String: ')\n",
        "string = string.lower()\n",
        "\n",
        "a = string.count('a')\n",
        "e = string.count('e')\n",
        "i = string.count('i')\n",
        "o = string.count('o')\n",
        "u = string.count('u')\n",
        "\n",
        "print(f'The total of vowels in the string is: {a+e+i+o+u}')"
      ],
      "metadata": {
        "colab": {
          "base_uri": "https://localhost:8080/"
        },
        "id": "x5jNYJQyUQIw",
        "outputId": "94e80097-85f9-41f9-a96f-45ba5d59bbb1"
      },
      "execution_count": 81,
      "outputs": [
        {
          "output_type": "stream",
          "name": "stdout",
          "text": [
            "String: MinE CustOm StrIng\n",
            "The total of vowels in the string is: 5\n"
          ]
        }
      ]
    },
    {
      "cell_type": "code",
      "source": [
        "md(questions.get(11))"
      ],
      "metadata": {
        "colab": {
          "base_uri": "https://localhost:8080/",
          "height": 90
        },
        "id": "_vf0tyf_V9az",
        "outputId": "a8a114b0-5868-49d5-dad2-8d853cd2a49f"
      },
      "execution_count": 82,
      "outputs": [
        {
          "output_type": "execute_result",
          "data": {
            "text/plain": [
              "<IPython.core.display.Markdown object>"
            ],
            "text/markdown": "\n\n## 11. Soma dos Números de 1 a 100\nUse um loop para calcular e exibir a soma dos números de 1 a 100"
          },
          "metadata": {},
          "execution_count": 82
        }
      ]
    },
    {
      "cell_type": "code",
      "source": [
        "# Using for\n",
        "s = 0\n",
        "for k in range(1,101):\n",
        "  s +=k\n",
        "\n",
        "print(f\"The sum of the first 100 numbers is {s}\")\n",
        "\n",
        "# Pythonic\n",
        "print(f\"The sum of the first 100 numbers in Pythonic way is {sum(range(1,101))}\")\n"
      ],
      "metadata": {
        "colab": {
          "base_uri": "https://localhost:8080/"
        },
        "id": "_211klW2WA2X",
        "outputId": "7c64b32d-b390-4083-ddfe-7af15eeafa82"
      },
      "execution_count": 84,
      "outputs": [
        {
          "output_type": "stream",
          "name": "stdout",
          "text": [
            "The sum of the first 100 numbers is 5050\n",
            "The sum of the first 100 numbers in Pythonic way is 5050\n"
          ]
        }
      ]
    },
    {
      "cell_type": "code",
      "source": [
        "md(questions.get(12))"
      ],
      "metadata": {
        "colab": {
          "base_uri": "https://localhost:8080/",
          "height": 90
        },
        "id": "nAWrylvKWV4a",
        "outputId": "2d52e06a-707b-4a2e-9be1-07fe06a9626e"
      },
      "execution_count": 86,
      "outputs": [
        {
          "output_type": "execute_result",
          "data": {
            "text/plain": [
              "<IPython.core.display.Markdown object>"
            ],
            "text/markdown": "\n\n## 12. Números Pares de 1 a 50\nExiba todos os números pares de 1 a 50 usando um loop"
          },
          "metadata": {},
          "execution_count": 86
        }
      ]
    },
    {
      "cell_type": "code",
      "source": [
        "# Using for\n",
        "even_list = []\n",
        "\n",
        "for k in range(1,51):\n",
        "  if (k % 2) == 0:\n",
        "    even_list.append(k)\n",
        "\n",
        "print(f'The list of even numbers is {even_list}')\n",
        "\n",
        "# Pythonic\n",
        "numbers_array = np.array(range(1,51))\n",
        "bool_array = (numbers_array % 2) == 0\n",
        "print(f'The list of even numbers in Pythonic way is {list(numbers_array[bool_array])}')"
      ],
      "metadata": {
        "colab": {
          "base_uri": "https://localhost:8080/"
        },
        "id": "opxtNhGvWxUi",
        "outputId": "b036772f-4a84-4c53-bf6f-276d2cf6dbe4"
      },
      "execution_count": 96,
      "outputs": [
        {
          "output_type": "stream",
          "name": "stdout",
          "text": [
            "The list of even numbers is [2, 4, 6, 8, 10, 12, 14, 16, 18, 20, 22, 24, 26, 28, 30, 32, 34, 36, 38, 40, 42, 44, 46, 48, 50]\n",
            "The list of even numbers in Pythonic way is [2, 4, 6, 8, 10, 12, 14, 16, 18, 20, 22, 24, 26, 28, 30, 32, 34, 36, 38, 40, 42, 44, 46, 48, 50]\n"
          ]
        }
      ]
    },
    {
      "cell_type": "code",
      "source": [
        "md(questions.get(13))"
      ],
      "metadata": {
        "colab": {
          "base_uri": "https://localhost:8080/",
          "height": 90
        },
        "id": "uspNqj04abuv",
        "outputId": "e934c0c0-82b9-452d-d15e-3904d8668afd"
      },
      "execution_count": 97,
      "outputs": [
        {
          "output_type": "execute_result",
          "data": {
            "text/plain": [
              "<IPython.core.display.Markdown object>"
            ],
            "text/markdown": "\n\n## 13. Verificar Palíndromo\nVerifique se uma palavra é um palíndromo (mesma palavra lida de trás para frente)"
          },
          "metadata": {},
          "execution_count": 97
        }
      ]
    },
    {
      "cell_type": "code",
      "source": [
        "string = input('String: ').lower()\n",
        "print(f'This string is a palindrome: {string==string[::-1]}')"
      ],
      "metadata": {
        "colab": {
          "base_uri": "https://localhost:8080/"
        },
        "id": "CDIUUfz2a2l5",
        "outputId": "1e8e8484-45c6-4ea0-8674-1fa13686fcae"
      },
      "execution_count": 99,
      "outputs": [
        {
          "output_type": "stream",
          "name": "stdout",
          "text": [
            "String: Ana\n",
            "This string is a palindrome: True\n"
          ]
        }
      ]
    },
    {
      "cell_type": "code",
      "source": [
        "md(questions.get(14))"
      ],
      "metadata": {
        "colab": {
          "base_uri": "https://localhost:8080/",
          "height": 90
        },
        "id": "M7e5XW85bdsS",
        "outputId": "15a94559-eb78-4dc1-ba3a-343570f909a8"
      },
      "execution_count": 100,
      "outputs": [
        {
          "output_type": "execute_result",
          "data": {
            "text/plain": [
              "<IPython.core.display.Markdown object>"
            ],
            "text/markdown": "\n\n## 14. Cálculo de Média\nPeça cinco números ao usuário e calcule a média deles. Desafio: generalize para quantos números o usuário quiser"
          },
          "metadata": {},
          "execution_count": 100
        }
      ]
    },
    {
      "cell_type": "code",
      "source": [
        "number_1 = float(input('Number 1: '))\n",
        "number_2 = float(input('Number 2: '))\n",
        "number_3 = float(input('Number 3: '))\n",
        "number_4 = float(input('Number 4: '))\n",
        "number_5 = float(input('Number 5: '))\n",
        "\n",
        "print(f'The mean is {np.mean([number_1,number_2,number_3,number_4,number_5])}')"
      ],
      "metadata": {
        "colab": {
          "base_uri": "https://localhost:8080/"
        },
        "id": "qQBse6q_bfEt",
        "outputId": "1c31daf1-2f69-4f84-d013-34fafab259c4"
      },
      "execution_count": 101,
      "outputs": [
        {
          "output_type": "stream",
          "name": "stdout",
          "text": [
            "Number 1: 1\n",
            "Number 2: 2\n",
            "Number 3: 3\n",
            "Number 4: 4\n",
            "Number 5: 5\n",
            "The mean is 3.0\n"
          ]
        }
      ]
    },
    {
      "cell_type": "markdown",
      "source": [
        "Challange"
      ],
      "metadata": {
        "id": "7mpAKs8OcAWg"
      }
    },
    {
      "cell_type": "code",
      "source": [
        "numbers = input(\"Insert the numbers separeted by a comma ',': \")\n",
        "numbers = numbers.split(',')\n",
        "numbers = np.array(numbers, dtype = 'float')\n",
        "print(f'The mean of the numbers is {numbers.mean()}')"
      ],
      "metadata": {
        "colab": {
          "base_uri": "https://localhost:8080/"
        },
        "id": "CYzNH62fcBte",
        "outputId": "48704e70-d5ef-450e-8e31-8a624d6da748"
      },
      "execution_count": 105,
      "outputs": [
        {
          "output_type": "stream",
          "name": "stdout",
          "text": [
            "Insert the numbers separeted by a comma ',': 1,2,3,4,5\n",
            "The mean of the numbers is 3.0\n"
          ]
        }
      ]
    },
    {
      "cell_type": "code",
      "source": [
        "md(questions.get(15))"
      ],
      "metadata": {
        "colab": {
          "base_uri": "https://localhost:8080/",
          "height": 90
        },
        "id": "DI3KJrCacZBb",
        "outputId": "999be067-1989-4986-f2e2-2945987dc11b"
      },
      "execution_count": 106,
      "outputs": [
        {
          "output_type": "execute_result",
          "data": {
            "text/plain": [
              "<IPython.core.display.Markdown object>"
            ],
            "text/markdown": "\n\n## 15. Contar Ocorrências de uma Letra\nFaça uma função que receba uma letra e uma string, a saída deve ser a contagem dessa letra dentro da string"
          },
          "metadata": {},
          "execution_count": 106
        }
      ]
    },
    {
      "cell_type": "code",
      "source": [
        "# Lazy way.\n",
        "def dummy_char_count(char: str, string: str) -> int:\n",
        "  count = 0\n",
        "  for c in string.lower():\n",
        "    if c == char.lower():\n",
        "      count += 1\n",
        "  return count\n",
        "\n",
        "# Pythonic way. Notice that the funcion itself is not necessary, we can just use the built in methods for str.\n",
        "def pythonic_char_count(char: str, string: str) -> int:\n",
        "  return string.lower().count(char.lower())\n",
        "\n",
        "test_str = \"Mine test string to use in functions\"\n",
        "test_char = 'e'\n",
        "\n",
        "print(dummy_char_count(test_char, test_str))\n",
        "print(pythonic_char_count(test_char, test_str))"
      ],
      "metadata": {
        "colab": {
          "base_uri": "https://localhost:8080/"
        },
        "id": "D9axIw_kdctn",
        "outputId": "3cb964d7-5efc-4cb7-f33f-1aa8fe8c2e18"
      },
      "execution_count": 108,
      "outputs": [
        {
          "output_type": "stream",
          "name": "stdout",
          "text": [
            "3\n",
            "3\n"
          ]
        }
      ]
    },
    {
      "cell_type": "code",
      "source": [
        "md(questions.get(16))"
      ],
      "metadata": {
        "colab": {
          "base_uri": "https://localhost:8080/",
          "height": 90
        },
        "id": "K3BJFQSQezPD",
        "outputId": "cdd80437-7eca-4c76-c9d5-9c804b3000a6"
      },
      "execution_count": 109,
      "outputs": [
        {
          "output_type": "execute_result",
          "data": {
            "text/plain": [
              "<IPython.core.display.Markdown object>"
            ],
            "text/markdown": "\n\n## 16. Número Primo\nFaça uma função para checar se um número é primo"
          },
          "metadata": {},
          "execution_count": 109
        }
      ]
    },
    {
      "cell_type": "code",
      "source": [
        "def is_prime(number: int) -> bool:\n",
        "  if number < 2:\n",
        "    return False\n",
        "  for k in range(2,number):\n",
        "    if number % k == 0:\n",
        "      return False\n",
        "  return True\n",
        "\n",
        "# Ex\n",
        "for k in range(14):\n",
        "  print(f'{k} is prime: {is_prime(k)}')"
      ],
      "metadata": {
        "colab": {
          "base_uri": "https://localhost:8080/"
        },
        "id": "KV5rvrlue2si",
        "outputId": "46327b74-f374-473b-ba5c-bbc34a289395"
      },
      "execution_count": 122,
      "outputs": [
        {
          "output_type": "stream",
          "name": "stdout",
          "text": [
            "0 is prime: False\n",
            "1 is prime: False\n",
            "2 is prime: True\n",
            "3 is prime: True\n",
            "4 is prime: False\n",
            "5 is prime: True\n",
            "6 is prime: False\n",
            "7 is prime: True\n",
            "8 is prime: False\n",
            "9 is prime: False\n",
            "10 is prime: False\n",
            "11 is prime: True\n",
            "12 is prime: False\n",
            "13 is prime: True\n"
          ]
        }
      ]
    },
    {
      "cell_type": "code",
      "source": [
        "md(questions.get(17))"
      ],
      "metadata": {
        "colab": {
          "base_uri": "https://localhost:8080/",
          "height": 90
        },
        "id": "ScgWjukGfGh5",
        "outputId": "484dd8f8-a7b6-4f8c-ebe9-c64a98524641"
      },
      "execution_count": 123,
      "outputs": [
        {
          "output_type": "execute_result",
          "data": {
            "text/plain": [
              "<IPython.core.display.Markdown object>"
            ],
            "text/markdown": "\n\n## 17. Inverter Lista\nFaça a reverssão de uma lista"
          },
          "metadata": {},
          "execution_count": 123
        }
      ]
    },
    {
      "cell_type": "code",
      "source": [
        "dummy_list = list(range(10))\n",
        "\n",
        "reversed_list = dummy_list[::-1]\n",
        "print(f'The reversed list is {reversed_list}')"
      ],
      "metadata": {
        "colab": {
          "base_uri": "https://localhost:8080/"
        },
        "id": "vXqfAH1ngE44",
        "outputId": "2d89c77a-ce89-4fa0-bcb7-9a171f699ca1"
      },
      "execution_count": 124,
      "outputs": [
        {
          "output_type": "stream",
          "name": "stdout",
          "text": [
            "The reversed list is [9, 8, 7, 6, 5, 4, 3, 2, 1, 0]\n"
          ]
        }
      ]
    },
    {
      "cell_type": "code",
      "source": [
        "md(questions.get(18))"
      ],
      "metadata": {
        "colab": {
          "base_uri": "https://localhost:8080/",
          "height": 90
        },
        "id": "AviMojjNgTon",
        "outputId": "7fc988e3-cff5-4f64-9069-b3a8f2a6667d"
      },
      "execution_count": 125,
      "outputs": [
        {
          "output_type": "execute_result",
          "data": {
            "text/plain": [
              "<IPython.core.display.Markdown object>"
            ],
            "text/markdown": "\n\n## 18. Contar Palavras em uma Frase\nFaça uma função que conte o número de palavras contidas em uma frase"
          },
          "metadata": {},
          "execution_count": 125
        }
      ]
    },
    {
      "cell_type": "code",
      "source": [
        "# Pythonic way.\n",
        "def pythonic_word_count(word: str, string: str) -> int:\n",
        "  return string.lower().count(word.lower())\n",
        "\n",
        "test_str = \"Mine test string to use in functions with a lot of words to test\"\n",
        "test_word = 'test'\n",
        "\n",
        "print(pythonic_word_count(test_word, test_str))"
      ],
      "metadata": {
        "colab": {
          "base_uri": "https://localhost:8080/"
        },
        "id": "p3-OZFLQgefj",
        "outputId": "1be7d3cb-8f53-4a90-b396-bcac96fa91f9"
      },
      "execution_count": 126,
      "outputs": [
        {
          "output_type": "stream",
          "name": "stdout",
          "text": [
            "2\n"
          ]
        }
      ]
    },
    {
      "cell_type": "markdown",
      "source": [
        "[EN] Wait isn't it the same function as ` pythonic_char_count` ?\n",
        " - Yes, in Python we don't have the `char` type, everything is a `str`.\n",
        "\n",
        "[PT] Espera ai, essa não é a mesma função que ` pythonic_char_count` ?\n",
        " - Sim, em Python não existe o tipo `char`, tudo é considerado como uma `str`."
      ],
      "metadata": {
        "id": "S1iKIH0jhOH_"
      }
    },
    {
      "cell_type": "code",
      "source": [
        "md(questions.get(19))"
      ],
      "metadata": {
        "colab": {
          "base_uri": "https://localhost:8080/",
          "height": 90
        },
        "id": "TfVtrmt3huL2",
        "outputId": "0f89861b-12a7-4ab3-e7ab-05cd30494412"
      },
      "execution_count": 127,
      "outputs": [
        {
          "output_type": "execute_result",
          "data": {
            "text/plain": [
              "<IPython.core.display.Markdown object>"
            ],
            "text/markdown": "\n\n## 19. Soma de Dígitos\nPeça um número ao usuário e calcule a soma dos dígitos desse número"
          },
          "metadata": {},
          "execution_count": 127
        }
      ]
    },
    {
      "cell_type": "code",
      "source": [
        "large_number = input('Large number: ')\n",
        "\n",
        "# Lazy sum\n",
        "lazy_sum = 0\n",
        "for k in large_number:\n",
        "  lazy_sum += int(k)\n",
        "\n",
        "# Pythonic sum\n",
        "pythonic_sum = np.array(list(large_number), dtype = 'int').sum()\n",
        "\n",
        "print(f'The lazy sum is {lazy_sum}')\n",
        "print(f'The pythonic sum is {pythonic_sum}')"
      ],
      "metadata": {
        "colab": {
          "base_uri": "https://localhost:8080/"
        },
        "id": "33QiTNqbiHyu",
        "outputId": "a36c9601-9505-49e1-aec1-1478c813af92"
      },
      "execution_count": 136,
      "outputs": [
        {
          "output_type": "stream",
          "name": "stdout",
          "text": [
            "Large number: 123456\n",
            "The lazy sum is 21\n",
            "The pythonic sum is 21\n"
          ]
        }
      ]
    },
    {
      "cell_type": "code",
      "source": [
        "md(questions.get(20))"
      ],
      "metadata": {
        "colab": {
          "base_uri": "https://localhost:8080/",
          "height": 90
        },
        "id": "4_JFVPWsishV",
        "outputId": "e22033a6-b0f8-47c0-97a5-18ed3d15e5d3"
      },
      "execution_count": 137,
      "outputs": [
        {
          "output_type": "execute_result",
          "data": {
            "text/plain": [
              "<IPython.core.display.Markdown object>"
            ],
            "text/markdown": "\n\n## 20. Gerador de Senhas\nCrie um código que gere uma senha aleatória de 8 caracteres contendo letras e números"
          },
          "metadata": {},
          "execution_count": 137
        }
      ]
    },
    {
      "cell_type": "code",
      "source": [
        "def password_generator(lenght: int = 8):\n",
        "  password = ''.join(random.choices(string_module.ascii_letters + string_module.digits, k=lenght))\n",
        "\n",
        "  return password\n",
        "\n",
        "print(f\"The generated random string : {password_generator()}\")"
      ],
      "metadata": {
        "colab": {
          "base_uri": "https://localhost:8080/"
        },
        "id": "-WTzsoOfjTDG",
        "outputId": "cebd5f0b-c67e-4b45-8400-d4013bd4fad0"
      },
      "execution_count": 144,
      "outputs": [
        {
          "output_type": "stream",
          "name": "stdout",
          "text": [
            "The generated random string : vjXxjU3P\n"
          ]
        }
      ]
    },
    {
      "cell_type": "code",
      "source": [
        "md(questions.get(21))"
      ],
      "metadata": {
        "colab": {
          "base_uri": "https://localhost:8080/",
          "height": 90
        },
        "id": "KpZNECSklxsu",
        "outputId": "86470975-b51c-4e6f-b933-9f04734ce897"
      },
      "execution_count": 145,
      "outputs": [
        {
          "output_type": "execute_result",
          "data": {
            "text/plain": [
              "<IPython.core.display.Markdown object>"
            ],
            "text/markdown": "\n\n## 21. Multiplicação de Elementos em uma Lista\nCalcule o produto de todos os elementos de uma lista"
          },
          "metadata": {},
          "execution_count": 145
        }
      ]
    },
    {
      "cell_type": "code",
      "source": [
        "dummy_list = [3,8,5,1,2]\n",
        "\n",
        "# Pythonic way\n",
        "math.prod(dummy_list)"
      ],
      "metadata": {
        "colab": {
          "base_uri": "https://localhost:8080/"
        },
        "id": "BNOI0snol23G",
        "outputId": "f1b8b943-5e95-468d-c88a-1ccc4ae69cfa"
      },
      "execution_count": 155,
      "outputs": [
        {
          "output_type": "execute_result",
          "data": {
            "text/plain": [
              "240"
            ]
          },
          "metadata": {},
          "execution_count": 155
        }
      ]
    },
    {
      "cell_type": "code",
      "source": [
        "md(questions.get(22))"
      ],
      "metadata": {
        "colab": {
          "base_uri": "https://localhost:8080/",
          "height": 90
        },
        "id": "aRoPivuKmqBg",
        "outputId": "a160465b-a3d5-4d49-b592-62f7305ea73c"
      },
      "execution_count": 156,
      "outputs": [
        {
          "output_type": "execute_result",
          "data": {
            "text/plain": [
              "<IPython.core.display.Markdown object>"
            ],
            "text/markdown": "\n\n## 22. Remover Espaços de uma String\nRemova todos os espaços em branco de uma string qualquer"
          },
          "metadata": {},
          "execution_count": 156
        }
      ]
    },
    {
      "cell_type": "code",
      "source": [
        "string_with_spaces = \"Some    String  With  Lots of    Spaces    .  \"\n",
        "\n",
        "# Using Regex\n",
        "print(re.sub(pattern = \"\\s\",repl='',string=string_with_spaces))\n",
        "\n",
        "# Alternative\n",
        "print(string_with_spaces.replace(' ',''))"
      ],
      "metadata": {
        "colab": {
          "base_uri": "https://localhost:8080/"
        },
        "id": "4A478UAlmxEW",
        "outputId": "555e7cf1-09c3-4e0a-ab48-ab7c7652ad5b"
      },
      "execution_count": 162,
      "outputs": [
        {
          "output_type": "stream",
          "name": "stdout",
          "text": [
            "SomeStringWithLotsofSpaces.\n",
            "SomeStringWithLotsofSpaces.\n"
          ]
        }
      ]
    },
    {
      "cell_type": "code",
      "source": [
        "md(questions.get(23))"
      ],
      "metadata": {
        "colab": {
          "base_uri": "https://localhost:8080/",
          "height": 90
        },
        "id": "tK5m4leAn3dJ",
        "outputId": "b2f5bb7a-d43f-4916-9108-49599eb844f7"
      },
      "execution_count": 163,
      "outputs": [
        {
          "output_type": "execute_result",
          "data": {
            "text/plain": [
              "<IPython.core.display.Markdown object>"
            ],
            "text/markdown": "\n\n## 23. Contar Números Pares e Ímpares em uma Lista\nFaça uma função que receba uma lista de números e conte quantos são pares e quantos são ímpares"
          },
          "metadata": {},
          "execution_count": 163
        }
      ]
    },
    {
      "cell_type": "code",
      "source": [
        "dummy_numbers = [10,20,11,32,41,88,72,77,5,301,33]\n",
        "\n",
        "def even_odds_count(list_of_numbers: list[int]) -> tuple[int, int]:\n",
        "  # Transform to numpy array\n",
        "  numbers_array = np.array(list_of_numbers)\n",
        "\n",
        "  # Boolean array, True for even False for odd numbers\n",
        "  bool_array = (numbers_array % 2) == 0\n",
        "\n",
        "  evens = sum(bool_array)\n",
        "  odds = len(numbers_array) - evens\n",
        "\n",
        "  return evens, odds\n",
        "\n",
        "print(f\"Even(par), odds(impar) : {even_odds_count(dummy_numbers)}\")"
      ],
      "metadata": {
        "colab": {
          "base_uri": "https://localhost:8080/"
        },
        "id": "Jz4AIqdMoMw3",
        "outputId": "440c17e0-ebfd-4d86-99ef-e89c37dc84de"
      },
      "execution_count": 168,
      "outputs": [
        {
          "output_type": "stream",
          "name": "stdout",
          "text": [
            "Even(par), odds(impar) : (5, 6)\n"
          ]
        }
      ]
    },
    {
      "cell_type": "code",
      "source": [
        "md(questions.get(24))"
      ],
      "metadata": {
        "colab": {
          "base_uri": "https://localhost:8080/",
          "height": 90
        },
        "id": "VIBlhWappfj6",
        "outputId": "ace7984f-2824-4ba3-c2cc-e9e3ae7793c6"
      },
      "execution_count": 169,
      "outputs": [
        {
          "output_type": "execute_result",
          "data": {
            "text/plain": [
              "<IPython.core.display.Markdown object>"
            ],
            "text/markdown": "\n\n## 24. Substituir Palavras em uma String\nFaça uma função que receba uma frase, uma palavra a ser substituída e uma nova palavra. Substitua todas as ocorrências da palavra pela nova na frase"
          },
          "metadata": {},
          "execution_count": 169
        }
      ]
    },
    {
      "cell_type": "code",
      "source": [
        "# Multiline str with \"\"\" abc \"\"\"\n",
        "loren_ipsum_phrase = \"\"\"Lorem ipsum dolor sit amet. Qui nostrum harum a officia quia hic nemo ipsam.\n",
        "Et consequatur atque a dolorum omnis aut asperiores dolorum.\n",
        "Sit corrupti dolore a velit minima est tenetur rerum At libero dolor.\"\"\"\n",
        "\n",
        "word = \"ipsum\"\n",
        "replacement = \"DO NOT UNDERSTAND LATIN!\"\n",
        "\n",
        "# Using re.sub\n",
        "print(re.sub(pattern = word, repl=replacement, string=loren_ipsum_phrase))\n",
        "\n",
        "# Blank lines\n",
        "print('\\n')\n",
        "\n",
        "# Alternative\n",
        "print(loren_ipsum_phrase.replace(word, replacement))"
      ],
      "metadata": {
        "colab": {
          "base_uri": "https://localhost:8080/"
        },
        "id": "3BRbqi5Fpo9i",
        "outputId": "6db2c2a2-0a68-4851-e8e9-58b533333481"
      },
      "execution_count": 172,
      "outputs": [
        {
          "output_type": "stream",
          "name": "stdout",
          "text": [
            "Lorem DO NOT UNDERSTAND LATIN! dolor sit amet. Qui nostrum harum a officia quia hic nemo ipsam. \n",
            "Et consequatur atque a dolorum omnis aut asperiores dolorum. \n",
            "Sit corrupti dolore a velit minima est tenetur rerum At libero dolor.\n",
            "\n",
            "\n",
            "Lorem DO NOT UNDERSTAND LATIN! dolor sit amet. Qui nostrum harum a officia quia hic nemo ipsam. \n",
            "Et consequatur atque a dolorum omnis aut asperiores dolorum. \n",
            "Sit corrupti dolore a velit minima est tenetur rerum At libero dolor.\n"
          ]
        }
      ]
    },
    {
      "cell_type": "code",
      "source": [
        "md(questions.get(25))"
      ],
      "metadata": {
        "colab": {
          "base_uri": "https://localhost:8080/",
          "height": 90
        },
        "id": "z06eiIZ4rCzO",
        "outputId": "be8d7c6a-3794-4115-8326-d44e5123af39"
      },
      "execution_count": 173,
      "outputs": [
        {
          "output_type": "execute_result",
          "data": {
            "text/plain": [
              "<IPython.core.display.Markdown object>"
            ],
            "text/markdown": "\n\n## 25. Verificar Letra Inicial\nVerifique se uma string inicia com uma letra específica"
          },
          "metadata": {},
          "execution_count": 173
        }
      ]
    },
    {
      "cell_type": "code",
      "source": [
        "dummy_string = \"My dummy string\"\n",
        "\n",
        "# Be carefull with case sensitive!\n",
        "print(f'Starts with \"M\": {dummy_string.startswith(\"M\")}')\n",
        "\n",
        "print(f'Starts with \"m\": {dummy_string.startswith(\"m\")}')"
      ],
      "metadata": {
        "colab": {
          "base_uri": "https://localhost:8080/"
        },
        "id": "EVBQWdInrFIw",
        "outputId": "8c521928-abde-4db8-f61b-4dce62d8d3cf"
      },
      "execution_count": 174,
      "outputs": [
        {
          "output_type": "stream",
          "name": "stdout",
          "text": [
            "Starts with \"M\": True\n",
            "Starts with \"m\": False\n"
          ]
        }
      ]
    },
    {
      "cell_type": "code",
      "source": [
        "md(questions.get(26))"
      ],
      "metadata": {
        "colab": {
          "base_uri": "https://localhost:8080/",
          "height": 90
        },
        "id": "RKsnj9PsrkQW",
        "outputId": "df66fae3-bb6d-4f2a-c097-dbc2d20e5991"
      },
      "execution_count": 175,
      "outputs": [
        {
          "output_type": "execute_result",
          "data": {
            "text/plain": [
              "<IPython.core.display.Markdown object>"
            ],
            "text/markdown": "\n\n## 26. Converter Temperatura\nFaça uma função que converta a temperatura de Celsius para Fahrenheit e vice versa"
          },
          "metadata": {},
          "execution_count": 175
        }
      ]
    },
    {
      "cell_type": "code",
      "source": [
        "def celsius_fahrenheit_converter(\n",
        "    celsius: float=None,\n",
        "    fahrenheit: float=None) -> float:\n",
        "\n",
        "  if (celsius is not None) and (fahrenheit is not None):\n",
        "    raise(ValueError('Provide one value for Celsius OR Fahrenheit not both!'))\n",
        "  elif (celsius is None) and (fahrenheit is None):\n",
        "    raise(ValueError('Provide one value for Celsius OR Fahrenheit!'))\n",
        "  elif celsius is not None:\n",
        "    return (celsius * 9/5) + 32\n",
        "  elif fahrenheit is not None:\n",
        "    return (fahrenheit - 32) * 5/9\n",
        "\n",
        "print(f'Celsius to Fahrenheit: {celsius_fahrenheit_converter(celsius=10)}')\n",
        "print(f'Fahrenheit to Celsius: {celsius_fahrenheit_converter(fahrenheit=70)}')"
      ],
      "metadata": {
        "colab": {
          "base_uri": "https://localhost:8080/"
        },
        "id": "LRpIXj6xrp8a",
        "outputId": "04e68c08-8729-4ed5-e10b-47d6011a2967"
      },
      "execution_count": 178,
      "outputs": [
        {
          "output_type": "stream",
          "name": "stdout",
          "text": [
            "Celsius to Fahrenheit: 50.0\n",
            "Fahrenheit to Celsius: 21.11111111111111\n"
          ]
        }
      ]
    },
    {
      "cell_type": "code",
      "source": [
        "md(questions.get(27))"
      ],
      "metadata": {
        "colab": {
          "base_uri": "https://localhost:8080/",
          "height": 90
        },
        "id": "M51gL8qGs6J7",
        "outputId": "598f1a37-10bb-4263-d0f4-394effad17f3"
      },
      "execution_count": 179,
      "outputs": [
        {
          "output_type": "execute_result",
          "data": {
            "text/plain": [
              "<IPython.core.display.Markdown object>"
            ],
            "text/markdown": "\n\n## 27. Soma de Elementos Pares em uma Lista\nFaça uma função que calcule a soma dos números pares de uma lista"
          },
          "metadata": {},
          "execution_count": 179
        }
      ]
    },
    {
      "cell_type": "code",
      "source": [
        "def even_sum(list_of_numbers: list[int]) -> tuple[int, int]:\n",
        "  # Transform to numpy array\n",
        "  numbers_array = np.array(list_of_numbers)\n",
        "\n",
        "  # Boolean array, True for even False for odd numbers\n",
        "  bool_array = (numbers_array % 2) == 0\n",
        "\n",
        "  return numbers_array[bool_array].sum()\n",
        "\n",
        "dummy_numbers = list(range(11))\n",
        "\n",
        "print(f\"Even sum: {even_sum(dummy_numbers)}\")"
      ],
      "metadata": {
        "colab": {
          "base_uri": "https://localhost:8080/"
        },
        "id": "GcEEPM1ZtC_M",
        "outputId": "c1a3ffdf-4a98-4b5f-893e-31d413291935"
      },
      "execution_count": 183,
      "outputs": [
        {
          "output_type": "stream",
          "name": "stdout",
          "text": [
            "Even sum: 30\n"
          ]
        }
      ]
    },
    {
      "cell_type": "code",
      "source": [
        "md(questions.get(28))"
      ],
      "metadata": {
        "colab": {
          "base_uri": "https://localhost:8080/",
          "height": 90
        },
        "id": "O2D4l9yVtdNk",
        "outputId": "b75c5643-4ccf-4374-9c8f-62fcdb7469f6"
      },
      "execution_count": 184,
      "outputs": [
        {
          "output_type": "execute_result",
          "data": {
            "text/plain": [
              "<IPython.core.display.Markdown object>"
            ],
            "text/markdown": "\n\n## 28. Verificar Ano Bissexto\nPeça um ano ao usuário e verifique se é bissexto"
          },
          "metadata": {},
          "execution_count": 184
        }
      ]
    },
    {
      "cell_type": "code",
      "source": [
        "year = input('Year: ')\n",
        "\n",
        "# Explanation a leap year (bissextile) occurs every four years.\n",
        "# So, you just have to check if the last two digits are divisible by 4.\n",
        "is_leap_year = (int(year[-2:]) % 4) == 0\n",
        "\n",
        "print(f'It is a leap year: {is_leap_year}')"
      ],
      "metadata": {
        "colab": {
          "base_uri": "https://localhost:8080/"
        },
        "id": "zhQJz8BmtffC",
        "outputId": "e27ddf58-b13a-4a95-bcdc-4d866a3153a7"
      },
      "execution_count": 191,
      "outputs": [
        {
          "output_type": "stream",
          "name": "stdout",
          "text": [
            "Year: 2024\n",
            "It is a leap year: True\n"
          ]
        }
      ]
    },
    {
      "cell_type": "code",
      "source": [
        "md(questions.get(29))"
      ],
      "metadata": {
        "colab": {
          "base_uri": "https://localhost:8080/",
          "height": 90
        },
        "id": "In0XTDfGvJpX",
        "outputId": "b6167d18-deb0-424a-ad97-3bd811b170f5"
      },
      "execution_count": 192,
      "outputs": [
        {
          "output_type": "execute_result",
          "data": {
            "text/plain": [
              "<IPython.core.display.Markdown object>"
            ],
            "text/markdown": "\n\n## 29. Contar Consoantes em uma String\nFaça uma função que conte quantas consoantes uma string tem"
          },
          "metadata": {},
          "execution_count": 192
        }
      ]
    },
    {
      "cell_type": "code",
      "source": [
        "def consonant_count(string: str) -> int:\n",
        "\n",
        "  # Lower case and removing spaces\n",
        "  string = re.sub('\\s','', string.lower())\n",
        "\n",
        "  # Removing punctiations\n",
        "  string= string.translate(str.maketrans('', '', string_module.punctuation))\n",
        "\n",
        "  a = string.count('a')\n",
        "  e = string.count('e')\n",
        "  i = string.count('i')\n",
        "  o = string.count('o')\n",
        "  u = string.count('u')\n",
        "\n",
        "  return len(string) - (a+e+i+o+u)\n",
        "\n",
        "test_str = \"Test string!... With punctiations ?!...\"\n",
        "\n",
        "print(f'The total of consonants in the string is: {consonant_count(test_str)}')"
      ],
      "metadata": {
        "colab": {
          "base_uri": "https://localhost:8080/"
        },
        "id": "aeSHxPEuvOoj",
        "outputId": "dcc18046-de2e-4547-bad5-df6b38d1d48a"
      },
      "execution_count": 196,
      "outputs": [
        {
          "output_type": "stream",
          "name": "stdout",
          "text": [
            "The total of consonants in the string is: 18\n"
          ]
        }
      ]
    },
    {
      "cell_type": "code",
      "source": [
        "md(questions.get(30))"
      ],
      "metadata": {
        "colab": {
          "base_uri": "https://localhost:8080/",
          "height": 90
        },
        "id": "KZm0INKFxe9u",
        "outputId": "d269b467-7c34-472f-a5a1-c437d70f8341"
      },
      "execution_count": 197,
      "outputs": [
        {
          "output_type": "execute_result",
          "data": {
            "text/plain": [
              "<IPython.core.display.Markdown object>"
            ],
            "text/markdown": "\n\n## 30. Conversor de Moedas\nPeça ao usuário um valor em reais e converta-o para dólares, usando uma taxa de câmbio fornecida pelo próprio usuário"
          },
          "metadata": {},
          "execution_count": 197
        }
      ]
    },
    {
      "cell_type": "code",
      "source": [
        "def brl_converter(\n",
        "    brl: float,\n",
        "    rate: float) -> float:\n",
        "\n",
        "  return brl/rate\n",
        "\n",
        "brl = input('BRL: ')\n",
        "rate = input('Rate: ')\n",
        "\n",
        "print(brl_converter(float(brl), float(rate  )))"
      ],
      "metadata": {
        "colab": {
          "base_uri": "https://localhost:8080/"
        },
        "id": "IPLQSdwNxnuO",
        "outputId": "ff9bdc5c-16eb-411c-c76c-fe64b1fa3154"
      },
      "execution_count": 207,
      "outputs": [
        {
          "output_type": "stream",
          "name": "stdout",
          "text": [
            "BRL: 60\n",
            "Rate: 6\n",
            "10.0\n"
          ]
        }
      ]
    },
    {
      "cell_type": "code",
      "source": [
        "md(questions.get(31))"
      ],
      "metadata": {
        "colab": {
          "base_uri": "https://localhost:8080/",
          "height": 90
        },
        "id": "8kHvhq0yzRVZ",
        "outputId": "a6f19784-5f05-4767-a577-1b3fa65b216a"
      },
      "execution_count": 208,
      "outputs": [
        {
          "output_type": "execute_result",
          "data": {
            "text/plain": [
              "<IPython.core.display.Markdown object>"
            ],
            "text/markdown": "\n\n## 31. Por que retorna False?\nExecute o código a seguir `print((0.3 /3) == 0.1)`. Porque a saída é `False` ? Será que o interpretador quebrou?"
          },
          "metadata": {},
          "execution_count": 208
        }
      ]
    },
    {
      "cell_type": "code",
      "source": [
        "# Check it!\n",
        "division = (0.3 / 3)\n",
        "\n",
        "print(f'{division:.20f}')"
      ],
      "metadata": {
        "colab": {
          "base_uri": "https://localhost:8080/"
        },
        "id": "iV5BSp6hzTb4",
        "outputId": "987bce1a-d1aa-431f-fd2b-53d989b74705"
      },
      "execution_count": 209,
      "outputs": [
        {
          "output_type": "stream",
          "name": "stdout",
          "text": [
            "0.09999999999999999167\n"
          ]
        }
      ]
    },
    {
      "cell_type": "markdown",
      "source": [
        "[EN] This is because the floating point limitations, 0.09999... is not 0.1! and the comparison `==` has no tolerance!\n",
        "\n",
        "[PT] Isso é causado porque o ponto flutuante tem suas limitações de representação, e 0.0999.. não é 0.1! e a comparação do `==` não possui nenhuma tolerância.\n",
        "\n",
        "-----------\n",
        "\n",
        "Refs: https://docs.python.org/3/tutorial/floatingpoint.html"
      ],
      "metadata": {
        "id": "IbX-8gZAzsL6"
      }
    },
    {
      "cell_type": "code",
      "source": [
        "md(questions.get(32))"
      ],
      "metadata": {
        "colab": {
          "base_uri": "https://localhost:8080/",
          "height": 90
        },
        "id": "noNmuJ5I03bY",
        "outputId": "19e99d96-5c95-43cd-80d4-850270aad4a5"
      },
      "execution_count": 210,
      "outputs": [
        {
          "output_type": "execute_result",
          "data": {
            "text/plain": [
              "<IPython.core.display.Markdown object>"
            ],
            "text/markdown": "\n\n## 32. Cuidado com operações booleanas!\nPor que `3 & 5` é igual a `1` e `3 and 5` é igual `5` ?"
          },
          "metadata": {},
          "execution_count": 210
        }
      ]
    },
    {
      "cell_type": "code",
      "source": [
        "# Check it\n",
        "print(3 & 5)\n",
        "\n",
        "print(3 and 5)"
      ],
      "metadata": {
        "colab": {
          "base_uri": "https://localhost:8080/"
        },
        "id": "wGgpF604088Q",
        "outputId": "e9fa3f73-e79a-4029-f2cc-58a28b132bb2"
      },
      "execution_count": 212,
      "outputs": [
        {
          "output_type": "stream",
          "name": "stdout",
          "text": [
            "1\n",
            "5\n"
          ]
        }
      ]
    },
    {
      "cell_type": "markdown",
      "source": [
        "[EN]\n",
        "- The operator `&` is a bitwise operator. So 3: 011, 5: 101 then => 011 & 101 = 001 (is the decimal 1).\n",
        "\n",
        "- The operator `and` is a logical operator and the behavior check if the first element is False, if it is not the case the last value is returned (5 in this situation)\n",
        "\n",
        "[PT]\n",
        "- O operador `&` é um operador bit a bit. Então 3: 011, 5: 101 então => 011 e 101 = 001 (é o decimal 1).\n",
        "\n",
        "- O operador `and` é um operador lógico e o comportamento verifica se o primeiro elemento é False, caso contrário o último valor é retornado (5 nesta situação)\n",
        "\n",
        "---------------\n",
        "\n",
        "Refs:\n",
        "- https://docs.python.org/3/library/stdtypes.html#boolean-operations-and-or-not\n",
        "- https://docs.python.org/3/reference/expressions.html#and\n"
      ],
      "metadata": {
        "id": "ytjrUBSD1TA7"
      }
    }
  ]
}