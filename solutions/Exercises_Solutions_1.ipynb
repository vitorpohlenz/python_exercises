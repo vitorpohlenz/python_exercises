{
  "cells": [
    {
      "cell_type": "markdown",
      "metadata": {
        "colab_type": "text",
        "id": "view-in-github"
      },
      "source": [
        "<a href=\"https://colab.research.google.com/github/vitorpohlenz/python_exercises/blob/main/solutions/Exercises_Solutions_1.ipynb\" target=\"_parent\"><img src=\"https://colab.research.google.com/assets/colab-badge.svg\" alt=\"Open In Colab\"/></a>"
      ]
    },
    {
      "cell_type": "markdown",
      "metadata": {
        "id": "jM3IdlPQourA"
      },
      "source": [
        "# Language\n",
        "\n",
        "[EN] Please select the language.\n",
        "\n",
        "[PT] Por favor selecione a linguadem."
      ]
    },
    {
      "cell_type": "code",
      "execution_count": 1,
      "metadata": {
        "id": "7oPN-pqODga1"
      },
      "outputs": [],
      "source": [
        "# 'PTBR': Português\n",
        "# 'EN': English\n",
        "LANGUAGE = 'PTBR'"
      ]
    },
    {
      "cell_type": "markdown",
      "metadata": {
        "id": "089nyz4hDnri"
      },
      "source": [
        "# Setup"
      ]
    },
    {
      "cell_type": "code",
      "execution_count": 2,
      "metadata": {
        "id": "L_LyBYYrr-cn"
      },
      "outputs": [],
      "source": [
        "import os\n",
        "import math\n",
        "import numpy as np\n",
        "from IPython.display import Markdown as md # Displaying Markdown as \"prints\""
      ]
    },
    {
      "cell_type": "markdown",
      "metadata": {
        "id": "ZyfGjTf0DZxV"
      },
      "source": [
        "<font color = \"yellow\">[EN] Please do not change the following code! </font>\n",
        "\n",
        "<font color = \"yellow\">[PT] Por favor não altere o código abaixo! </font>"
      ]
    },
    {
      "cell_type": "code",
      "execution_count": 3,
      "metadata": {
        "colab": {
          "base_uri": "https://localhost:8080/"
        },
        "id": "XaX4qBnViWOM",
        "outputId": "ad63d72b-d873-4628-d2f0-1fab17311f12"
      },
      "outputs": [
        {
          "name": "stdout",
          "output_type": "stream",
          "text": [
            "Cloning into 'python_exercises'...\n",
            "remote: Enumerating objects: 45, done.\u001b[K\n",
            "remote: Counting objects: 100% (45/45), done.\u001b[K\n",
            "remote: Compressing objects: 100% (37/37), done.\u001b[K\n",
            "remote: Total 45 (delta 13), reused 20 (delta 4), pack-reused 0 (from 0)\u001b[K\n",
            "Receiving objects: 100% (45/45), 19.64 KiB | 4.91 MiB/s, done.\n",
            "Resolving deltas: 100% (13/13), done.\n"
          ]
        }
      ],
      "source": [
        "!git clone https://github.com/vitorpohlenz/python_exercises.git --branch main --single-branch"
      ]
    },
    {
      "cell_type": "code",
      "execution_count": 4,
      "metadata": {
        "id": "e9gtnBc5qWlF"
      },
      "outputs": [],
      "source": [
        "# Reading Markdown file with the exercises.\n",
        "with open(f'python_exercises/exercises/List_1_{LANGUAGE}.md','r') as file:\n",
        "  exercises_raw = file.read()"
      ]
    },
    {
      "cell_type": "code",
      "execution_count": 5,
      "metadata": {
        "id": "YlOOasNnsyWI"
      },
      "outputs": [],
      "source": [
        "# Header of the file.\n",
        "header = exercises_raw.split('## 1')[0]"
      ]
    },
    {
      "cell_type": "code",
      "execution_count": 6,
      "metadata": {
        "id": "OOrf0QHrtqFB"
      },
      "outputs": [],
      "source": [
        "# Raw string with the questions.\n",
        "questions_raw = exercises_raw.replace(header,'')"
      ]
    },
    {
      "cell_type": "code",
      "execution_count": 7,
      "metadata": {
        "id": "H8LW6njsu8_a"
      },
      "outputs": [],
      "source": [
        "# Putting the questions in to a dict to be displayed.\n",
        "questions = dict()\n",
        "for q_string in questions_raw.split(';'):\n",
        "  if '## ' in q_string:\n",
        "    q_num = int(q_string.replace('## ','').split('.')[0])\n",
        "    questions[q_num] = q_string"
      ]
    },
    {
      "cell_type": "markdown",
      "metadata": {
        "id": "XKoDYjHbD2v7"
      },
      "source": [
        "# Suggested Solutions\n",
        "[EN] The solutions provided are just suggestions, there are other possible solutions.\n",
        "\n",
        "For now on <font color = \"whitegreen\"> feel free to change</font> the code if you want, and <font color = \"yellow\"> please report any issues!</font>\n",
        "\n",
        "[PT] As soluções fornecidas aqui são apenas sugestões, existem outras soluções possíveis.\n",
        "\n",
        "Daqui em diante <font color = \"whitegreen\"> fique a vontade para modificar</font> o código se quiser, e <font color = \"yellow\"> por favor reportem qualquer problema!</font>\n",
        "\n"
      ]
    },
    {
      "cell_type": "code",
      "execution_count": 8,
      "metadata": {
        "colab": {
          "base_uri": "https://localhost:8080/",
          "height": 74
        },
        "id": "6qlj9ap3ta0O",
        "outputId": "f6d0801c-ddd7-4e87-cb86-137d41799b6f"
      },
      "outputs": [
        {
          "data": {
            "text/markdown": [
              "\n",
              "# Lista de Exercícios Básicos de Python\n",
              "\n"
            ],
            "text/plain": [
              "<IPython.core.display.Markdown object>"
            ]
          },
          "execution_count": 8,
          "metadata": {},
          "output_type": "execute_result"
        }
      ],
      "source": [
        "md(header)"
      ]
    },
    {
      "cell_type": "code",
      "execution_count": 9,
      "metadata": {
        "colab": {
          "base_uri": "https://localhost:8080/",
          "height": 90
        },
        "id": "gykgNQRhtEa5",
        "outputId": "81408b63-07ff-479e-9bff-30440c8ba671"
      },
      "outputs": [
        {
          "data": {
            "text/markdown": [
              "## 1. Soma de Dois Números\n",
              "Peça ao usuário dois números inteiros e exiba a soma deles"
            ],
            "text/plain": [
              "<IPython.core.display.Markdown object>"
            ]
          },
          "execution_count": 9,
          "metadata": {},
          "output_type": "execute_result"
        }
      ],
      "source": [
        "md(questions.get(1))"
      ]
    },
    {
      "cell_type": "code",
      "execution_count": 10,
      "metadata": {
        "colab": {
          "base_uri": "https://localhost:8080/"
        },
        "id": "msX1M_cPFRZv",
        "outputId": "cee45156-1d06-47a5-b343-a98924e4dae2"
      },
      "outputs": [
        {
          "name": "stdout",
          "output_type": "stream",
          "text": [
            "Number 1: 11\n",
            "Number 2: 22\n",
            "The sum of 11 and 22 is 33\n"
          ]
        }
      ],
      "source": [
        "number_1 = input('Number 1: ')\n",
        "number_2 = input('Number 2: ')\n",
        "print(f'The sum of {number_1} and {number_2} is {int(number_1) + int(number_2)}')"
      ]
    },
    {
      "cell_type": "code",
      "execution_count": 10,
      "metadata": {
        "colab": {
          "base_uri": "https://localhost:8080/",
          "height": 90
        },
        "id": "on6ASjbcFM6F",
        "outputId": "bb37ca94-618a-4168-fc14-a149020bbc71"
      },
      "outputs": [
        {
          "data": {
            "text/markdown": [
              "\n",
              "\n",
              "## 2. Concatenação de Strings\n",
              "Peça duas strings ao usuário e mostre a concatenação delas"
            ],
            "text/plain": [
              "<IPython.core.display.Markdown object>"
            ]
          },
          "execution_count": 10,
          "metadata": {},
          "output_type": "execute_result"
        }
      ],
      "source": [
        "md(questions.get(2))"
      ]
    },
    {
      "cell_type": "code",
      "execution_count": null,
      "metadata": {
        "colab": {
          "base_uri": "https://localhost:8080/"
        },
        "id": "6TrP2mr9GTBX",
        "outputId": "a714dc1f-275e-4d3d-b654-d0c1571a2f81"
      },
      "outputs": [
        {
          "name": "stdout",
          "output_type": "stream",
          "text": [
            "String 1: Do not know what to write.\n",
            "String 2:  But I need to write.\n",
            "String 1 concatenated with String 2 is: Do not know what to write. But I need to write.\n"
          ]
        }
      ],
      "source": [
        "string_1 = input('String 1: ')\n",
        "string_2 = input('String 2: ')\n",
        "print(f'String 1 concatenated with String 2 is: {string_1 + string_2}')"
      ]
    },
    {
      "cell_type": "code",
      "execution_count": 12,
      "metadata": {
        "colab": {
          "base_uri": "https://localhost:8080/",
          "height": 90
        },
        "id": "QCyVeUdAHZyB",
        "outputId": "74bbfb7f-f6ca-4ade-cf6a-93e08965d68b"
      },
      "outputs": [
        {
          "data": {
            "text/markdown": [
              "\n",
              "\n",
              "## 3. Verificar Par ou Ímpar\n",
              "Peça um número ao usuário e verifique se ele é par ou ímpar"
            ],
            "text/plain": [
              "<IPython.core.display.Markdown object>"
            ]
          },
          "execution_count": 12,
          "metadata": {},
          "output_type": "execute_result"
        }
      ],
      "source": [
        "md(questions.get(3))"
      ]
    },
    {
      "cell_type": "code",
      "execution_count": null,
      "metadata": {
        "colab": {
          "base_uri": "https://localhost:8080/"
        },
        "id": "mJKMmkGBHqn1",
        "outputId": "dbb289b5-5717-4a01-dc29-b2a103be1de0"
      },
      "outputs": [
        {
          "name": "stdout",
          "output_type": "stream",
          "text": [
            "Number: 55\n",
            "The number is odd (impar)\n"
          ]
        }
      ],
      "source": [
        "number = input('Number: ')\n",
        "is_odd = bool(int(number) % 2)\n",
        "result_string = 'odd (impar)' if is_odd else 'even (par)'\n",
        "print(f\"The number is {result_string}\")"
      ]
    },
    {
      "cell_type": "code",
      "execution_count": 13,
      "metadata": {
        "colab": {
          "base_uri": "https://localhost:8080/",
          "height": 90
        },
        "id": "nJK5mQTxKDcp",
        "outputId": "920390a1-586c-45e2-bfb7-5cdc0bdd94bc"
      },
      "outputs": [
        {
          "data": {
            "text/markdown": [
              "\n",
              "\n",
              "## 4. Divisão com Resto\n",
              "Peça dois números inteiros ao usuário e mostre o resultado da divisão inteira e o resto"
            ],
            "text/plain": [
              "<IPython.core.display.Markdown object>"
            ]
          },
          "execution_count": 13,
          "metadata": {},
          "output_type": "execute_result"
        }
      ],
      "source": [
        "md(questions.get(4))"
      ]
    },
    {
      "cell_type": "code",
      "execution_count": null,
      "metadata": {
        "colab": {
          "base_uri": "https://localhost:8080/"
        },
        "id": "TKhJHIsYMl37",
        "outputId": "ec0624c6-2916-4088-c289-cb9c3c40a9f2"
      },
      "outputs": [
        {
          "name": "stdout",
          "output_type": "stream",
          "text": [
            "First number: 5\n",
            "Second number: 3\n",
            "Quotient: 1\n",
            "Remainder: 2\n"
          ]
        }
      ],
      "source": [
        "first_number = input('First number: ')\n",
        "second_number = input('Second number: ')\n",
        "\n",
        "quotient = int(first_number)/int(second_number)\n",
        "remainder = int(first_number)%int(second_number)\n",
        "\n",
        "print(f'Quotient: {int(quotient)}')\n",
        "print(f'Remainder: {remainder}')"
      ]
    },
    {
      "cell_type": "code",
      "execution_count": 14,
      "metadata": {
        "colab": {
          "base_uri": "https://localhost:8080/",
          "height": 90
        },
        "id": "Ti1nbO0bL4NT",
        "outputId": "a3f3395b-e7b8-4116-ffe3-be5d81ce321e"
      },
      "outputs": [
        {
          "data": {
            "text/markdown": [
              "\n",
              "\n",
              "## 5. Maior de Três Números\n",
              "Peça três números ao usuário e exiba o maior entre eles"
            ],
            "text/plain": [
              "<IPython.core.display.Markdown object>"
            ]
          },
          "execution_count": 14,
          "metadata": {},
          "output_type": "execute_result"
        }
      ],
      "source": [
        "md(questions.get(5))"
      ]
    },
    {
      "cell_type": "code",
      "execution_count": null,
      "metadata": {
        "colab": {
          "base_uri": "https://localhost:8080/"
        },
        "id": "jDd1SJrrOJ3I",
        "outputId": "32151dae-d5ff-43b5-9212-42f4f6815132"
      },
      "outputs": [
        {
          "name": "stdout",
          "output_type": "stream",
          "text": [
            "Number 1: 2\n",
            "Number 2: 5\n",
            "Number 3: 1\n",
            "The largest number is 5.0\n"
          ]
        }
      ],
      "source": [
        "number_1 = float(input('Number 1: '))\n",
        "number_2 = float(input('Number 2: '))\n",
        "number_3 = float(input('Number 3: '))\n",
        "\n",
        "print(f'The largest number is {max(number_1,number_2,number_3)}')"
      ]
    },
    {
      "cell_type": "code",
      "execution_count": 15,
      "metadata": {
        "colab": {
          "base_uri": "https://localhost:8080/",
          "height": 90
        },
        "id": "HU0hUAN3OUHR",
        "outputId": "a289984d-6370-4cd6-e11c-eb12b5cc12d5"
      },
      "outputs": [
        {
          "data": {
            "text/markdown": [
              "\n",
              "\n",
              "## 6. Contar Caracteres em uma String\n",
              "Peça uma string ao usuário e exiba o número de caracteres"
            ],
            "text/plain": [
              "<IPython.core.display.Markdown object>"
            ]
          },
          "execution_count": 15,
          "metadata": {},
          "output_type": "execute_result"
        }
      ],
      "source": [
        "md(questions.get(6))"
      ]
    },
    {
      "cell_type": "code",
      "execution_count": null,
      "metadata": {
        "colab": {
          "base_uri": "https://localhost:8080/"
        },
        "id": "DxGfXlx8Ozet",
        "outputId": "38009fa9-3d77-4239-8838-a300c503e99a"
      },
      "outputs": [
        {
          "name": "stdout",
          "output_type": "stream",
          "text": [
            "String: Loooooooooong_String\n",
            "The string has 20 characters\n"
          ]
        }
      ],
      "source": [
        "string = input('String: ')\n",
        "print(f'The string has {len(string)} characters')"
      ]
    },
    {
      "cell_type": "code",
      "execution_count": 16,
      "metadata": {
        "colab": {
          "base_uri": "https://localhost:8080/",
          "height": 90
        },
        "id": "gYh2vJIvO88C",
        "outputId": "463dde48-de7f-431d-a976-f0ac678c1f93"
      },
      "outputs": [
        {
          "data": {
            "text/markdown": [
              "\n",
              "\n",
              "## 7. Fatorial de um Número\n",
              "Calcule o fatorial de um número dado pelo usuário usando um loop"
            ],
            "text/plain": [
              "<IPython.core.display.Markdown object>"
            ]
          },
          "execution_count": 16,
          "metadata": {},
          "output_type": "execute_result"
        }
      ],
      "source": [
        "md(questions.get(7))"
      ]
    },
    {
      "cell_type": "code",
      "execution_count": null,
      "metadata": {
        "colab": {
          "base_uri": "https://localhost:8080/"
        },
        "id": "OeTKwfGEPI7Y",
        "outputId": "c8480f5b-4ca7-4d34-92f5-480bd109ce9b"
      },
      "outputs": [
        {
          "name": "stdout",
          "output_type": "stream",
          "text": [
            "Number: 5\n",
            "5! is 120\n",
            "5! in Pythonic way is 120\n"
          ]
        }
      ],
      "source": [
        "number = int(input('Number: '))\n",
        "\n",
        "fatorial = 1\n",
        "# Using for.\n",
        "for k in range(1,number+1):\n",
        "  fatorial *= k\n",
        "\n",
        "print(f'{number}! is {fatorial}')\n",
        "\n",
        "# Pythonic way. Needs to import `math`.\n",
        "print(f'{number}! in Pythonic way is {math.factorial(number)}')"
      ]
    },
    {
      "cell_type": "code",
      "execution_count": 17,
      "metadata": {
        "colab": {
          "base_uri": "https://localhost:8080/",
          "height": 90
        },
        "id": "nfR7SEbiQWCT",
        "outputId": "3709a932-21ce-409d-a5ee-302c048cdbfd"
      },
      "outputs": [
        {
          "data": {
            "text/markdown": [
              "\n",
              "\n",
              "## 8. Tabuada de um Número\n",
              "Peça um número ao usuário e exiba a tabuada desse número (do 1 ao 10)"
            ],
            "text/plain": [
              "<IPython.core.display.Markdown object>"
            ]
          },
          "execution_count": 17,
          "metadata": {},
          "output_type": "execute_result"
        }
      ],
      "source": [
        "md(questions.get(8))"
      ]
    },
    {
      "cell_type": "code",
      "execution_count": 10,
      "metadata": {
        "colab": {
          "base_uri": "https://localhost:8080/"
        },
        "id": "ecu7d958Tivg",
        "outputId": "ff04b78a-0fd1-434a-8835-e34763e0e138"
      },
      "outputs": [
        {
          "name": "stdout",
          "output_type": "stream",
          "text": [
            "Number: 5\n",
            "5.0 x 1 = 5.0\n",
            "5.0 x 2 = 10.0\n",
            "5.0 x 3 = 15.0\n",
            "5.0 x 4 = 20.0\n",
            "5.0 x 5 = 25.0\n",
            "5.0 x 6 = 30.0\n",
            "5.0 x 7 = 35.0\n",
            "5.0 x 8 = 40.0\n",
            "5.0 x 9 = 45.0\n",
            "5.0 x 10 = 50.0\n",
            "Pythonic way is :[ 5. 10. 15. 20. 25. 30. 35. 40. 45. 50.]\n"
          ]
        }
      ],
      "source": [
        "number = float(input('Number: '))\n",
        "t_list = [1,2,3,4,5,6,7,8,9,10]\n",
        "\n",
        "# Using for\n",
        "for k in range(1,11):\n",
        "  print(f'{number} x {k} = {number*k}')\n",
        "\n",
        "# Pythonic way. Needs to import numpy\n",
        "print(f'Pythonic way is :{number*np.arange(1,11)}')"
      ]
    },
    {
      "cell_type": "code",
      "execution_count": 18,
      "metadata": {
        "colab": {
          "base_uri": "https://localhost:8080/",
          "height": 90
        },
        "id": "1JLwr7x0UAuH",
        "outputId": "af65e9fe-cce4-4bca-ff93-36f17157323d"
      },
      "outputs": [
        {
          "data": {
            "text/markdown": [
              "\n",
              "\n",
              "## 9. Reverter String\n",
              "Peça uma string ao usuário e mostre-a invertida"
            ],
            "text/plain": [
              "<IPython.core.display.Markdown object>"
            ]
          },
          "execution_count": 18,
          "metadata": {},
          "output_type": "execute_result"
        }
      ],
      "source": [
        "md(questions.get(9))"
      ]
    },
    {
      "cell_type": "code",
      "execution_count": null,
      "metadata": {
        "colab": {
          "base_uri": "https://localhost:8080/"
        },
        "id": "jDma7erdUCci",
        "outputId": "43d1a958-0702-4303-ff1e-b536d199abfd"
      },
      "outputs": [
        {
          "name": "stdout",
          "output_type": "stream",
          "text": [
            "String: AAAAaaaaa...\n",
            "The string in reverse is ...aaaaaAAAA\n"
          ]
        }
      ],
      "source": [
        "string = input('String: ')\n",
        "print(f'The string in reverse is {string[::-1]}')"
      ]
    },
    {
      "cell_type": "code",
      "execution_count": 19,
      "metadata": {
        "colab": {
          "base_uri": "https://localhost:8080/",
          "height": 90
        },
        "id": "_jwjLqGNUOkc",
        "outputId": "30b9d8c8-5cb3-4128-8084-84cf7be61ec2"
      },
      "outputs": [
        {
          "data": {
            "text/markdown": [
              "\n",
              "\n",
              "## 10. Contar Vogais em uma String\n",
              "Peça uma string ao usuário e conte quantas vogais ela contém"
            ],
            "text/plain": [
              "<IPython.core.display.Markdown object>"
            ]
          },
          "execution_count": 19,
          "metadata": {},
          "output_type": "execute_result"
        }
      ],
      "source": [
        "md(questions.get(10))"
      ]
    },
    {
      "cell_type": "code",
      "execution_count": null,
      "metadata": {
        "colab": {
          "base_uri": "https://localhost:8080/"
        },
        "id": "x5jNYJQyUQIw",
        "outputId": "94e80097-85f9-41f9-a96f-45ba5d59bbb1"
      },
      "outputs": [
        {
          "name": "stdout",
          "output_type": "stream",
          "text": [
            "String: MinE CustOm StrIng\n",
            "The total of vowels in the string is: 5\n"
          ]
        }
      ],
      "source": [
        "string = input('String: ')\n",
        "string = string.lower()\n",
        "\n",
        "a = string.count('a')\n",
        "e = string.count('e')\n",
        "i = string.count('i')\n",
        "o = string.count('o')\n",
        "u = string.count('u')\n",
        "\n",
        "print(f'The total of vowels in the string is: {a+e+i+o+u}')"
      ]
    },
    {
      "cell_type": "code",
      "execution_count": 20,
      "metadata": {
        "colab": {
          "base_uri": "https://localhost:8080/",
          "height": 90
        },
        "id": "_vf0tyf_V9az",
        "outputId": "a9905a9a-fb46-4867-8e75-6575ccc2b2b7"
      },
      "outputs": [
        {
          "data": {
            "text/markdown": [
              "\n",
              "\n",
              "## 11. Soma dos Números de 1 a 100\n",
              "Use um loop para calcular e exibir a soma dos números de 1 a 100"
            ],
            "text/plain": [
              "<IPython.core.display.Markdown object>"
            ]
          },
          "execution_count": 20,
          "metadata": {},
          "output_type": "execute_result"
        }
      ],
      "source": [
        "md(questions.get(11))"
      ]
    },
    {
      "cell_type": "code",
      "execution_count": null,
      "metadata": {
        "colab": {
          "base_uri": "https://localhost:8080/"
        },
        "id": "_211klW2WA2X",
        "outputId": "7c64b32d-b390-4083-ddfe-7af15eeafa82"
      },
      "outputs": [
        {
          "name": "stdout",
          "output_type": "stream",
          "text": [
            "The sum of the first 100 numbers is 5050\n",
            "The sum of the first 100 numbers in Pythonic way is 5050\n"
          ]
        }
      ],
      "source": [
        "# Using for\n",
        "s = 0\n",
        "for k in range(1,101):\n",
        "  s +=k\n",
        "\n",
        "print(f\"The sum of the first 100 numbers is {s}\")\n",
        "\n",
        "# Pythonic\n",
        "print(f\"The sum of the first 100 numbers in Pythonic way is {sum(range(1,101))}\")\n"
      ]
    },
    {
      "cell_type": "code",
      "execution_count": 21,
      "metadata": {
        "colab": {
          "base_uri": "https://localhost:8080/",
          "height": 90
        },
        "id": "nAWrylvKWV4a",
        "outputId": "4d48fb36-7057-498f-d661-5134a2d6d935"
      },
      "outputs": [
        {
          "data": {
            "text/markdown": [
              "\n",
              "\n",
              "## 12. Números Pares de 1 a 50\n",
              "Exiba todos os números pares de 1 a 50 usando um loop"
            ],
            "text/plain": [
              "<IPython.core.display.Markdown object>"
            ]
          },
          "execution_count": 21,
          "metadata": {},
          "output_type": "execute_result"
        }
      ],
      "source": [
        "md(questions.get(12))"
      ]
    },
    {
      "cell_type": "code",
      "execution_count": null,
      "metadata": {
        "colab": {
          "base_uri": "https://localhost:8080/"
        },
        "id": "opxtNhGvWxUi",
        "outputId": "b036772f-4a84-4c53-bf6f-276d2cf6dbe4"
      },
      "outputs": [
        {
          "name": "stdout",
          "output_type": "stream",
          "text": [
            "The list of even numbers is [2, 4, 6, 8, 10, 12, 14, 16, 18, 20, 22, 24, 26, 28, 30, 32, 34, 36, 38, 40, 42, 44, 46, 48, 50]\n",
            "The list of even numbers in Pythonic way is [2, 4, 6, 8, 10, 12, 14, 16, 18, 20, 22, 24, 26, 28, 30, 32, 34, 36, 38, 40, 42, 44, 46, 48, 50]\n"
          ]
        }
      ],
      "source": [
        "# Using for\n",
        "even_list = []\n",
        "\n",
        "for k in range(1,51):\n",
        "  if (k % 2) == 0:\n",
        "    even_list.append(k)\n",
        "\n",
        "print(f'The list of even numbers is {even_list}')\n",
        "\n",
        "# Pythonic. Needs to import numpy\n",
        "numbers_array = np.array(range(1,51))\n",
        "bool_array = (numbers_array % 2) == 0\n",
        "print(f'The list of even numbers in Pythonic way is {list(numbers_array[bool_array])}')"
      ]
    },
    {
      "cell_type": "code",
      "execution_count": 22,
      "metadata": {
        "colab": {
          "base_uri": "https://localhost:8080/",
          "height": 90
        },
        "id": "uspNqj04abuv",
        "outputId": "674d4ce0-cd5d-4723-c173-bce15667c134"
      },
      "outputs": [
        {
          "data": {
            "text/markdown": [
              "\n",
              "\n",
              "## 13. Verificar Palíndromo\n",
              "Verifique se uma palavra é um palíndromo (mesma palavra lida de trás para frente)"
            ],
            "text/plain": [
              "<IPython.core.display.Markdown object>"
            ]
          },
          "execution_count": 22,
          "metadata": {},
          "output_type": "execute_result"
        }
      ],
      "source": [
        "md(questions.get(13))"
      ]
    },
    {
      "cell_type": "code",
      "execution_count": null,
      "metadata": {
        "colab": {
          "base_uri": "https://localhost:8080/"
        },
        "id": "CDIUUfz2a2l5",
        "outputId": "1e8e8484-45c6-4ea0-8674-1fa13686fcae"
      },
      "outputs": [
        {
          "name": "stdout",
          "output_type": "stream",
          "text": [
            "String: Ana\n",
            "This string is a palindrome: True\n"
          ]
        }
      ],
      "source": [
        "string = input('String: ').lower()\n",
        "print(f'This string is a palindrome: {string==string[::-1]}')"
      ]
    },
    {
      "cell_type": "code",
      "execution_count": 23,
      "metadata": {
        "colab": {
          "base_uri": "https://localhost:8080/",
          "height": 90
        },
        "id": "M7e5XW85bdsS",
        "outputId": "451f6edc-9885-4c42-d057-5a4b6556cc6b"
      },
      "outputs": [
        {
          "data": {
            "text/markdown": [
              "\n",
              "\n",
              "## 14. Cálculo de Média\n",
              "Peça cinco números ao usuário e calcule a média deles. Desafio: generalize para quantos números o usuário quiser"
            ],
            "text/plain": [
              "<IPython.core.display.Markdown object>"
            ]
          },
          "execution_count": 23,
          "metadata": {},
          "output_type": "execute_result"
        }
      ],
      "source": [
        "md(questions.get(14))"
      ]
    },
    {
      "cell_type": "code",
      "execution_count": 19,
      "metadata": {
        "colab": {
          "base_uri": "https://localhost:8080/"
        },
        "id": "qQBse6q_bfEt",
        "outputId": "348cb86f-7925-4f1d-dcbb-90a3e1041f5a"
      },
      "outputs": [
        {
          "name": "stdout",
          "output_type": "stream",
          "text": [
            "Number 1: 1\n",
            "Number 2: 2\n",
            "Number 3: 3\n",
            "Number 4: 4\n",
            "Number 5: 5\n",
            "The mean is 3.0\n",
            "The mean in Pythonic is 3.0\n"
          ]
        }
      ],
      "source": [
        "number_1 = float(input('Number 1: '))\n",
        "number_2 = float(input('Number 2: '))\n",
        "number_3 = float(input('Number 3: '))\n",
        "number_4 = float(input('Number 4: '))\n",
        "number_5 = float(input('Number 5: '))\n",
        "\n",
        "print(f'The mean is {(number_1 + number_2 + number_3 + number_4 + number_5)/5}')\n",
        "\n",
        "# Pythonic way. Needs to import numpy.\n",
        "print(f'The mean in Pythonic is {np.mean([number_1,number_2,number_3,number_4,number_5])}')"
      ]
    },
    {
      "cell_type": "markdown",
      "metadata": {
        "id": "7mpAKs8OcAWg"
      },
      "source": [
        "Challange"
      ]
    },
    {
      "cell_type": "code",
      "execution_count": 12,
      "metadata": {
        "colab": {
          "base_uri": "https://localhost:8080/"
        },
        "id": "CYzNH62fcBte",
        "outputId": "9e27c67a-6e26-4970-eb3e-012682576dd9"
      },
      "outputs": [
        {
          "name": "stdout",
          "output_type": "stream",
          "text": [
            "Insert the numbers separeted by a comma ',': 1,2,3,4,5\n",
            "The mean of the numbers is 3.0\n",
            "The mean of the numbers in Pythonic way is 3.0\n"
          ]
        }
      ],
      "source": [
        "numbers_str = input(\"Insert the numbers separeted by a comma ',': \")\n",
        "numbers = numbers_str.split(',')\n",
        "\n",
        "# Using for:\n",
        "for k in range(len(numbers)):\n",
        "  numbers[k] = float(numbers[k])\n",
        "\n",
        "print(f'The mean of the numbers is {sum(numbers)/len(numbers)}')\n",
        "\n",
        "# Pythonic way. Needs to import numpy\n",
        "numbers_pythonic = np.array(numbers_str.split(','), dtype = 'float')\n",
        "print(f'The mean of the numbers in Pythonic way is {numbers_pythonic.mean()}')"
      ]
    },
    {
      "cell_type": "code",
      "execution_count": 11,
      "metadata": {
        "colab": {
          "base_uri": "https://localhost:8080/",
          "height": 90
        },
        "id": "DI3KJrCacZBb",
        "outputId": "2077457c-9bb4-412c-e5ab-3543b5be6dda"
      },
      "outputs": [
        {
          "data": {
            "text/markdown": [
              "\n",
              "\n",
              "## 15. Contar Ocorrências de uma Letra\n",
              "Conte quantas vezes uma determinada letra aparece dentro da string"
            ],
            "text/plain": [
              "<IPython.core.display.Markdown object>"
            ]
          },
          "execution_count": 11,
          "metadata": {},
          "output_type": "execute_result"
        }
      ],
      "source": [
        "md(questions.get(15))"
      ]
    },
    {
      "cell_type": "code",
      "execution_count": 27,
      "metadata": {
        "colab": {
          "base_uri": "https://localhost:8080/"
        },
        "id": "D9axIw_kdctn",
        "outputId": "acc0a5fc-572f-45a9-b534-7783c384e3bb"
      },
      "outputs": [
        {
          "name": "stdout",
          "output_type": "stream",
          "text": [
            "Lazy count = 5\n",
            "Pythonic char count: 5\n"
          ]
        }
      ],
      "source": [
        "string = \"Mine test string to use in here\"\n",
        "char = 'e'\n",
        "\n",
        "# Lazy way.\n",
        "count = 0\n",
        "for c in string.lower():\n",
        "  if c == char.lower():\n",
        "    count += 1\n",
        "\n",
        "# Pythonic way.\n",
        "pythonic_char_count = string.lower().count(char.lower())\n",
        "\n",
        "print(f\"Lazy {count = }\")\n",
        "print(f\"Pythonic char count: {pythonic_char_count}\")"
      ]
    },
    {
      "cell_type": "code",
      "execution_count": 13,
      "metadata": {
        "colab": {
          "base_uri": "https://localhost:8080/",
          "height": 90
        },
        "id": "ScgWjukGfGh5",
        "outputId": "ca25f0f6-9983-469d-d59a-e108e581f449"
      },
      "outputs": [
        {
          "data": {
            "text/markdown": [
              "\n",
              "\n",
              "## 16. Inverter Lista\n",
              "Faça a reverssão de uma lista"
            ],
            "text/plain": [
              "<IPython.core.display.Markdown object>"
            ]
          },
          "execution_count": 13,
          "metadata": {},
          "output_type": "execute_result"
        }
      ],
      "source": [
        "md(questions.get(16))"
      ]
    },
    {
      "cell_type": "code",
      "execution_count": null,
      "metadata": {
        "colab": {
          "base_uri": "https://localhost:8080/"
        },
        "id": "vXqfAH1ngE44",
        "outputId": "2d89c77a-ce89-4fa0-bcb7-9a171f699ca1"
      },
      "outputs": [
        {
          "name": "stdout",
          "output_type": "stream",
          "text": [
            "The reversed list is [9, 8, 7, 6, 5, 4, 3, 2, 1, 0]\n"
          ]
        }
      ],
      "source": [
        "dummy_list = list(range(10))\n",
        "\n",
        "reversed_list = dummy_list[::-1]\n",
        "print(f'The reversed list is {reversed_list}')"
      ]
    },
    {
      "cell_type": "code",
      "execution_count": 14,
      "metadata": {
        "colab": {
          "base_uri": "https://localhost:8080/",
          "height": 90
        },
        "id": "AviMojjNgTon",
        "outputId": "9c9a965c-2738-4b79-c588-f7dd4b120a59"
      },
      "outputs": [
        {
          "data": {
            "text/markdown": [
              "\n",
              "\n",
              "## 17. Contar Palavras em uma Frase\n",
              "Conte o número de palavras contidas em uma frase"
            ],
            "text/plain": [
              "<IPython.core.display.Markdown object>"
            ]
          },
          "execution_count": 14,
          "metadata": {},
          "output_type": "execute_result"
        }
      ],
      "source": [
        "md(questions.get(17))"
      ]
    },
    {
      "cell_type": "code",
      "execution_count": 28,
      "metadata": {
        "colab": {
          "base_uri": "https://localhost:8080/"
        },
        "id": "p3-OZFLQgefj",
        "outputId": "5238072b-c46e-44b6-b219-19e9f9abe073"
      },
      "outputs": [
        {
          "name": "stdout",
          "output_type": "stream",
          "text": [
            "2\n"
          ]
        }
      ],
      "source": [
        "string = \"Mine test string to use with a lot of words to test\"\n",
        "word = 'test'\n",
        "\n",
        "# Pythonic way.\n",
        "pythonic_word_count = string.lower().count(word.lower())\n",
        "\n",
        "print(pythonic_word_count)"
      ]
    },
    {
      "cell_type": "markdown",
      "metadata": {
        "id": "S1iKIH0jhOH_"
      },
      "source": [
        "[EN] Wait isn't it the same way as in ` pythonic_char_count` ?\n",
        " - Yes, in Python we don't have the `char` type, everything is a `str`.\n",
        "\n",
        "[PT] Espera ai, essa não é a mesmo que em ` pythonic_char_count` ?\n",
        " - Sim, em Python não existe o tipo `char`, tudo é considerado como uma `str`."
      ]
    },
    {
      "cell_type": "code",
      "execution_count": 15,
      "metadata": {
        "colab": {
          "base_uri": "https://localhost:8080/",
          "height": 90
        },
        "id": "TfVtrmt3huL2",
        "outputId": "3eb15b8b-df0c-43ec-a8a6-97b715c18133"
      },
      "outputs": [
        {
          "data": {
            "text/markdown": [
              "\n",
              "\n",
              "## 18. Soma de Dígitos\n",
              "Peça um número ao usuário e calcule a soma dos dígitos desse número"
            ],
            "text/plain": [
              "<IPython.core.display.Markdown object>"
            ]
          },
          "execution_count": 15,
          "metadata": {},
          "output_type": "execute_result"
        }
      ],
      "source": [
        "md(questions.get(18))"
      ]
    },
    {
      "cell_type": "code",
      "execution_count": null,
      "metadata": {
        "colab": {
          "base_uri": "https://localhost:8080/"
        },
        "id": "33QiTNqbiHyu",
        "outputId": "a36c9601-9505-49e1-aec1-1478c813af92"
      },
      "outputs": [
        {
          "name": "stdout",
          "output_type": "stream",
          "text": [
            "Large number: 123456\n",
            "The lazy sum is 21\n",
            "The pythonic sum is 21\n"
          ]
        }
      ],
      "source": [
        "large_number = input('Large number: ')\n",
        "\n",
        "# Lazy sum\n",
        "lazy_sum = 0\n",
        "for k in large_number:\n",
        "  lazy_sum += int(k)\n",
        "\n",
        "# Pythonic sum. Needs to import numpy\n",
        "pythonic_sum = np.array(list(large_number), dtype = 'int').sum()\n",
        "\n",
        "print(f'The lazy sum is {lazy_sum}')\n",
        "print(f'The pythonic sum is {pythonic_sum}')"
      ]
    },
    {
      "cell_type": "code",
      "execution_count": 17,
      "metadata": {
        "colab": {
          "base_uri": "https://localhost:8080/",
          "height": 90
        },
        "id": "KpZNECSklxsu",
        "outputId": "7ab2daed-229e-4661-f07e-82720d888f4a"
      },
      "outputs": [
        {
          "data": {
            "text/markdown": [
              "\n",
              "\n",
              "## 19. Multiplicação de Elementos em uma Lista\n",
              "Calcule o produto de todos os elementos de uma lista"
            ],
            "text/plain": [
              "<IPython.core.display.Markdown object>"
            ]
          },
          "execution_count": 17,
          "metadata": {},
          "output_type": "execute_result"
        }
      ],
      "source": [
        "md(questions.get(19))"
      ]
    },
    {
      "cell_type": "code",
      "execution_count": 16,
      "metadata": {
        "colab": {
          "base_uri": "https://localhost:8080/"
        },
        "id": "BNOI0snol23G",
        "outputId": "46d32d0e-6005-4dd7-9bdf-a24e0474094e"
      },
      "outputs": [
        {
          "name": "stdout",
          "output_type": "stream",
          "text": [
            "Product is :240\n",
            "Product in Pythonic way is :240\n"
          ]
        }
      ],
      "source": [
        "dummy_list = [3,8,5,1,2]\n",
        "\n",
        "# Using for:\n",
        "prod = 1\n",
        "for num in dummy_list:\n",
        "  prod = prod*num\n",
        "\n",
        "print(f\"Product is :{prod}\")\n",
        "\n",
        "# Pythonic way. Needs to import math\n",
        "print(f\"Product in Pythonic way is :{math.prod(dummy_list)}\")"
      ]
    },
    {
      "cell_type": "code",
      "execution_count": 18,
      "metadata": {
        "colab": {
          "base_uri": "https://localhost:8080/",
          "height": 90
        },
        "id": "aRoPivuKmqBg",
        "outputId": "b777d223-033c-46bd-ad61-488bd82a01df"
      },
      "outputs": [
        {
          "data": {
            "text/markdown": [
              "\n",
              "\n",
              "## 20. Remover Espaços de uma String\n",
              "Remova todos os espaços em branco de uma string qualquer"
            ],
            "text/plain": [
              "<IPython.core.display.Markdown object>"
            ]
          },
          "execution_count": 18,
          "metadata": {},
          "output_type": "execute_result"
        }
      ],
      "source": [
        "md(questions.get(20))"
      ]
    },
    {
      "cell_type": "code",
      "execution_count": null,
      "metadata": {
        "colab": {
          "base_uri": "https://localhost:8080/"
        },
        "id": "4A478UAlmxEW",
        "outputId": "555e7cf1-09c3-4e0a-ab48-ab7c7652ad5b"
      },
      "outputs": [
        {
          "name": "stdout",
          "output_type": "stream",
          "text": [
            "SomeStringWithLotsofSpaces.\n",
            "SomeStringWithLotsofSpaces.\n"
          ]
        }
      ],
      "source": [
        "string_with_spaces = \"Some    String  With  Lots of    Spaces    .  \"\n",
        "\n",
        "# Alternative\n",
        "print(string_with_spaces.replace(' ',''))"
      ]
    },
    {
      "cell_type": "code",
      "execution_count": 20,
      "metadata": {
        "colab": {
          "base_uri": "https://localhost:8080/",
          "height": 90
        },
        "id": "VIBlhWappfj6",
        "outputId": "493333fa-738a-4033-fab1-2843f5285f63"
      },
      "outputs": [
        {
          "data": {
            "text/markdown": [
              "\n",
              "\n",
              "## 21. Substituir Palavras em uma String\n",
              "Substitua todas as ocorrências da palavra específica por outra em uma frase"
            ],
            "text/plain": [
              "<IPython.core.display.Markdown object>"
            ]
          },
          "execution_count": 20,
          "metadata": {},
          "output_type": "execute_result"
        }
      ],
      "source": [
        "md(questions.get(21))"
      ]
    },
    {
      "cell_type": "code",
      "execution_count": 17,
      "metadata": {
        "colab": {
          "base_uri": "https://localhost:8080/"
        },
        "id": "3BRbqi5Fpo9i",
        "outputId": "6d6b9d43-ec35-4ebb-b470-6f3514fb117b"
      },
      "outputs": [
        {
          "name": "stdout",
          "output_type": "stream",
          "text": [
            "Lorem DO NOT UNDERSTAND LATIN! dolor sit amet. Qui nostrum harum a officia quia hic nemo ipsam.\n",
            "Et consequatur atque a dolorum omnis aut asperiores dolorum.\n",
            "Sit corrupti dolore a velit minima est tenetur rerum At libero dolor.\n"
          ]
        }
      ],
      "source": [
        "# Multiline str with \"\"\" abc \"\"\"\n",
        "loren_ipsum_phrase = \"\"\"Lorem ipsum dolor sit amet. Qui nostrum harum a officia quia hic nemo ipsam.\n",
        "Et consequatur atque a dolorum omnis aut asperiores dolorum.\n",
        "Sit corrupti dolore a velit minima est tenetur rerum At libero dolor.\"\"\"\n",
        "\n",
        "word = \"ipsum\"\n",
        "replacement = \"DO NOT UNDERSTAND LATIN!\"\n",
        "\n",
        "# Alternative\n",
        "print(loren_ipsum_phrase.replace(word, replacement))"
      ]
    },
    {
      "cell_type": "code",
      "execution_count": 21,
      "metadata": {
        "colab": {
          "base_uri": "https://localhost:8080/",
          "height": 90
        },
        "id": "z06eiIZ4rCzO",
        "outputId": "e5fb1f0b-e53d-4458-cd65-58c7a3995988"
      },
      "outputs": [
        {
          "data": {
            "text/markdown": [
              "\n",
              "\n",
              "## 22. Verificar Letra Inicial\n",
              "Verifique se uma string inicia com uma letra específica"
            ],
            "text/plain": [
              "<IPython.core.display.Markdown object>"
            ]
          },
          "execution_count": 21,
          "metadata": {},
          "output_type": "execute_result"
        }
      ],
      "source": [
        "md(questions.get(22))"
      ]
    },
    {
      "cell_type": "code",
      "execution_count": null,
      "metadata": {
        "colab": {
          "base_uri": "https://localhost:8080/"
        },
        "id": "EVBQWdInrFIw",
        "outputId": "8c521928-abde-4db8-f61b-4dce62d8d3cf"
      },
      "outputs": [
        {
          "name": "stdout",
          "output_type": "stream",
          "text": [
            "Starts with \"M\": True\n",
            "Starts with \"m\": False\n"
          ]
        }
      ],
      "source": [
        "dummy_string = \"My dummy string\"\n",
        "\n",
        "# Be carefull with case sensitive!\n",
        "print(f'Starts with \"M\": {dummy_string.startswith(\"M\")}')\n",
        "\n",
        "print(f'Starts with \"m\": {dummy_string.startswith(\"m\")}')"
      ]
    },
    {
      "cell_type": "code",
      "execution_count": 22,
      "metadata": {
        "colab": {
          "base_uri": "https://localhost:8080/",
          "height": 90
        },
        "id": "O2D4l9yVtdNk",
        "outputId": "7b01117a-db86-4a23-c0c2-c5924c865603"
      },
      "outputs": [
        {
          "data": {
            "text/markdown": [
              "\n",
              "\n",
              "## 23. Verificar Ano Bissexto\n",
              "Peça um ano ao usuário e verifique se é bissexto"
            ],
            "text/plain": [
              "<IPython.core.display.Markdown object>"
            ]
          },
          "execution_count": 22,
          "metadata": {},
          "output_type": "execute_result"
        }
      ],
      "source": [
        "md(questions.get(23))"
      ]
    },
    {
      "cell_type": "code",
      "execution_count": null,
      "metadata": {
        "colab": {
          "base_uri": "https://localhost:8080/"
        },
        "id": "zhQJz8BmtffC",
        "outputId": "e27ddf58-b13a-4a95-bcdc-4d866a3153a7"
      },
      "outputs": [
        {
          "name": "stdout",
          "output_type": "stream",
          "text": [
            "Year: 2024\n",
            "It is a leap year: True\n"
          ]
        }
      ],
      "source": [
        "year = input('Year: ')\n",
        "\n",
        "# Explanation a leap year (bissextile) occurs every four years.\n",
        "# So, you just have to check if the last two digits are divisible by 4.\n",
        "is_leap_year = (int(year[-2:]) % 4) == 0\n",
        "\n",
        "print(f'It is a leap year: {is_leap_year}')"
      ]
    },
    {
      "cell_type": "code",
      "execution_count": 24,
      "metadata": {
        "colab": {
          "base_uri": "https://localhost:8080/",
          "height": 90
        },
        "id": "KZm0INKFxe9u",
        "outputId": "0594ecb5-407b-410e-cf9f-f8bafff7fd76"
      },
      "outputs": [
        {
          "data": {
            "text/markdown": [
              "\n",
              "\n",
              "## 24. Conversor de Moedas\n",
              "Peça ao usuário um valor em reais e converta-o para dólares, usando uma taxa de câmbio fornecida pelo próprio usuário"
            ],
            "text/plain": [
              "<IPython.core.display.Markdown object>"
            ]
          },
          "execution_count": 24,
          "metadata": {},
          "output_type": "execute_result"
        }
      ],
      "source": [
        "md(questions.get(24))"
      ]
    },
    {
      "cell_type": "code",
      "execution_count": 18,
      "metadata": {
        "colab": {
          "base_uri": "https://localhost:8080/"
        },
        "id": "IPLQSdwNxnuO",
        "outputId": "e7f40ea2-c931-41e8-f532-98fa3410af46"
      },
      "outputs": [
        {
          "name": "stdout",
          "output_type": "stream",
          "text": [
            "BRL: 60\n",
            "Rate: 6\n",
            "10.0\n"
          ]
        }
      ],
      "source": [
        "brl = input('BRL: ')\n",
        "rate = input('Rate: ')\n",
        "\n",
        "brl_converter = float(brl)/float(rate)\n",
        "\n",
        "print(brl_converter)"
      ]
    },
    {
      "cell_type": "code",
      "execution_count": 25,
      "metadata": {
        "colab": {
          "base_uri": "https://localhost:8080/",
          "height": 90
        },
        "id": "8kHvhq0yzRVZ",
        "outputId": "4372b6c2-d8c9-4666-e51c-6f0bd471b3e7"
      },
      "outputs": [
        {
          "data": {
            "text/markdown": [
              "\n",
              "\n",
              "## 25. Por que retorna False?\n",
              "Execute o código a seguir `print((0.3 /3) == 0.1)`. Porque a saída é `False` ? Será que o interpretador quebrou?"
            ],
            "text/plain": [
              "<IPython.core.display.Markdown object>"
            ]
          },
          "execution_count": 25,
          "metadata": {},
          "output_type": "execute_result"
        }
      ],
      "source": [
        "md(questions.get(25))"
      ]
    },
    {
      "cell_type": "code",
      "execution_count": null,
      "metadata": {
        "colab": {
          "base_uri": "https://localhost:8080/"
        },
        "id": "iV5BSp6hzTb4",
        "outputId": "987bce1a-d1aa-431f-fd2b-53d989b74705"
      },
      "outputs": [
        {
          "name": "stdout",
          "output_type": "stream",
          "text": [
            "0.09999999999999999167\n"
          ]
        }
      ],
      "source": [
        "# Check it!\n",
        "division = (0.3 / 3)\n",
        "\n",
        "print(f'{division:.20f}')"
      ]
    },
    {
      "cell_type": "markdown",
      "metadata": {
        "id": "IbX-8gZAzsL6"
      },
      "source": [
        "[EN] This is because the floating point limitation, 0.09999... is not 0.1! and the comparison `==` has no tolerance! One possible workararound is to use `round()`\n",
        "\n",
        "[PT] Isso é causado porque o ponto flutuante tem suas limitações de representação, e 0.0999.. não é 0.1! e a comparação do `==` não possui nenhuma tolerância. Uma solução possível é usar o `round()`.\n",
        "\n",
        "-----------\n",
        "\n",
        "Refs: https://docs.python.org/3/tutorial/floatingpoint.html"
      ]
    },
    {
      "cell_type": "code",
      "execution_count": 26,
      "metadata": {
        "colab": {
          "base_uri": "https://localhost:8080/",
          "height": 90
        },
        "id": "noNmuJ5I03bY",
        "outputId": "1848d0f1-e297-4b34-9cc7-01920d1d8473"
      },
      "outputs": [
        {
          "data": {
            "text/markdown": [
              "\n",
              "\n",
              "## 26. Cuidado com operações booleanas!\n",
              "Por que `3 & 5` é igual a `1` e `3 and 5` é igual `5` ?"
            ],
            "text/plain": [
              "<IPython.core.display.Markdown object>"
            ]
          },
          "execution_count": 26,
          "metadata": {},
          "output_type": "execute_result"
        }
      ],
      "source": [
        "md(questions.get(26))"
      ]
    },
    {
      "cell_type": "code",
      "execution_count": null,
      "metadata": {
        "colab": {
          "base_uri": "https://localhost:8080/"
        },
        "id": "wGgpF604088Q",
        "outputId": "e9fa3f73-e79a-4029-f2cc-58a28b132bb2"
      },
      "outputs": [
        {
          "name": "stdout",
          "output_type": "stream",
          "text": [
            "1\n",
            "5\n"
          ]
        }
      ],
      "source": [
        "# Check it\n",
        "print(3 & 5)\n",
        "\n",
        "print(3 and 5)"
      ]
    },
    {
      "cell_type": "markdown",
      "metadata": {
        "id": "ytjrUBSD1TA7"
      },
      "source": [
        "[EN]\n",
        "- The operator `&` is a bitwise operator. So 3: 011, 5: 101 then => 011 & 101 = 001 (is the decimal 1).\n",
        "\n",
        "- The operator `and` is a logical operator and the behavior check if the first element is False, if it is not the case the last value is returned (5 in this situation)\n",
        "\n",
        "[PT]\n",
        "- O operador `&` é um operador bit a bit. Então 3: 011, 5: 101 então => 011 e 101 = 001 (é o decimal 1).\n",
        "\n",
        "- O operador `and` é um operador lógico e o comportamento verifica se o primeiro elemento é False, caso contrário o último valor é retornado (5 nesta situação)\n",
        "\n",
        "---------------\n",
        "\n",
        "Refs:\n",
        "- https://docs.python.org/3/library/stdtypes.html#boolean-operations-and-or-not\n",
        "- https://docs.python.org/3/reference/expressions.html#and\n"
      ]
    }
  ],
  "metadata": {
    "colab": {
      "include_colab_link": true,
      "provenance": []
    },
    "kernelspec": {
      "display_name": "Python 3",
      "name": "python3"
    },
    "language_info": {
      "name": "python"
    }
  },
  "nbformat": 4,
  "nbformat_minor": 0
}
