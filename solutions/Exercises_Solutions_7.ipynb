{
  "nbformat": 4,
  "nbformat_minor": 0,
  "metadata": {
    "colab": {
      "provenance": [],
      "include_colab_link": true
    },
    "kernelspec": {
      "name": "python3",
      "display_name": "Python 3"
    },
    "language_info": {
      "name": "python"
    }
  },
  "cells": [
    {
      "cell_type": "markdown",
      "metadata": {
        "id": "view-in-github",
        "colab_type": "text"
      },
      "source": [
        "<a href=\"https://colab.research.google.com/github/vitorpohlenz/python_exercises/blob/list_7/solutions/Exercises_Solutions_7.ipynb\" target=\"_parent\"><img src=\"https://colab.research.google.com/assets/colab-badge.svg\" alt=\"Open In Colab\"/></a>"
      ]
    },
    {
      "cell_type": "markdown",
      "source": [
        "# Language\n",
        "\n",
        "[EN] Please select the language.\n",
        "\n",
        "[PT] Por favor selecione a linguadem."
      ],
      "metadata": {
        "id": "jM3IdlPQourA"
      }
    },
    {
      "cell_type": "code",
      "source": [
        "# 'PTBR': Português\n",
        "# 'EN': English\n",
        "LANGUAGE = 'PTBR'"
      ],
      "metadata": {
        "id": "7oPN-pqODga1"
      },
      "execution_count": 1,
      "outputs": []
    },
    {
      "cell_type": "markdown",
      "source": [
        "# Setup"
      ],
      "metadata": {
        "id": "089nyz4hDnri"
      }
    },
    {
      "cell_type": "code",
      "source": [
        "import os\n",
        "import numpy as np\n",
        "from IPython.display import Markdown as md # Displaying Markdown as \"prints\""
      ],
      "metadata": {
        "id": "L_LyBYYrr-cn"
      },
      "execution_count": 2,
      "outputs": []
    },
    {
      "cell_type": "markdown",
      "source": [
        "<font color = \"yellow\">[EN] Please do not change the following code! </font>\n",
        "\n",
        "<font color = \"yellow\">[PT] Por favor não altere o código abaixo! </font>"
      ],
      "metadata": {
        "id": "ZyfGjTf0DZxV"
      }
    },
    {
      "cell_type": "code",
      "source": [
        "!git clone https://github.com/vitorpohlenz/python_exercises.git --branch list_7 --single-branch"
      ],
      "metadata": {
        "colab": {
          "base_uri": "https://localhost:8080/"
        },
        "id": "XaX4qBnViWOM",
        "outputId": "ec1faaf9-9f91-4beb-dbe1-c56ff41be578"
      },
      "execution_count": 3,
      "outputs": [
        {
          "output_type": "stream",
          "name": "stdout",
          "text": [
            "Cloning into 'python_exercises'...\n",
            "remote: Enumerating objects: 65, done.\u001b[K\n",
            "remote: Counting objects: 100% (49/49), done.\u001b[K\n",
            "remote: Compressing objects: 100% (41/41), done.\u001b[K\n",
            "remote: Total 65 (delta 21), reused 23 (delta 8), pack-reused 16 (from 1)\u001b[K\n",
            "Receiving objects: 100% (65/65), 588.11 KiB | 3.89 MiB/s, done.\n",
            "Resolving deltas: 100% (23/23), done.\n"
          ]
        }
      ]
    },
    {
      "cell_type": "code",
      "source": [
        "# Reading Markdown file with the exercises.\n",
        "with open(f'python_exercises/exercises/List_7_{LANGUAGE}.md','r') as file:\n",
        "  exercises_raw = file.read()"
      ],
      "metadata": {
        "id": "e9gtnBc5qWlF"
      },
      "execution_count": 4,
      "outputs": []
    },
    {
      "cell_type": "code",
      "source": [
        "# Header of the file.\n",
        "header = exercises_raw.split('## 1')[0]"
      ],
      "metadata": {
        "id": "YlOOasNnsyWI"
      },
      "execution_count": 5,
      "outputs": []
    },
    {
      "cell_type": "code",
      "source": [
        "# Raw string with the questions.\n",
        "questions_raw = exercises_raw.replace(header,'')"
      ],
      "metadata": {
        "id": "OOrf0QHrtqFB"
      },
      "execution_count": 6,
      "outputs": []
    },
    {
      "cell_type": "code",
      "source": [
        "# Putting the questions in to a dict to be displayed.\n",
        "questions = dict()\n",
        "for q_string in questions_raw.split(';'):\n",
        "  if '## ' in q_string:\n",
        "    q_num = int(q_string.replace('## ','').split('.')[0])\n",
        "    questions[q_num] = q_string"
      ],
      "metadata": {
        "id": "H8LW6njsu8_a"
      },
      "execution_count": 7,
      "outputs": []
    },
    {
      "cell_type": "markdown",
      "source": [
        "# Suggested Solutions\n",
        "[EN] The solutions provided are just suggestions, there are other possible solutions.\n",
        "\n",
        "For now on <font color = \"whitegreen\"> feel free to change</font> the code if you want, and <font color = \"yellow\"> please report any issues!</font>\n",
        "\n",
        "[PT] As soluções fornecidas aqui são apenas sugestões, existem outras soluções possíveis.\n",
        "\n",
        "Daqui em diante <font color = \"whitegreen\"> fique a vontade para modificar</font> o código se quiser, e <font color = \"yellow\"> por favor reportem qualquer problema!</font>\n",
        "\n"
      ],
      "metadata": {
        "id": "XKoDYjHbD2v7"
      }
    },
    {
      "cell_type": "code",
      "source": [
        "# Imports\n",
        "import time\n",
        "import random\n",
        "\n",
        "# Parallel tasks libs\n",
        "import threading\n",
        "from queue import Queue\n",
        "import multiprocessing\n",
        "import concurrent.futures\n",
        "import dask.array as da\n",
        "import dask.dataframe as dd\n",
        "\n",
        "# Random seed\n",
        "SEED = 9"
      ],
      "metadata": {
        "id": "V7pJ9GG2ujgi",
        "colab": {
          "base_uri": "https://localhost:8080/"
        },
        "outputId": "739b3c40-07c6-4f85-bc9d-bfbf749eacdd"
      },
      "execution_count": 8,
      "outputs": [
        {
          "output_type": "stream",
          "name": "stderr",
          "text": [
            "/usr/local/lib/python3.10/dist-packages/dask/dataframe/__init__.py:42: FutureWarning: \n",
            "Dask dataframe query planning is disabled because dask-expr is not installed.\n",
            "\n",
            "You can install it with `pip install dask[dataframe]` or `conda install dask`.\n",
            "This will raise in a future version.\n",
            "\n",
            "  warnings.warn(msg, FutureWarning)\n"
          ]
        }
      ]
    },
    {
      "cell_type": "code",
      "source": [
        "md(header)"
      ],
      "metadata": {
        "colab": {
          "base_uri": "https://localhost:8080/",
          "height": 74
        },
        "id": "6qlj9ap3ta0O",
        "outputId": "a62b4bce-c3f8-4a39-af41-dfd619bd9bc0"
      },
      "execution_count": 9,
      "outputs": [
        {
          "output_type": "execute_result",
          "data": {
            "text/plain": [
              "<IPython.core.display.Markdown object>"
            ],
            "text/markdown": "# Exercícios com Threads, Multiprocessing, `concurrent.futures` e `dask`\n\n"
          },
          "metadata": {},
          "execution_count": 9
        }
      ]
    },
    {
      "cell_type": "markdown",
      "source": [
        "> [EN] Note: In this notebook Dask Array is imported as `da` and Dask DataFrame as `dd`.\n",
        "\n",
        "> [PT] Nota: Nste notebook Dask Array é importado como `da`e Dask DataFrame como `dd`.\n",
        "\n",
        "```\n",
        "import dask.array as da\n",
        "import dask.dataframe as dd\n",
        "```"
      ],
      "metadata": {
        "id": "foWDSApJXUOg"
      }
    },
    {
      "cell_type": "code",
      "source": [
        "md(questions.get(1))"
      ],
      "metadata": {
        "colab": {
          "base_uri": "https://localhost:8080/",
          "height": 108
        },
        "id": "gykgNQRhtEa5",
        "outputId": "9a7e9e6a-58df-45d7-ff39-5c906fac0662"
      },
      "execution_count": 10,
      "outputs": [
        {
          "output_type": "execute_result",
          "data": {
            "text/plain": [
              "<IPython.core.display.Markdown object>"
            ],
            "text/markdown": "## 1. Criando uma Thread Simples\nCrie uma função chamada `print_numbers` que imprima números de 1 a 5 com uma pausa de 1 segundo entre eles. Execute essa função em uma thread separada usando o módulo `threading` "
          },
          "metadata": {},
          "execution_count": 10
        }
      ]
    },
    {
      "cell_type": "code",
      "source": [
        "def print_numbers():\n",
        "    for i in range(1, 6):\n",
        "        print(i)\n",
        "        time.sleep(1)\n",
        "\n",
        "thread = threading.Thread(target=print_numbers)\n",
        "thread.start()\n",
        "thread.join()"
      ],
      "metadata": {
        "colab": {
          "base_uri": "https://localhost:8080/"
        },
        "id": "H1ZN55Cgunz8",
        "outputId": "c7f72b43-c730-4efb-d997-62ed3c2433dd"
      },
      "execution_count": 11,
      "outputs": [
        {
          "output_type": "stream",
          "name": "stdout",
          "text": [
            "1\n",
            "2\n",
            "3\n",
            "4\n",
            "5\n"
          ]
        }
      ]
    },
    {
      "cell_type": "code",
      "source": [
        "md(questions.get(2))"
      ],
      "metadata": {
        "colab": {
          "base_uri": "https://localhost:8080/",
          "height": 107
        },
        "id": "-06SxcfGuOWJ",
        "outputId": "c7d98f59-76a4-49ee-a878-9fb3fd9b5666"
      },
      "execution_count": 12,
      "outputs": [
        {
          "output_type": "execute_result",
          "data": {
            "text/plain": [
              "<IPython.core.display.Markdown object>"
            ],
            "text/markdown": "\n\n## 2. Usando múltiplas Threads\nModifique o exercício anterior para executar duas threads que imprimam números de 1 a 5 simultaneamente. Certifique-se de que o programa espere as duas threads terminarem antes de encerrar "
          },
          "metadata": {},
          "execution_count": 12
        }
      ]
    },
    {
      "cell_type": "code",
      "source": [
        "def print_numbers():\n",
        "    for i in range(1, 6):\n",
        "        print(i)\n",
        "        time.sleep(1)\n",
        "\n",
        "thread1 = threading.Thread(target=print_numbers)\n",
        "thread2 = threading.Thread(target=print_numbers)\n",
        "thread1.start()\n",
        "thread2.start()\n",
        "thread1.join()\n",
        "thread2.join()"
      ],
      "metadata": {
        "colab": {
          "base_uri": "https://localhost:8080/"
        },
        "id": "l06Dmex1uPxR",
        "outputId": "efa3acea-84dc-46df-83ab-1c531a39599c"
      },
      "execution_count": 13,
      "outputs": [
        {
          "output_type": "stream",
          "name": "stdout",
          "text": [
            "11\n",
            "\n",
            "2\n",
            "2\n",
            "3\n",
            "3\n",
            "4\n",
            "4\n",
            "5\n",
            "5\n"
          ]
        }
      ]
    },
    {
      "cell_type": "code",
      "source": [
        "md(questions.get(3))"
      ],
      "metadata": {
        "colab": {
          "base_uri": "https://localhost:8080/",
          "height": 108
        },
        "id": "UfYQyi-8veXl",
        "outputId": "022a878e-ac5f-4d2f-9969-df7eaff4a1d5"
      },
      "execution_count": 14,
      "outputs": [
        {
          "output_type": "execute_result",
          "data": {
            "text/plain": [
              "<IPython.core.display.Markdown object>"
            ],
            "text/markdown": "\n\n## 3. Sincronização com Threads\nImplemente um contador compartilhado entre duas threads. As threads devem incrementar o contador 1000 vezes. Use um `Lock` para evitar condições de corrida e garantir que o contador final seja 2000 "
          },
          "metadata": {},
          "execution_count": 14
        }
      ]
    },
    {
      "cell_type": "code",
      "source": [
        "counter = 0\n",
        "lock = threading.Lock()\n",
        "\n",
        "def increment_counter():\n",
        "    global counter\n",
        "    for _ in range(1000):\n",
        "        with lock:\n",
        "            counter += 1\n",
        "\n",
        "thread1 = threading.Thread(target=increment_counter)\n",
        "thread2 = threading.Thread(target=increment_counter)\n",
        "thread1.start()\n",
        "thread2.start()\n",
        "thread1.join()\n",
        "thread2.join()\n",
        "\n",
        "print(f\"Final counter value: {counter}\")"
      ],
      "metadata": {
        "colab": {
          "base_uri": "https://localhost:8080/"
        },
        "id": "9e3bnxjKviJU",
        "outputId": "6f0858a8-b4da-44d7-a4d3-68f55e6092b7"
      },
      "execution_count": 15,
      "outputs": [
        {
          "output_type": "stream",
          "name": "stdout",
          "text": [
            "Final counter value: 2000\n"
          ]
        }
      ]
    },
    {
      "cell_type": "code",
      "source": [
        "md(questions.get(4))"
      ],
      "metadata": {
        "colab": {
          "base_uri": "https://localhost:8080/",
          "height": 150
        },
        "id": "nBM1KRI_vlvP",
        "outputId": "389bbd6f-15db-45a2-fd3a-eb9d396f5d38"
      },
      "execution_count": 16,
      "outputs": [
        {
          "output_type": "execute_result",
          "data": {
            "text/plain": [
              "<IPython.core.display.Markdown object>"
            ],
            "text/markdown": "\n\n## 4. Multiprocessing com Processos Simples\n<font color = \"yellow\"> Atenção: </font> Faça esse exercício em um Sistema Operacional Linux (como no Google Colab). Não é recomendado usar `multiprocessing` em Windows, devido ao gerenciamento de processos do Sistema Operacional. Se executado em Windows levará muito mais tempo para executar do que um simples `for`. [Explicação aqui](https://stackoverflow.com/questions/52465237/multiprocessing-slower-than-serial-processing-in-windows-but-not-in-linux).\n\nCrie um programa que inicie dois processos paralelos usando o módulo `multiprocessing`, onde cada processo calcula o quadrado de números de 1 a 5. Exiba os resultados ao final "
          },
          "metadata": {},
          "execution_count": 16
        }
      ]
    },
    {
      "cell_type": "code",
      "source": [
        "def square_numbers():\n",
        "    for i in range(1, 6):\n",
        "        print(f\"Square of {i}: {i * i}\")\n",
        "\n",
        "process1 = multiprocessing.Process(target=square_numbers)\n",
        "process2 = multiprocessing.Process(target=square_numbers)\n",
        "process1.start()\n",
        "process2.start()\n",
        "process1.join()\n",
        "process2.join()"
      ],
      "metadata": {
        "id": "QUPvotkEwJLd",
        "colab": {
          "base_uri": "https://localhost:8080/"
        },
        "outputId": "403b2b35-2a20-4f91-9d0e-ad85844bebfd"
      },
      "execution_count": 17,
      "outputs": [
        {
          "output_type": "stream",
          "name": "stdout",
          "text": [
            "Square of 1: 1Square of 1: 1\n",
            "Square of 2: 4\n",
            "Square of 3: 9\n",
            "Square of 4: 16\n",
            "Square of 5: 25\n",
            "\n",
            "Square of 2: 4\n",
            "Square of 3: 9\n",
            "Square of 4: 16\n",
            "Square of 5: 25\n"
          ]
        }
      ]
    },
    {
      "cell_type": "code",
      "source": [
        "md(questions.get(5))"
      ],
      "metadata": {
        "colab": {
          "base_uri": "https://localhost:8080/",
          "height": 150
        },
        "id": "11mMFdO0wUUR",
        "outputId": "5d1b3dd2-9cf5-4fb5-a5ee-170ce24d6237"
      },
      "execution_count": 18,
      "outputs": [
        {
          "output_type": "execute_result",
          "data": {
            "text/plain": [
              "<IPython.core.display.Markdown object>"
            ],
            "text/markdown": "\n\n## 5. Compartilhamento de Dados entre Processos\n<font color = \"yellow\"> Atenção: </font> Faça esse exercício em um Sistema Operacional Linux (como no Google Colab). Não é recomendado usar `multiprocessing` em Windows, devido ao gerenciamento de processos do Sistema Operacional. Se executado em Windows levará muito mais tempo para executar do que um simples `for`. [Explicação aqui](https://stackoverflow.com/questions/52465237/multiprocessing-slower-than-serial-processing-in-windows-but-not-in-linux).\n\nUsando o módulo `multiprocessing`, crie uma fila (`Queue`) para compartilhar dados entre dois processos. O primeiro processo deve adicionar números de 1 a 5 na fila, enquanto o segundo processo retira e imprime esses números "
          },
          "metadata": {},
          "execution_count": 18
        }
      ]
    },
    {
      "cell_type": "code",
      "source": [
        "def producer(queue):\n",
        "    for i in range(1, 6):\n",
        "        queue.put(i)\n",
        "        print(f\"Produced: {i}\")\n",
        "        time.sleep(1)\n",
        "\n",
        "def consumer(queue):\n",
        "    while not queue.empty() or multiprocessing.active_children():\n",
        "        item = queue.get()\n",
        "        print(f\"Consumed: {item}\")\n",
        "        time.sleep(2)\n",
        "\n",
        "queue = multiprocessing.Queue()\n",
        "producer_process = multiprocessing.Process(target=producer, args=(queue,))\n",
        "consumer_process = multiprocessing.Process(target=consumer, args=(queue,))\n",
        "producer_process.start()\n",
        "consumer_process.start()\n",
        "producer_process.join()\n",
        "consumer_process.join()"
      ],
      "metadata": {
        "colab": {
          "base_uri": "https://localhost:8080/"
        },
        "id": "YM0zFkGewsAW",
        "outputId": "034776fa-14a7-48db-c60a-568e5ea0a190"
      },
      "execution_count": 19,
      "outputs": [
        {
          "output_type": "stream",
          "name": "stdout",
          "text": [
            "Produced: 1\n",
            "Consumed: 1\n",
            "Produced: 2\n",
            "Produced: 3\n",
            "Consumed: 2\n",
            "Produced: 4\n",
            "Produced: 5Consumed: 3\n",
            "\n",
            "Consumed: 4\n",
            "Consumed: 5\n"
          ]
        }
      ]
    },
    {
      "cell_type": "code",
      "source": [
        "md(questions.get(6))"
      ],
      "metadata": {
        "colab": {
          "base_uri": "https://localhost:8080/",
          "height": 150
        },
        "id": "4dVVwTrjxKOc",
        "outputId": "d919738a-6d84-4c32-905e-dc7533ce97b3"
      },
      "execution_count": 20,
      "outputs": [
        {
          "output_type": "execute_result",
          "data": {
            "text/plain": [
              "<IPython.core.display.Markdown object>"
            ],
            "text/markdown": "\n\n## 6. Pool de Processos\n<font color = \"yellow\"> Atenção: </font> Faça esse exercício em um Sistema Operacional Linux (como no Google Colab). Não é recomendado usar `multiprocessing` em Windows, devido ao gerenciamento de processos do Sistema Operacional. Se executado em Windows levará muito mais tempo para executar do que um simples `for`. [Explicação aqui](https://stackoverflow.com/questions/52465237/multiprocessing-slower-than-serial-processing-in-windows-but-not-in-linux).\n\nImplemente um programa que use `multiprocessing.Pool` para calcular os quadrados de uma lista de números. Use 4 processos no pool para paralelizar a execução "
          },
          "metadata": {},
          "execution_count": 20
        }
      ]
    },
    {
      "cell_type": "code",
      "source": [
        "def square(x):\n",
        "    return x * x\n",
        "\n",
        "with multiprocessing.Pool(4) as pool:\n",
        "    results = pool.map(square, [1, 2, 3, 4, 5])\n",
        "    print(results)"
      ],
      "metadata": {
        "colab": {
          "base_uri": "https://localhost:8080/"
        },
        "id": "7wSldxkoxMmC",
        "outputId": "d521a9a7-6bb0-425d-c06f-76401f896d2c"
      },
      "execution_count": 21,
      "outputs": [
        {
          "output_type": "stream",
          "name": "stdout",
          "text": [
            "[1, 4, 9, 16, 25]\n"
          ]
        }
      ]
    },
    {
      "cell_type": "code",
      "source": [
        "md(questions.get(7))"
      ],
      "metadata": {
        "colab": {
          "base_uri": "https://localhost:8080/",
          "height": 108
        },
        "id": "qNzZZfVUxh31",
        "outputId": "8408662f-0d45-4d11-8e4a-4acb4a7bce5d"
      },
      "execution_count": 22,
      "outputs": [
        {
          "output_type": "execute_result",
          "data": {
            "text/plain": [
              "<IPython.core.display.Markdown object>"
            ],
            "text/markdown": "\n\n## 7. Uso de `concurrent.futures.ThreadPoolExecutor`\nCrie uma função que calcule o fatorial de um número e execute-a em paralelo para 5 números diferentes usando `concurrent.futures.ThreadPoolExecutor`. Exiba o resultado final de cada execução "
          },
          "metadata": {},
          "execution_count": 22
        }
      ]
    },
    {
      "cell_type": "code",
      "source": [
        "def factorial(n):\n",
        "    if n == 0:\n",
        "        return 1\n",
        "    return n * factorial(n - 1)\n",
        "\n",
        "with concurrent.futures.ThreadPoolExecutor() as executor:\n",
        "    numbers = [5, 7, 10, 3, 4]\n",
        "    futures = [executor.submit(factorial, num) for num in numbers]\n",
        "    for future in concurrent.futures.as_completed(futures):\n",
        "        print(f\"Factorial result: {future.result()}\")"
      ],
      "metadata": {
        "colab": {
          "base_uri": "https://localhost:8080/"
        },
        "id": "Fw_YAlIGxlZB",
        "outputId": "7dfa4a8d-6a15-4218-e519-ea6ebeb33a00"
      },
      "execution_count": 23,
      "outputs": [
        {
          "output_type": "stream",
          "name": "stdout",
          "text": [
            "Factorial result: 5040\n",
            "Factorial result: 3628800\n",
            "Factorial result: 120\n",
            "Factorial result: 6\n",
            "Factorial result: 24\n"
          ]
        }
      ]
    },
    {
      "cell_type": "code",
      "source": [
        "md(questions.get(8))"
      ],
      "metadata": {
        "colab": {
          "base_uri": "https://localhost:8080/",
          "height": 108
        },
        "id": "kaBsYHxMxyzV",
        "outputId": "69c9428e-4010-41bd-a2d0-9ab2f7751014"
      },
      "execution_count": 24,
      "outputs": [
        {
          "output_type": "execute_result",
          "data": {
            "text/plain": [
              "<IPython.core.display.Markdown object>"
            ],
            "text/markdown": "\n\n## 8. Uso de `concurrent.futures.ProcessPoolExecutor`\nImplemente o cálculo do número de Fibonacci para 5 valores diferentes, usando `concurrent.futures.ProcessPoolExecutor` para executar o cálculo em processos paralelos. Imprima os resultados "
          },
          "metadata": {},
          "execution_count": 24
        }
      ]
    },
    {
      "cell_type": "code",
      "source": [
        "def fibonacci(n):\n",
        "    if n <= 1:\n",
        "        return n\n",
        "    else:\n",
        "        return fibonacci(n-1) + fibonacci(n-2)\n",
        "\n",
        "with concurrent.futures.ProcessPoolExecutor() as executor:\n",
        "    numbers = [10, 15, 20, 25, 30]\n",
        "    futures = [executor.submit(fibonacci, num) for num in numbers]\n",
        "    for future in concurrent.futures.as_completed(futures):\n",
        "        print(f\"Fibonacci result: {future.result()}\")"
      ],
      "metadata": {
        "colab": {
          "base_uri": "https://localhost:8080/"
        },
        "id": "e7GkEM8px0JT",
        "outputId": "bd52cf7f-ffca-4bf8-9849-7a2614290535"
      },
      "execution_count": 25,
      "outputs": [
        {
          "output_type": "stream",
          "name": "stdout",
          "text": [
            "Fibonacci result: 55\n",
            "Fibonacci result: 610\n",
            "Fibonacci result: 6765\n",
            "Fibonacci result: 75025\n",
            "Fibonacci result: 832040\n"
          ]
        }
      ]
    },
    {
      "cell_type": "code",
      "source": [
        "md(questions.get(9))"
      ],
      "metadata": {
        "colab": {
          "base_uri": "https://localhost:8080/",
          "height": 108
        },
        "id": "PMDnnplhywwV",
        "outputId": "ff4802e2-6649-4d38-fd51-55a21961d7ea"
      },
      "execution_count": 26,
      "outputs": [
        {
          "output_type": "execute_result",
          "data": {
            "text/plain": [
              "<IPython.core.display.Markdown object>"
            ],
            "text/markdown": "\n\n## 9. Espera por Resultados Futuros\nModifique o exercício anterior para coletar e exibir os resultados conforme eles forem completados, usando o método `as_completed()` da biblioteca `concurrent.futures` "
          },
          "metadata": {},
          "execution_count": 26
        }
      ]
    },
    {
      "cell_type": "code",
      "source": [
        "with concurrent.futures.ProcessPoolExecutor() as executor:\n",
        "    numbers = [10, 15, 20, 25, 30]\n",
        "    futures = [executor.submit(fibonacci, num) for num in numbers]\n",
        "    for future in concurrent.futures.as_completed(futures):\n",
        "        print(f\"Fibonacci result: {future.result()}\")"
      ],
      "metadata": {
        "colab": {
          "base_uri": "https://localhost:8080/"
        },
        "id": "VBHe6Iz1y2Ll",
        "outputId": "c1f3670e-d2aa-4dd1-84dd-5d9bc10226c0"
      },
      "execution_count": 27,
      "outputs": [
        {
          "output_type": "stream",
          "name": "stdout",
          "text": [
            "Fibonacci result: 55\n",
            "Fibonacci result: 610\n",
            "Fibonacci result: 6765\n",
            "Fibonacci result: 75025\n",
            "Fibonacci result: 832040\n"
          ]
        }
      ]
    },
    {
      "cell_type": "code",
      "source": [
        "md(questions.get(10))"
      ],
      "metadata": {
        "colab": {
          "base_uri": "https://localhost:8080/",
          "height": 108
        },
        "id": "2VPqqfBqz7hZ",
        "outputId": "238b1fc3-5e91-4663-de2b-370aef4ab76e"
      },
      "execution_count": 28,
      "outputs": [
        {
          "output_type": "execute_result",
          "data": {
            "text/plain": [
              "<IPython.core.display.Markdown object>"
            ],
            "text/markdown": "\n\n## 10. Introdução ao Dask - Operações Simples\nUsando a biblioteca `dask`, crie um array aleatório de 1 milhão de elementos e calcule a soma total dos valores de forma paralela. Exiba o tempo de execução do código "
          },
          "metadata": {},
          "execution_count": 28
        }
      ]
    },
    {
      "cell_type": "code",
      "source": [
        "array = da.random.random(1000000, chunks=100000)\n",
        "start_time = time.time()\n",
        "total_sum = array.sum().compute()\n",
        "end_time = time.time()\n",
        "print(f\"Total sum: {total_sum}\")\n",
        "print(f\"Execution time: {end_time - start_time} seconds\")"
      ],
      "metadata": {
        "colab": {
          "base_uri": "https://localhost:8080/"
        },
        "id": "_NQeVueEz-iQ",
        "outputId": "ebae66f6-c67e-483c-ee26-049e53a7d7a8"
      },
      "execution_count": 29,
      "outputs": [
        {
          "output_type": "stream",
          "name": "stdout",
          "text": [
            "Total sum: 500235.4628269445\n",
            "Execution time: 0.6463582515716553 seconds\n"
          ]
        }
      ]
    },
    {
      "cell_type": "code",
      "source": [
        "md(questions.get(11))"
      ],
      "metadata": {
        "colab": {
          "base_uri": "https://localhost:8080/",
          "height": 108
        },
        "id": "buXish9DvZpb",
        "outputId": "5508f7eb-0125-4db1-ea4e-3c90f39c2b27"
      },
      "execution_count": 30,
      "outputs": [
        {
          "output_type": "execute_result",
          "data": {
            "text/plain": [
              "<IPython.core.display.Markdown object>"
            ],
            "text/markdown": "\n\n## 11. Computações Pausadas com Dask\nImplemente uma série de operações matemáticas (adição, multiplicação, subtração) sobre arrays Dask e execute-as de forma \"lazy\" (sem computação imediata). Use `compute()` para calcular os resultados ao final "
          },
          "metadata": {},
          "execution_count": 30
        }
      ]
    },
    {
      "cell_type": "code",
      "source": [
        "a = da.random.random(1000000, chunks=100000)\n",
        "b = a + 10\n",
        "c = b * 2\n",
        "result = c - 5\n",
        "final_result = result.compute()\n",
        "print(f\"Final computed result: {final_result}\")"
      ],
      "metadata": {
        "colab": {
          "base_uri": "https://localhost:8080/"
        },
        "id": "ZaxS1kfmvbfE",
        "outputId": "17ecc50c-bce1-449f-f91e-e644c27364fd"
      },
      "execution_count": 31,
      "outputs": [
        {
          "output_type": "stream",
          "name": "stdout",
          "text": [
            "Final computed result: [16.62533259 16.88898532 16.42920814 ... 16.59663982 15.17404755\n",
            " 15.33746253]\n"
          ]
        }
      ]
    },
    {
      "cell_type": "code",
      "source": [
        "md(questions.get(12))"
      ],
      "metadata": {
        "colab": {
          "base_uri": "https://localhost:8080/",
          "height": 108
        },
        "id": "L6NhrdF7wGCA",
        "outputId": "e113a1ad-34b4-4163-aa5c-1d140962f6af"
      },
      "execution_count": 32,
      "outputs": [
        {
          "output_type": "execute_result",
          "data": {
            "text/plain": [
              "<IPython.core.display.Markdown object>"
            ],
            "text/markdown": "\n\n## 12. Uso de Dask DataFrame\nCarregue um grande conjunto de dados CSV usando o `dask.dataframe`. Realize uma agregação simples (como média ou soma) sobre uma coluna numérica e exiba os resultados "
          },
          "metadata": {},
          "execution_count": 32
        }
      ]
    },
    {
      "cell_type": "code",
      "source": [
        "# Downloading Kaggle Dataset\n",
        "!curl -L -o /content/archive.zip https://www.kaggle.com/api/v1/datasets/download/kritanjalijain/amazon-reviews"
      ],
      "metadata": {
        "colab": {
          "base_uri": "https://localhost:8080/"
        },
        "id": "12idCX31zbiF",
        "outputId": "ce8b6702-8854-4f18-e39f-047127bb1b3c"
      },
      "execution_count": 34,
      "outputs": [
        {
          "output_type": "stream",
          "name": "stdout",
          "text": [
            "  % Total    % Received % Xferd  Average Speed   Time    Time     Time  Current\n",
            "                                 Dload  Upload   Total   Spent    Left  Speed\n",
            "  0     0    0     0    0     0      0      0 --:--:-- --:--:-- --:--:--     0\n",
            "100 1324M  100 1324M    0     0  95.9M      0  0:00:13  0:00:13 --:--:--  121M\n"
          ]
        }
      ]
    },
    {
      "cell_type": "code",
      "source": [
        "# Unzipping\n",
        "!unzip /content/archive.zip"
      ],
      "metadata": {
        "colab": {
          "base_uri": "https://localhost:8080/"
        },
        "id": "_b6Rfkv1QlZK",
        "outputId": "75585b03-dfa4-48a1-ba7b-0d464aaff7c0"
      },
      "execution_count": 35,
      "outputs": [
        {
          "output_type": "stream",
          "name": "stdout",
          "text": [
            "Archive:  /content/archive.zip\n",
            "  inflating: amazon_review_polarity_csv.tgz  \n",
            "  inflating: test.csv                \n",
            "  inflating: train.csv               \n"
          ]
        }
      ]
    },
    {
      "cell_type": "code",
      "source": [
        "# After Downloading in the folder.\n",
        "df = dd.read_csv('/content/train.csv')\n",
        "mean_value = df['2'].mean().compute()\n",
        "print(f\"Mean value of the column: {mean_value}\")"
      ],
      "metadata": {
        "colab": {
          "base_uri": "https://localhost:8080/"
        },
        "id": "OaBWM4zUwIyH",
        "outputId": "ad324149-cace-4a42-89b4-0421648eb7d0"
      },
      "execution_count": 40,
      "outputs": [
        {
          "output_type": "stream",
          "name": "stdout",
          "text": [
            "Mean value of the column: 1.4999998611110725\n"
          ]
        }
      ]
    }
  ]
}