{
  "cells": [
    {
      "cell_type": "markdown",
      "metadata": {
        "colab_type": "text",
        "id": "view-in-github"
      },
      "source": [
        "<a href=\"https://colab.research.google.com/github/vitorpohlenz/python_exercises/blob/main/solutions/Exercises_Solutions_9.ipynb\" target=\"_parent\"><img src=\"https://colab.research.google.com/assets/colab-badge.svg\" alt=\"Open In Colab\"/></a>"
      ]
    },
    {
      "cell_type": "markdown",
      "metadata": {
        "id": "jM3IdlPQourA"
      },
      "source": [
        "# Language\n",
        "\n",
        "[EN] Please select the language.\n",
        "\n",
        "[PT] Por favor selecione a linguadem."
      ]
    },
    {
      "cell_type": "code",
      "execution_count": 1,
      "metadata": {
        "id": "7oPN-pqODga1"
      },
      "outputs": [],
      "source": [
        "# 'PTBR': Português\n",
        "# 'EN': English\n",
        "LANGUAGE = 'PTBR'"
      ]
    },
    {
      "cell_type": "markdown",
      "metadata": {
        "id": "089nyz4hDnri"
      },
      "source": [
        "# Setup"
      ]
    },
    {
      "cell_type": "code",
      "execution_count": 2,
      "metadata": {
        "colab": {
          "base_uri": "https://localhost:8080/"
        },
        "id": "RFNB4PWv-4ak",
        "outputId": "5f67b891-79b6-4817-d530-8050cd0a9f96"
      },
      "outputs": [
        {
          "name": "stdout",
          "output_type": "stream",
          "text": [
            "Fri Oct 25 20:46:51 2024       \n",
            "+---------------------------------------------------------------------------------------+\n",
            "| NVIDIA-SMI 535.104.05             Driver Version: 535.104.05   CUDA Version: 12.2     |\n",
            "|-----------------------------------------+----------------------+----------------------+\n",
            "| GPU  Name                 Persistence-M | Bus-Id        Disp.A | Volatile Uncorr. ECC |\n",
            "| Fan  Temp   Perf          Pwr:Usage/Cap |         Memory-Usage | GPU-Util  Compute M. |\n",
            "|                                         |                      |               MIG M. |\n",
            "|=========================================+======================+======================|\n",
            "|   0  Tesla T4                       Off | 00000000:00:04.0 Off |                    0 |\n",
            "| N/A   61C    P8              11W /  70W |      0MiB / 15360MiB |      0%      Default |\n",
            "|                                         |                      |                  N/A |\n",
            "+-----------------------------------------+----------------------+----------------------+\n",
            "                                                                                         \n",
            "+---------------------------------------------------------------------------------------+\n",
            "| Processes:                                                                            |\n",
            "|  GPU   GI   CI        PID   Type   Process name                            GPU Memory |\n",
            "|        ID   ID                                                             Usage      |\n",
            "|=======================================================================================|\n",
            "|  No running processes found                                                           |\n",
            "+---------------------------------------------------------------------------------------+\n"
          ]
        }
      ],
      "source": [
        "!nvidia-smi"
      ]
    },
    {
      "cell_type": "code",
      "execution_count": 3,
      "metadata": {
        "colab": {
          "base_uri": "https://localhost:8080/"
        },
        "id": "5duJCnvXAPRV",
        "outputId": "d29e73fb-15cc-4e01-c952-aa7b6bacae03"
      },
      "outputs": [
        {
          "name": "stdout",
          "output_type": "stream",
          "text": [
            "nvcc: NVIDIA (R) Cuda compiler driver\n",
            "Copyright (c) 2005-2023 NVIDIA Corporation\n",
            "Built on Tue_Aug_15_22:02:13_PDT_2023\n",
            "Cuda compilation tools, release 12.2, V12.2.140\n",
            "Build cuda_12.2.r12.2/compiler.33191640_0\n"
          ]
        }
      ],
      "source": [
        "!nvcc --version"
      ]
    },
    {
      "cell_type": "code",
      "execution_count": 4,
      "metadata": {
        "id": "vkCd1GdARJsh"
      },
      "outputs": [],
      "source": [
        "import os\n",
        "import numpy as np\n",
        "from numba import jit, cuda\n",
        "import cupy as cp\n",
        "import math\n",
        "import time\n",
        "from IPython.display import Markdown as md # Displaying Markdown as \"prints\""
      ]
    },
    {
      "cell_type": "markdown",
      "metadata": {
        "id": "ZyfGjTf0DZxV"
      },
      "source": [
        "<font color = \"yellow\">[EN] Please do not change the following code! </font>\n",
        "\n",
        "<font color = \"yellow\">[PT] Por favor não altere o código abaixo! </font>"
      ]
    },
    {
      "cell_type": "code",
      "execution_count": 5,
      "metadata": {
        "colab": {
          "base_uri": "https://localhost:8080/"
        },
        "id": "XaX4qBnViWOM",
        "outputId": "a0aa5524-2b58-4c15-8cff-f02f0acf7a65"
      },
      "outputs": [
        {
          "name": "stdout",
          "output_type": "stream",
          "text": [
            "Cloning into 'python_exercises'...\n",
            "remote: Enumerating objects: 85, done.\u001b[K\n",
            "remote: Counting objects: 100% (43/43), done.\u001b[K\n",
            "remote: Compressing objects: 100% (39/39), done.\u001b[K\n",
            "remote: Total 85 (delta 18), reused 9 (delta 4), pack-reused 42 (from 1)\u001b[K\n",
            "Receiving objects: 100% (85/85), 606.10 KiB | 2.71 MiB/s, done.\n",
            "Resolving deltas: 100% (29/29), done.\n"
          ]
        }
      ],
      "source": [
        "!git clone https://github.com/vitorpohlenz/python_exercises.git --branch main --single-branch"
      ]
    },
    {
      "cell_type": "code",
      "execution_count": 6,
      "metadata": {
        "id": "e9gtnBc5qWlF"
      },
      "outputs": [],
      "source": [
        "# Reading Markdown file with the exercises.\n",
        "with open(f'python_exercises/exercises/List_9_{LANGUAGE}.md','r') as file:\n",
        "  exercises_raw = file.read()"
      ]
    },
    {
      "cell_type": "code",
      "execution_count": 7,
      "metadata": {
        "id": "YlOOasNnsyWI"
      },
      "outputs": [],
      "source": [
        "# Header of the file.\n",
        "header = exercises_raw.split('## 1')[0]"
      ]
    },
    {
      "cell_type": "code",
      "execution_count": 8,
      "metadata": {
        "id": "OOrf0QHrtqFB"
      },
      "outputs": [],
      "source": [
        "# Raw string with the questions.\n",
        "questions_raw = exercises_raw.replace(header,'')"
      ]
    },
    {
      "cell_type": "code",
      "execution_count": 9,
      "metadata": {
        "id": "H8LW6njsu8_a"
      },
      "outputs": [],
      "source": [
        "# Putting the questions in to a dict to be displayed.\n",
        "questions = dict()\n",
        "for q_string in questions_raw.split(';'):\n",
        "  if '## ' in q_string:\n",
        "    q_num = int(q_string.replace('## ','').split('.')[0])\n",
        "    questions[q_num] = q_string"
      ]
    },
    {
      "cell_type": "markdown",
      "metadata": {
        "id": "XKoDYjHbD2v7"
      },
      "source": [
        "# Suggested Solutions\n",
        "[EN] The solutions provided are just suggestions, there are other possible solutions.\n",
        "\n",
        "For now on <font color = \"whitegreen\"> feel free to change</font> the code if you want, and <font color = \"yellow\"> please report any issues!</font>\n",
        "\n",
        "[PT] As soluções fornecidas aqui são apenas sugestões, existem outras soluções possíveis.\n",
        "\n",
        "Daqui em diante <font color = \"whitegreen\"> fique a vontade para modificar</font> o código se quiser, e <font color = \"yellow\"> por favor reportem qualquer problema!</font>\n",
        "\n"
      ]
    },
    {
      "cell_type": "code",
      "execution_count": 10,
      "metadata": {
        "colab": {
          "base_uri": "https://localhost:8080/",
          "height": 74
        },
        "id": "6qlj9ap3ta0O",
        "outputId": "2bd4a131-3c50-40cf-d37a-5cb5b15e3cdb"
      },
      "outputs": [
        {
          "data": {
            "text/markdown": [
              "# Exercícios com Numba e Cupy\n",
              "\n"
            ],
            "text/plain": [
              "<IPython.core.display.Markdown object>"
            ]
          },
          "execution_count": 10,
          "metadata": {},
          "output_type": "execute_result"
        }
      ],
      "source": [
        "md(header)"
      ]
    },
    {
      "cell_type": "markdown",
      "metadata": {
        "id": "3OtGECfx-K_h"
      },
      "source": [
        "> [EN] Note: In this notebook used these imports.\n",
        "\n",
        "> [PT] Nota: Neste notebook são utilizadas essas importações.\n",
        "\n",
        "```\n",
        "import numpy as np\n",
        "from numba import jit, cuda\n",
        "import cupy as cp\n",
        "import math\n",
        "import time\n",
        "```"
      ]
    },
    {
      "cell_type": "code",
      "execution_count": 11,
      "metadata": {
        "colab": {
          "base_uri": "https://localhost:8080/",
          "height": 107
        },
        "id": "L6NhrdF7wGCA",
        "outputId": "0d5b4a8a-c8fe-4d45-d0e2-93785cbc729b"
      },
      "outputs": [
        {
          "data": {
            "text/markdown": [
              "## 1. Função JIT Simples\n",
              "Crie uma função que calcule a soma de todos os elementos em uma lista de números inteiros. Use o decorador `@jit` do Numba para acelerar a execução e compare o tempo de execução com e sem a compilação JIT"
            ],
            "text/plain": [
              "<IPython.core.display.Markdown object>"
            ]
          },
          "execution_count": 11,
          "metadata": {},
          "output_type": "execute_result"
        }
      ],
      "source": [
        "md(questions.get(1))"
      ]
    },
    {
      "cell_type": "code",
      "execution_count": 12,
      "metadata": {
        "id": "ZWCk-bIKBOqH"
      },
      "outputs": [],
      "source": [
        "def sum_list(arr):\n",
        "  return sum(arr)"
      ]
    },
    {
      "cell_type": "code",
      "execution_count": 13,
      "metadata": {
        "id": "JDokAQW0BpxI"
      },
      "outputs": [],
      "source": [
        "@jit\n",
        "def sum_list_jit(arr):\n",
        "    return sum(arr)"
      ]
    },
    {
      "cell_type": "code",
      "execution_count": 14,
      "metadata": {
        "colab": {
          "base_uri": "https://localhost:8080/"
        },
        "id": "mxTkVGByBBRf",
        "outputId": "05375c48-f289-42f6-c1b2-0348d9390871"
      },
      "outputs": [
        {
          "name": "stdout",
          "output_type": "stream",
          "text": [
            "Sum with JIT: 1.4970715045928955\n",
            "Sum without JIT: 0.16119098663330078\n"
          ]
        }
      ],
      "source": [
        "arr = np.random.randint(0, 100, size=1000000)\n",
        "start_jit = time.time()\n",
        "sum_list_jit(arr)\n",
        "print(\"Sum with JIT:\", time.time() - start_jit)\n",
        "\n",
        "start = time.time()\n",
        "sum_list(arr)\n",
        "print(\"Sum without JIT:\", time.time() - start)"
      ]
    },
    {
      "cell_type": "code",
      "execution_count": 15,
      "metadata": {
        "colab": {
          "base_uri": "https://localhost:8080/",
          "height": 107
        },
        "id": "KvYXsTP89uEK",
        "outputId": "00045171-f41a-439d-b68a-5ed96e72e877"
      },
      "outputs": [
        {
          "data": {
            "text/markdown": [
              "\n",
              "\n",
              "## 2. Multiplicação de Matrizes com JIT\n",
              "Crie uma função para multiplicar duas matrizes `500x500` usando o decorador `@jit`. Gere duas matrizes aleatórias, multiplique-as e meça o tempo de execução com e sem JIT"
            ],
            "text/plain": [
              "<IPython.core.display.Markdown object>"
            ]
          },
          "execution_count": 15,
          "metadata": {},
          "output_type": "execute_result"
        }
      ],
      "source": [
        "md(questions.get(2))"
      ]
    },
    {
      "cell_type": "code",
      "execution_count": 16,
      "metadata": {
        "id": "W3UTzf5GD4yL"
      },
      "outputs": [],
      "source": [
        "def matrix_multiply(A, B):\n",
        "    return np.dot(A, B)\n"
      ]
    },
    {
      "cell_type": "code",
      "execution_count": 17,
      "metadata": {
        "id": "F5xyPmgvDP9M"
      },
      "outputs": [],
      "source": [
        "@jit\n",
        "def matrix_multiply_jit(A, B):\n",
        "    return np.dot(A, B)"
      ]
    },
    {
      "cell_type": "code",
      "execution_count": 18,
      "metadata": {
        "colab": {
          "base_uri": "https://localhost:8080/"
        },
        "id": "AaMUtNjwFMSD",
        "outputId": "3e7e66fa-1584-4d76-e58d-2b8d333eef34"
      },
      "outputs": [
        {
          "name": "stdout",
          "output_type": "stream",
          "text": [
            "Matrix multiplication with JIT: 10.553899049758911\n",
            "Matrix multiplication without JIT: 6.391111850738525\n"
          ]
        }
      ],
      "source": [
        "size = 5000\n",
        "A = np.random.rand(size, size)\n",
        "B = np.random.rand(size, size)\n",
        "\n",
        "start_jit = time.time()\n",
        "matrix_multiply_jit(A, B)\n",
        "print(\"Matrix multiplication with JIT:\", time.time() - start_jit)\n",
        "\n",
        "start = time.time()\n",
        "matrix_multiply(A, B)\n",
        "print(\"Matrix multiplication without JIT:\", time.time() - start)"
      ]
    },
    {
      "cell_type": "code",
      "execution_count": 19,
      "metadata": {
        "colab": {
          "base_uri": "https://localhost:8080/",
          "height": 107
        },
        "id": "rA3z15-uB7NO",
        "outputId": "5c3cb8ca-42e8-444c-fbc9-8d1117ead262"
      },
      "outputs": [
        {
          "data": {
            "text/markdown": [
              "\n",
              "\n",
              "## 3. Cálculo de Números Primos com JIT\n",
              "Crie uma função que retorne todos os números primos até um número `n` fornecido pelo usuário. Utilize Numba com JIT para otimizar a função e compare o tempo de execução para valores grandes de `n`"
            ],
            "text/plain": [
              "<IPython.core.display.Markdown object>"
            ]
          },
          "execution_count": 19,
          "metadata": {},
          "output_type": "execute_result"
        }
      ],
      "source": [
        "md(questions.get(3))"
      ]
    },
    {
      "cell_type": "code",
      "execution_count": 20,
      "metadata": {
        "id": "16nceH2mIX0v"
      },
      "outputs": [],
      "source": [
        "def find_primes(n):\n",
        "    primes = []\n",
        "    for num in range(2, n + 1):\n",
        "        is_prime = True\n",
        "        for i in range(2, int(math.sqrt(num)) + 1):\n",
        "            if num % i == 0:\n",
        "                is_prime = False\n",
        "                break\n",
        "        if is_prime:\n",
        "            primes.append(num)\n",
        "    return primes"
      ]
    },
    {
      "cell_type": "code",
      "execution_count": 21,
      "metadata": {
        "id": "skLrKgq8IL1b"
      },
      "outputs": [],
      "source": [
        "@jit\n",
        "def find_primes_jit(n):\n",
        "    primes = []\n",
        "    for num in range(2, n + 1):\n",
        "        is_prime = True\n",
        "        for i in range(2, int(math.sqrt(num)) + 1):\n",
        "            if num % i == 0:\n",
        "                is_prime = False\n",
        "                break\n",
        "        if is_prime:\n",
        "            primes.append(num)\n",
        "    return primes"
      ]
    },
    {
      "cell_type": "code",
      "execution_count": 22,
      "metadata": {
        "colab": {
          "base_uri": "https://localhost:8080/"
        },
        "id": "gFyk95LnIVFw",
        "outputId": "0bad737a-de59-46b3-bd9f-db96de35adb6"
      },
      "outputs": [
        {
          "name": "stdout",
          "output_type": "stream",
          "text": [
            "Primes with JIT: 168 Time: 0.3052206039428711\n",
            "Primes without JIT: 168 Time: 0.0012447834014892578\n"
          ]
        }
      ],
      "source": [
        "start_jit = time.time()\n",
        "print(\"Primes with JIT:\", len(find_primes_jit(1000)), \"Time:\", time.time() - start_jit)\n",
        "\n",
        "start = time.time()\n",
        "print(\"Primes without JIT:\", len(find_primes(1000)), \"Time:\", time.time() - start)"
      ]
    },
    {
      "cell_type": "code",
      "execution_count": 23,
      "metadata": {
        "colab": {
          "base_uri": "https://localhost:8080/",
          "height": 90
        },
        "id": "RJ9261e7IJEk",
        "outputId": "2b322170-3e58-427a-b410-1c4915375638"
      },
      "outputs": [
        {
          "data": {
            "text/markdown": [
              "\n",
              "\n",
              "## 4. Multiplicação de Matrizes com Cupy\n",
              "Crie duas matrizes `1000x1000` usando Cupy e calcule o produto das duas diretamente na GPU"
            ],
            "text/plain": [
              "<IPython.core.display.Markdown object>"
            ]
          },
          "execution_count": 23,
          "metadata": {},
          "output_type": "execute_result"
        }
      ],
      "source": [
        "md(questions.get(4))"
      ]
    },
    {
      "cell_type": "code",
      "execution_count": 24,
      "metadata": {
        "id": "9lDAuS8jbUs0"
      },
      "outputs": [],
      "source": [
        "A = cp.random.rand(1000, 1000)\n",
        "B = cp.random.rand(1000, 1000)\n",
        "\n",
        "start = time.time()\n",
        "C = cp.dot(A, B)\n",
        "cp.cuda.Stream.null.synchronize()"
      ]
    },
    {
      "cell_type": "code",
      "execution_count": 25,
      "metadata": {
        "colab": {
          "base_uri": "https://localhost:8080/",
          "height": 90
        },
        "id": "i7KRw-TvbVxy",
        "outputId": "9046006b-455f-4957-dc4f-ea08241b7059"
      },
      "outputs": [
        {
          "data": {
            "text/markdown": [
              "\n",
              "\n",
              "## 5. Produto Externo de Vetores com Cupy\n",
              "Usando Cupy, calcule o produto externo entre dois vetores de tamanho `10000`"
            ],
            "text/plain": [
              "<IPython.core.display.Markdown object>"
            ]
          },
          "execution_count": 25,
          "metadata": {},
          "output_type": "execute_result"
        }
      ],
      "source": [
        "md(questions.get(5))"
      ]
    },
    {
      "cell_type": "code",
      "execution_count": 26,
      "metadata": {
        "id": "lRM40gN8VN4t"
      },
      "outputs": [],
      "source": [
        "a = cp.random.rand(10000)\n",
        "b = cp.random.rand(10000)\n",
        "\n",
        "start = time.time()\n",
        "result = cp.outer(a, b)\n",
        "cp.cuda.Stream.null.synchronize()"
      ]
    }
  ],
  "metadata": {
    "accelerator": "GPU",
    "colab": {
      "gpuType": "T4",
      "include_colab_link": true,
      "provenance": []
    },
    "kernelspec": {
      "display_name": "Python 3",
      "name": "python3"
    },
    "language_info": {
      "name": "python"
    }
  },
  "nbformat": 4,
  "nbformat_minor": 0
}
