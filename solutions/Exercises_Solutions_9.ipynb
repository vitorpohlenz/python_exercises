{
  "nbformat": 4,
  "nbformat_minor": 0,
  "metadata": {
    "colab": {
      "provenance": [],
      "gpuType": "T4",
      "include_colab_link": true
    },
    "kernelspec": {
      "name": "python3",
      "display_name": "Python 3"
    },
    "language_info": {
      "name": "python"
    },
    "accelerator": "GPU"
  },
  "cells": [
    {
      "cell_type": "markdown",
      "metadata": {
        "id": "view-in-github",
        "colab_type": "text"
      },
      "source": [
        "<a href=\"https://colab.research.google.com/github/vitorpohlenz/python_exercises/blob/list_9/solutions/Exercises_Solutions_9.ipynb\" target=\"_parent\"><img src=\"https://colab.research.google.com/assets/colab-badge.svg\" alt=\"Open In Colab\"/></a>"
      ]
    },
    {
      "cell_type": "markdown",
      "source": [
        "# Language\n",
        "\n",
        "[EN] Please select the language.\n",
        "\n",
        "[PT] Por favor selecione a linguadem."
      ],
      "metadata": {
        "id": "jM3IdlPQourA"
      }
    },
    {
      "cell_type": "code",
      "source": [
        "# 'PTBR': Português\n",
        "# 'EN': English\n",
        "LANGUAGE = 'PTBR'"
      ],
      "metadata": {
        "id": "7oPN-pqODga1"
      },
      "execution_count": 1,
      "outputs": []
    },
    {
      "cell_type": "markdown",
      "source": [
        "# Setup"
      ],
      "metadata": {
        "id": "089nyz4hDnri"
      }
    },
    {
      "cell_type": "code",
      "source": [
        "!nvidia-smi"
      ],
      "metadata": {
        "colab": {
          "base_uri": "https://localhost:8080/"
        },
        "id": "RFNB4PWv-4ak",
        "outputId": "e3b6c0f0-96e1-454b-8770-27ea004505e6"
      },
      "execution_count": 2,
      "outputs": [
        {
          "output_type": "stream",
          "name": "stdout",
          "text": [
            "Fri Oct 25 18:49:57 2024       \n",
            "+---------------------------------------------------------------------------------------+\n",
            "| NVIDIA-SMI 535.104.05             Driver Version: 535.104.05   CUDA Version: 12.2     |\n",
            "|-----------------------------------------+----------------------+----------------------+\n",
            "| GPU  Name                 Persistence-M | Bus-Id        Disp.A | Volatile Uncorr. ECC |\n",
            "| Fan  Temp   Perf          Pwr:Usage/Cap |         Memory-Usage | GPU-Util  Compute M. |\n",
            "|                                         |                      |               MIG M. |\n",
            "|=========================================+======================+======================|\n",
            "|   0  Tesla T4                       Off | 00000000:00:04.0 Off |                    0 |\n",
            "| N/A   64C    P8              12W /  70W |      0MiB / 15360MiB |      0%      Default |\n",
            "|                                         |                      |                  N/A |\n",
            "+-----------------------------------------+----------------------+----------------------+\n",
            "                                                                                         \n",
            "+---------------------------------------------------------------------------------------+\n",
            "| Processes:                                                                            |\n",
            "|  GPU   GI   CI        PID   Type   Process name                            GPU Memory |\n",
            "|        ID   ID                                                             Usage      |\n",
            "|=======================================================================================|\n",
            "|  No running processes found                                                           |\n",
            "+---------------------------------------------------------------------------------------+\n"
          ]
        }
      ]
    },
    {
      "cell_type": "code",
      "source": [
        "!nvcc --version"
      ],
      "metadata": {
        "colab": {
          "base_uri": "https://localhost:8080/"
        },
        "id": "5duJCnvXAPRV",
        "outputId": "a979afed-cfc4-437a-a481-20fe3ea215a2"
      },
      "execution_count": 3,
      "outputs": [
        {
          "output_type": "stream",
          "name": "stdout",
          "text": [
            "nvcc: NVIDIA (R) Cuda compiler driver\n",
            "Copyright (c) 2005-2023 NVIDIA Corporation\n",
            "Built on Tue_Aug_15_22:02:13_PDT_2023\n",
            "Cuda compilation tools, release 12.2, V12.2.140\n",
            "Build cuda_12.2.r12.2/compiler.33191640_0\n"
          ]
        }
      ]
    },
    {
      "cell_type": "code",
      "source": [
        "import os\n",
        "import numpy as np\n",
        "from numba import jit, cuda\n",
        "import cupy as cp\n",
        "import math\n",
        "import time\n",
        "from IPython.display import Markdown as md # Displaying Markdown as \"prints\""
      ],
      "metadata": {
        "id": "vkCd1GdARJsh"
      },
      "execution_count": 4,
      "outputs": []
    },
    {
      "cell_type": "markdown",
      "source": [
        "<font color = \"yellow\">[EN] Please do not change the following code! </font>\n",
        "\n",
        "<font color = \"yellow\">[PT] Por favor não altere o código abaixo! </font>"
      ],
      "metadata": {
        "id": "ZyfGjTf0DZxV"
      }
    },
    {
      "cell_type": "code",
      "source": [
        "!git clone https://github.com/vitorpohlenz/python_exercises.git --branch list_9 --single-branch"
      ],
      "metadata": {
        "colab": {
          "base_uri": "https://localhost:8080/"
        },
        "id": "XaX4qBnViWOM",
        "outputId": "99eca47a-b13a-41f3-db98-efeb8e0a3f43"
      },
      "execution_count": 5,
      "outputs": [
        {
          "output_type": "stream",
          "name": "stdout",
          "text": [
            "Cloning into 'python_exercises'...\n",
            "remote: Enumerating objects: 71, done.\u001b[K\n",
            "remote: Counting objects: 100% (29/29), done.\u001b[K\n",
            "remote: Compressing objects: 100% (28/28), done.\u001b[K\n",
            "remote: Total 71 (delta 15), reused 1 (delta 1), pack-reused 42 (from 1)\u001b[K\n",
            "Receiving objects: 100% (71/71), 600.29 KiB | 1.29 MiB/s, done.\n",
            "Resolving deltas: 100% (26/26), done.\n"
          ]
        }
      ]
    },
    {
      "cell_type": "code",
      "source": [
        "# Reading Markdown file with the exercises.\n",
        "with open(f'python_exercises/exercises/List_9_{LANGUAGE}.md','r') as file:\n",
        "  exercises_raw = file.read()"
      ],
      "metadata": {
        "id": "e9gtnBc5qWlF"
      },
      "execution_count": 6,
      "outputs": []
    },
    {
      "cell_type": "code",
      "source": [
        "# Header of the file.\n",
        "header = exercises_raw.split('## 1')[0]"
      ],
      "metadata": {
        "id": "YlOOasNnsyWI"
      },
      "execution_count": 7,
      "outputs": []
    },
    {
      "cell_type": "code",
      "source": [
        "# Raw string with the questions.\n",
        "questions_raw = exercises_raw.replace(header,'')"
      ],
      "metadata": {
        "id": "OOrf0QHrtqFB"
      },
      "execution_count": 8,
      "outputs": []
    },
    {
      "cell_type": "code",
      "source": [
        "# Putting the questions in to a dict to be displayed.\n",
        "questions = dict()\n",
        "for q_string in questions_raw.split(';'):\n",
        "  if '## ' in q_string:\n",
        "    q_num = int(q_string.replace('## ','').split('.')[0])\n",
        "    questions[q_num] = q_string"
      ],
      "metadata": {
        "id": "H8LW6njsu8_a"
      },
      "execution_count": 9,
      "outputs": []
    },
    {
      "cell_type": "markdown",
      "source": [
        "# Suggested Solutions\n",
        "[EN] The solutions provided are just suggestions, there are other possible solutions.\n",
        "\n",
        "For now on <font color = \"whitegreen\"> feel free to change</font> the code if you want, and <font color = \"yellow\"> please report any issues!</font>\n",
        "\n",
        "[PT] As soluções fornecidas aqui são apenas sugestões, existem outras soluções possíveis.\n",
        "\n",
        "Daqui em diante <font color = \"whitegreen\"> fique a vontade para modificar</font> o código se quiser, e <font color = \"yellow\"> por favor reportem qualquer problema!</font>\n",
        "\n"
      ],
      "metadata": {
        "id": "XKoDYjHbD2v7"
      }
    },
    {
      "cell_type": "code",
      "source": [
        "md(header)"
      ],
      "metadata": {
        "colab": {
          "base_uri": "https://localhost:8080/",
          "height": 74
        },
        "id": "6qlj9ap3ta0O",
        "outputId": "60a2d8d2-6c77-4321-b1ea-172806f43890"
      },
      "execution_count": 10,
      "outputs": [
        {
          "output_type": "execute_result",
          "data": {
            "text/plain": [
              "<IPython.core.display.Markdown object>"
            ],
            "text/markdown": "# Exercícios com Numba e Cupy\n\n"
          },
          "metadata": {},
          "execution_count": 10
        }
      ]
    },
    {
      "cell_type": "markdown",
      "source": [
        "> [EN] Note: In this notebook used these imports.\n",
        "\n",
        "> [PT] Nota: Neste notebook são utilizadas essas importações.\n",
        "\n",
        "```\n",
        "import numpy as np\n",
        "from numba import jit, cuda\n",
        "import cupy as cp\n",
        "import math\n",
        "import time\n",
        "```"
      ],
      "metadata": {
        "id": "3OtGECfx-K_h"
      }
    },
    {
      "cell_type": "code",
      "source": [
        "md(questions.get(1))"
      ],
      "metadata": {
        "colab": {
          "base_uri": "https://localhost:8080/",
          "height": 107
        },
        "id": "L6NhrdF7wGCA",
        "outputId": "7c9e12f2-2768-4dbc-eab1-d38dd82276d9"
      },
      "execution_count": 11,
      "outputs": [
        {
          "output_type": "execute_result",
          "data": {
            "text/plain": [
              "<IPython.core.display.Markdown object>"
            ],
            "text/markdown": "## 1. Função JIT Simples\nCrie uma função que calcule a soma de todos os elementos em uma lista de números inteiros. Use o decorador `@jit` do Numba para acelerar a execução e compare o tempo de execução com e sem a compilação JIT"
          },
          "metadata": {},
          "execution_count": 11
        }
      ]
    },
    {
      "cell_type": "code",
      "source": [
        "def sum_list(arr):\n",
        "  return sum(arr)"
      ],
      "metadata": {
        "id": "ZWCk-bIKBOqH"
      },
      "execution_count": 13,
      "outputs": []
    },
    {
      "cell_type": "code",
      "source": [
        "@jit\n",
        "def sum_list_jit(arr):\n",
        "    return sum(arr)"
      ],
      "metadata": {
        "id": "JDokAQW0BpxI"
      },
      "execution_count": 14,
      "outputs": []
    },
    {
      "cell_type": "code",
      "source": [
        "arr = np.random.randint(0, 100, size=1000000)\n",
        "start_jit = time.time()\n",
        "sum_list_jit(arr)\n",
        "print(\"Sum with JIT:\", time.time() - start_jit)\n",
        "\n",
        "start = time.time()\n",
        "sum_list(arr)\n",
        "print(\"Sum without JIT:\", time.time() - start)"
      ],
      "metadata": {
        "colab": {
          "base_uri": "https://localhost:8080/"
        },
        "id": "mxTkVGByBBRf",
        "outputId": "d3a64940-282f-4145-b6ef-28a002b9e44f"
      },
      "execution_count": 17,
      "outputs": [
        {
          "output_type": "stream",
          "name": "stdout",
          "text": [
            "Sum with JIT: 0.002566099166870117\n",
            "Sum without JIT: 0.07262539863586426\n"
          ]
        }
      ]
    },
    {
      "cell_type": "code",
      "source": [
        "md(questions.get(26))"
      ],
      "metadata": {
        "colab": {
          "base_uri": "https://localhost:8080/",
          "height": 107
        },
        "id": "KvYXsTP89uEK",
        "outputId": "7fc53721-a4ca-42f3-8b4d-ba578b3253dd"
      },
      "execution_count": 19,
      "outputs": [
        {
          "output_type": "execute_result",
          "data": {
            "text/plain": [
              "<IPython.core.display.Markdown object>"
            ],
            "text/markdown": "\n\n## 2. Fatorial com JIT\nImplemente uma função para calcular o fatorial de um número inteiro usando recursão. Aplique o decorador `@jit` para otimizar a função e teste-a com números grandes, comparando o desempenho"
          },
          "metadata": {},
          "execution_count": 19
        }
      ]
    },
    {
      "cell_type": "code",
      "source": [
        "md(questions.get())\n"
      ],
      "metadata": {
        "id": "rA3z15-uB7NO"
      },
      "execution_count": null,
      "outputs": []
    }
  ]
}