{
  "cells": [
    {
      "cell_type": "markdown",
      "metadata": {
        "colab_type": "text",
        "id": "view-in-github"
      },
      "source": [
        "<a href=\"https://colab.research.google.com/github/vitorpohlenz/python_exercises/blob/main/solutions/Exercises_Solutions_2.ipynb\" target=\"_parent\"><img src=\"https://colab.research.google.com/assets/colab-badge.svg\" alt=\"Open In Colab\"/></a>"
      ]
    },
    {
      "cell_type": "markdown",
      "metadata": {
        "id": "jM3IdlPQourA"
      },
      "source": [
        "# Language\n",
        "\n",
        "[EN] Please select the language.\n",
        "\n",
        "[PT] Por favor selecione a linguadem."
      ]
    },
    {
      "cell_type": "code",
      "execution_count": 1,
      "metadata": {
        "id": "7oPN-pqODga1"
      },
      "outputs": [],
      "source": [
        "# 'PTBR': Português\n",
        "# 'EN': English\n",
        "LANGUAGE = 'PTBR'"
      ]
    },
    {
      "cell_type": "markdown",
      "metadata": {
        "id": "089nyz4hDnri"
      },
      "source": [
        "# Setup"
      ]
    },
    {
      "cell_type": "code",
      "execution_count": 2,
      "metadata": {
        "id": "L_LyBYYrr-cn"
      },
      "outputs": [],
      "source": [
        "import os\n",
        "import math\n",
        "import numpy as np\n",
        "from IPython.display import Markdown as md # Displaying Markdown as \"prints\""
      ]
    },
    {
      "cell_type": "markdown",
      "metadata": {
        "id": "ZyfGjTf0DZxV"
      },
      "source": [
        "<font color = \"yellow\">[EN] Please do not change the following code! </font>\n",
        "\n",
        "<font color = \"yellow\">[PT] Por favor não altere o código abaixo! </font>"
      ]
    },
    {
      "cell_type": "code",
      "execution_count": 3,
      "metadata": {
        "colab": {
          "base_uri": "https://localhost:8080/"
        },
        "id": "XaX4qBnViWOM",
        "outputId": "88b57adc-06b0-4519-dd42-19550a498b42"
      },
      "outputs": [
        {
          "name": "stdout",
          "output_type": "stream",
          "text": [
            "Cloning into 'python_exercises'...\n",
            "remote: Enumerating objects: 48, done.\u001b[K\n",
            "remote: Counting objects: 100% (48/48), done.\u001b[K\n",
            "remote: Compressing objects: 100% (39/39), done.\u001b[K\n",
            "remote: Total 48 (delta 20), reused 24 (delta 8), pack-reused 0 (from 0)\u001b[K\n",
            "Receiving objects: 100% (48/48), 33.32 KiB | 3.33 MiB/s, done.\n",
            "Resolving deltas: 100% (20/20), done.\n"
          ]
        }
      ],
      "source": [
        "!git clone https://github.com/vitorpohlenz/python_exercises.git --branch main --single-branch"
      ]
    },
    {
      "cell_type": "code",
      "execution_count": 4,
      "metadata": {
        "id": "e9gtnBc5qWlF"
      },
      "outputs": [],
      "source": [
        "# Reading Markdown file with the exercises.\n",
        "with open(f'python_exercises/exercises/List_2_{LANGUAGE}.md','r') as file:\n",
        "  exercises_raw = file.read()"
      ]
    },
    {
      "cell_type": "code",
      "execution_count": 5,
      "metadata": {
        "id": "YlOOasNnsyWI"
      },
      "outputs": [],
      "source": [
        "# Header of the file.\n",
        "header = exercises_raw.split('## 1')[0]"
      ]
    },
    {
      "cell_type": "code",
      "execution_count": 6,
      "metadata": {
        "id": "OOrf0QHrtqFB"
      },
      "outputs": [],
      "source": [
        "# Raw string with the questions.\n",
        "questions_raw = exercises_raw.replace(header,'')"
      ]
    },
    {
      "cell_type": "code",
      "execution_count": 7,
      "metadata": {
        "id": "H8LW6njsu8_a"
      },
      "outputs": [],
      "source": [
        "# Putting the questions in to a dict to be displayed.\n",
        "questions = dict()\n",
        "for q_string in questions_raw.split(';'):\n",
        "  if '## ' in q_string:\n",
        "    q_num = int(q_string.replace('## ','').split('.')[0])\n",
        "    questions[q_num] = q_string"
      ]
    },
    {
      "cell_type": "markdown",
      "metadata": {
        "id": "XKoDYjHbD2v7"
      },
      "source": [
        "# Suggested Solutions\n",
        "[EN] The solutions provided are just suggestions, there are other possible solutions.\n",
        "\n",
        "For now on <font color = \"whitegreen\"> feel free to change</font> the code if you want, and <font color = \"yellow\"> please report any issues!</font>\n",
        "\n",
        "[PT] As soluções fornecidas aqui são apenas sugestões, existem outras soluções possíveis.\n",
        "\n",
        "Daqui em diante <font color = \"whitegreen\"> fique a vontade para modificar</font> o código se quiser, e <font color = \"yellow\"> por favor reportem qualquer problema!</font>\n",
        "\n"
      ]
    },
    {
      "cell_type": "code",
      "execution_count": 8,
      "metadata": {
        "colab": {
          "base_uri": "https://localhost:8080/",
          "height": 109
        },
        "id": "6qlj9ap3ta0O",
        "outputId": "844cc6a4-57e1-40d6-870b-e793984bc9f7"
      },
      "outputs": [
        {
          "data": {
            "text/markdown": [
              "# Lista de Exercícios de Python sobre Funções, Geradores, Objetos Mutáveis e Imutáveis.\n",
              "\n"
            ],
            "text/plain": [
              "<IPython.core.display.Markdown object>"
            ]
          },
          "execution_count": 8,
          "metadata": {},
          "output_type": "execute_result"
        }
      ],
      "source": [
        "md(header)"
      ]
    },
    {
      "cell_type": "code",
      "execution_count": 9,
      "metadata": {
        "colab": {
          "base_uri": "https://localhost:8080/",
          "height": 90
        },
        "id": "gykgNQRhtEa5",
        "outputId": "6de9b15f-0718-4061-d369-29032c1b64af"
      },
      "outputs": [
        {
          "data": {
            "text/markdown": [
              "## 1. Função para Calcular a Média\n",
              "Crie uma função que receba uma lista de números e retorne a média deles"
            ],
            "text/plain": [
              "<IPython.core.display.Markdown object>"
            ]
          },
          "execution_count": 9,
          "metadata": {},
          "output_type": "execute_result"
        }
      ],
      "source": [
        "md(questions.get(1))"
      ]
    },
    {
      "cell_type": "code",
      "execution_count": 10,
      "metadata": {
        "colab": {
          "base_uri": "https://localhost:8080/"
        },
        "id": "msX1M_cPFRZv",
        "outputId": "86b32779-da38-4e9d-cbcf-b3d7a69ae5e0"
      },
      "outputs": [
        {
          "data": {
            "text/plain": [
              "3.0"
            ]
          },
          "execution_count": 10,
          "metadata": {},
          "output_type": "execute_result"
        }
      ],
      "source": [
        "def my_mean(numbers):\n",
        "  return sum(numbers)/len(numbers)\n",
        "\n",
        "my_mean([1,2,3,4,5])"
      ]
    },
    {
      "cell_type": "code",
      "execution_count": 11,
      "metadata": {
        "colab": {
          "base_uri": "https://localhost:8080/",
          "height": 90
        },
        "id": "on6ASjbcFM6F",
        "outputId": "5cb2a8dc-9d24-4eb9-e623-b462a59ea37b"
      },
      "outputs": [
        {
          "data": {
            "text/markdown": [
              "\n",
              "\n",
              "## 2. Função para Verificar Palíndromo\n",
              "Crie uma função que receba uma string e retorne `True` se for um palíndromo, e `False` caso contrário"
            ],
            "text/plain": [
              "<IPython.core.display.Markdown object>"
            ]
          },
          "execution_count": 11,
          "metadata": {},
          "output_type": "execute_result"
        }
      ],
      "source": [
        "md(questions.get(2))"
      ]
    },
    {
      "cell_type": "code",
      "execution_count": 12,
      "metadata": {
        "colab": {
          "base_uri": "https://localhost:8080/"
        },
        "id": "6TrP2mr9GTBX",
        "outputId": "720c4fec-1615-4ee6-85a0-80bd069572a6"
      },
      "outputs": [
        {
          "data": {
            "text/plain": [
              "True"
            ]
          },
          "execution_count": 12,
          "metadata": {},
          "output_type": "execute_result"
        }
      ],
      "source": [
        "def is_palindrome(string):\n",
        "  check = string == string[::-1]\n",
        "  return check\n",
        "\n",
        "is_palindrome('madam')"
      ]
    },
    {
      "cell_type": "code",
      "execution_count": 13,
      "metadata": {
        "colab": {
          "base_uri": "https://localhost:8080/",
          "height": 90
        },
        "id": "QCyVeUdAHZyB",
        "outputId": "a06e5a98-8c2b-4004-8d6f-792d6114e4ad"
      },
      "outputs": [
        {
          "data": {
            "text/markdown": [
              "\n",
              "\n",
              "## 3. Função Mutável x Imutável\n",
              "Crie uma função que tente modificar uma lista e uma string. Observe o comportamento e explique a diferença entre mutáveis e imutáveis"
            ],
            "text/plain": [
              "<IPython.core.display.Markdown object>"
            ]
          },
          "execution_count": 13,
          "metadata": {},
          "output_type": "execute_result"
        }
      ],
      "source": [
        "md(questions.get(3))"
      ]
    },
    {
      "cell_type": "code",
      "execution_count": 14,
      "metadata": {
        "id": "mJKMmkGBHqn1"
      },
      "outputs": [],
      "source": [
        "def dummy_change(some_arg):\n",
        "  some_arg[0]='O.O'\n",
        "  return some_arg"
      ]
    },
    {
      "cell_type": "code",
      "execution_count": 15,
      "metadata": {
        "colab": {
          "base_uri": "https://localhost:8080/"
        },
        "id": "xhMmW9fHxecI",
        "outputId": "f2461666-d24d-41c6-d2b3-77d3181eeddc"
      },
      "outputs": [
        {
          "data": {
            "text/plain": [
              "['O.O', 1, 2, 3]"
            ]
          },
          "execution_count": 15,
          "metadata": {},
          "output_type": "execute_result"
        }
      ],
      "source": [
        "# Ex with list\n",
        "dummy_list = [0,1,2,3]\n",
        "dummy_change(dummy_list)"
      ]
    },
    {
      "cell_type": "code",
      "execution_count": 16,
      "metadata": {
        "colab": {
          "base_uri": "https://localhost:8080/",
          "height": 270
        },
        "id": "JqzFYS79xrOT",
        "outputId": "3d34e2bc-0eee-4cc3-bc16-76ed5b991b64"
      },
      "outputs": [
        {
          "ename": "TypeError",
          "evalue": "'str' object does not support item assignment",
          "output_type": "error",
          "traceback": [
            "\u001b[0;31m---------------------------------------------------------------------------\u001b[0m",
            "\u001b[0;31mTypeError\u001b[0m                                 Traceback (most recent call last)",
            "\u001b[0;32m<ipython-input-16-c39748e289b7>\u001b[0m in \u001b[0;36m<cell line: 3>\u001b[0;34m()\u001b[0m\n\u001b[1;32m      1\u001b[0m \u001b[0;31m#Ex with str\u001b[0m\u001b[0;34m\u001b[0m\u001b[0;34m\u001b[0m\u001b[0m\n\u001b[1;32m      2\u001b[0m \u001b[0mdummy_str\u001b[0m \u001b[0;34m=\u001b[0m \u001b[0;34m'abc'\u001b[0m\u001b[0;34m\u001b[0m\u001b[0;34m\u001b[0m\u001b[0m\n\u001b[0;32m----> 3\u001b[0;31m \u001b[0mdummy_change\u001b[0m\u001b[0;34m(\u001b[0m\u001b[0mdummy_str\u001b[0m\u001b[0;34m)\u001b[0m\u001b[0;34m\u001b[0m\u001b[0;34m\u001b[0m\u001b[0m\n\u001b[0m",
            "\u001b[0;32m<ipython-input-14-ac49cbb50fe9>\u001b[0m in \u001b[0;36mdummy_change\u001b[0;34m(some_arg)\u001b[0m\n\u001b[1;32m      1\u001b[0m \u001b[0;32mdef\u001b[0m \u001b[0mdummy_change\u001b[0m\u001b[0;34m(\u001b[0m\u001b[0msome_arg\u001b[0m\u001b[0;34m)\u001b[0m\u001b[0;34m:\u001b[0m\u001b[0;34m\u001b[0m\u001b[0;34m\u001b[0m\u001b[0m\n\u001b[0;32m----> 2\u001b[0;31m   \u001b[0msome_arg\u001b[0m\u001b[0;34m[\u001b[0m\u001b[0;36m0\u001b[0m\u001b[0;34m]\u001b[0m\u001b[0;34m=\u001b[0m\u001b[0;34m'O.O'\u001b[0m\u001b[0;34m\u001b[0m\u001b[0;34m\u001b[0m\u001b[0m\n\u001b[0m\u001b[1;32m      3\u001b[0m   \u001b[0;32mreturn\u001b[0m \u001b[0msome_arg\u001b[0m\u001b[0;34m\u001b[0m\u001b[0;34m\u001b[0m\u001b[0m\n",
            "\u001b[0;31mTypeError\u001b[0m: 'str' object does not support item assignment"
          ]
        }
      ],
      "source": [
        "#Ex with str\n",
        "dummy_str = 'abc'\n",
        "dummy_change(dummy_str)"
      ]
    },
    {
      "cell_type": "markdown",
      "metadata": {
        "id": "tnZDhJwOxxF5"
      },
      "source": [
        "[EN] This error happens because `list` are mutable but `str` are not!\n",
        "[PT] Esse erro acontece porque `listas` são mutáveis, mas `str` não!"
      ]
    },
    {
      "cell_type": "code",
      "execution_count": 17,
      "metadata": {
        "colab": {
          "base_uri": "https://localhost:8080/",
          "height": 90
        },
        "id": "nJK5mQTxKDcp",
        "outputId": "4142e2a8-e17b-4785-d7c9-419f921d2e5c"
      },
      "outputs": [
        {
          "data": {
            "text/markdown": [
              "\n",
              "\n",
              "## 4. Função com Argumento Padrão\n",
              "Crie uma função que receba dois números e retorne a soma deles, com um argumento tendo um valor padrão"
            ],
            "text/plain": [
              "<IPython.core.display.Markdown object>"
            ]
          },
          "execution_count": 17,
          "metadata": {},
          "output_type": "execute_result"
        }
      ],
      "source": [
        "md(questions.get(4))"
      ]
    },
    {
      "cell_type": "code",
      "execution_count": 18,
      "metadata": {
        "colab": {
          "base_uri": "https://localhost:8080/"
        },
        "id": "TKhJHIsYMl37",
        "outputId": "e06d8670-475c-475c-b76d-d14f228eeb10"
      },
      "outputs": [
        {
          "name": "stdout",
          "output_type": "stream",
          "text": [
            "One number: dummy_sum(1)=1\n",
            "Two numbers: dummy_sum(1,2)=3\n"
          ]
        }
      ],
      "source": [
        "def dummy_sum(number_1, number_2 = 0):\n",
        "  return number_1 + number_2\n",
        "\n",
        "print(f\"One number: {dummy_sum(1)=}\")\n",
        "print(f\"Two numbers: {dummy_sum(1,2)=}\")"
      ]
    },
    {
      "cell_type": "code",
      "execution_count": 19,
      "metadata": {
        "colab": {
          "base_uri": "https://localhost:8080/",
          "height": 90
        },
        "id": "Ti1nbO0bL4NT",
        "outputId": "b533b977-980b-4b44-b991-fd3ed61db2b5"
      },
      "outputs": [
        {
          "data": {
            "text/markdown": [
              "\n",
              "\n",
              "## 5. Retorno múltiplo\n",
              "Escreva uma função que retorne o maior e o menor número de uma lista"
            ],
            "text/plain": [
              "<IPython.core.display.Markdown object>"
            ]
          },
          "execution_count": 19,
          "metadata": {},
          "output_type": "execute_result"
        }
      ],
      "source": [
        "md(questions.get(5))"
      ]
    },
    {
      "cell_type": "code",
      "execution_count": 20,
      "metadata": {
        "colab": {
          "base_uri": "https://localhost:8080/"
        },
        "id": "jDd1SJrrOJ3I",
        "outputId": "b68f52d4-1915-44ce-e8e0-0f5b73ff5a30"
      },
      "outputs": [
        {
          "data": {
            "text/plain": [
              "(1, 5)"
            ]
          },
          "execution_count": 20,
          "metadata": {},
          "output_type": "execute_result"
        }
      ],
      "source": [
        "def min_max(numbers):\n",
        "  return min(numbers), max(numbers)\n",
        "\n",
        "min_max([1,2,3,4,5])"
      ]
    },
    {
      "cell_type": "code",
      "execution_count": 21,
      "metadata": {
        "colab": {
          "base_uri": "https://localhost:8080/",
          "height": 90
        },
        "id": "HU0hUAN3OUHR",
        "outputId": "c31cd27b-81d9-4611-ad9b-46c66f62f2ac"
      },
      "outputs": [
        {
          "data": {
            "text/markdown": [
              "\n",
              "\n",
              "## 6. Função Lambda\n",
              "Escreva uma função lambda que eleve um número ao quadrado"
            ],
            "text/plain": [
              "<IPython.core.display.Markdown object>"
            ]
          },
          "execution_count": 21,
          "metadata": {},
          "output_type": "execute_result"
        }
      ],
      "source": [
        "md(questions.get(6))"
      ]
    },
    {
      "cell_type": "code",
      "execution_count": 22,
      "metadata": {
        "colab": {
          "base_uri": "https://localhost:8080/"
        },
        "id": "DxGfXlx8Ozet",
        "outputId": "64f0ccc9-d417-45f0-8140-9edf06ef3947"
      },
      "outputs": [
        {
          "data": {
            "text/plain": [
              "9"
            ]
          },
          "execution_count": 22,
          "metadata": {},
          "output_type": "execute_result"
        }
      ],
      "source": [
        "lambda_square = lambda x: x**2\n",
        "\n",
        "lambda_square(3)"
      ]
    },
    {
      "cell_type": "code",
      "execution_count": 23,
      "metadata": {
        "colab": {
          "base_uri": "https://localhost:8080/",
          "height": 90
        },
        "id": "gYh2vJIvO88C",
        "outputId": "44a51c1b-f435-4c68-b2e7-6d25f436c337"
      },
      "outputs": [
        {
          "data": {
            "text/markdown": [
              "\n",
              "\n",
              "## 7. Uso de Função Map\n",
              "Use a função `map` para elevar todos os elementos de uma lista ao quadrado"
            ],
            "text/plain": [
              "<IPython.core.display.Markdown object>"
            ]
          },
          "execution_count": 23,
          "metadata": {},
          "output_type": "execute_result"
        }
      ],
      "source": [
        "md(questions.get(7))"
      ]
    },
    {
      "cell_type": "code",
      "execution_count": 24,
      "metadata": {
        "colab": {
          "base_uri": "https://localhost:8080/"
        },
        "id": "OeTKwfGEPI7Y",
        "outputId": "377298fd-dbec-476b-b281-acf6bcc2b7c7"
      },
      "outputs": [
        {
          "data": {
            "text/plain": [
              "[1, 4, 9, 16, 25]"
            ]
          },
          "execution_count": 24,
          "metadata": {},
          "output_type": "execute_result"
        }
      ],
      "source": [
        "# Square map\n",
        "my_list = [1,2,3,4,5]\n",
        "lambda_square = lambda x: x**2\n",
        "\n",
        "list(map(lambda_square, my_list))"
      ]
    },
    {
      "cell_type": "code",
      "execution_count": 25,
      "metadata": {
        "colab": {
          "base_uri": "https://localhost:8080/",
          "height": 90
        },
        "id": "nfR7SEbiQWCT",
        "outputId": "e0e88d08-848f-4604-bebd-5bdb5a741e65"
      },
      "outputs": [
        {
          "data": {
            "text/markdown": [
              "\n",
              "\n",
              "## 8. Uso de Função Filter\n",
              "Use a função `filter` para filtrar apenas os números pares de uma lista"
            ],
            "text/plain": [
              "<IPython.core.display.Markdown object>"
            ]
          },
          "execution_count": 25,
          "metadata": {},
          "output_type": "execute_result"
        }
      ],
      "source": [
        "md(questions.get(8))"
      ]
    },
    {
      "cell_type": "code",
      "execution_count": 26,
      "metadata": {
        "colab": {
          "base_uri": "https://localhost:8080/"
        },
        "id": "ecu7d958Tivg",
        "outputId": "d5d9a590-0e61-4611-de73-7544b84f9615"
      },
      "outputs": [
        {
          "data": {
            "text/plain": [
              "[2, 4]"
            ]
          },
          "execution_count": 26,
          "metadata": {},
          "output_type": "execute_result"
        }
      ],
      "source": [
        "# Filtering even number in list\n",
        "\n",
        "my_list = [1,2,3,4,5]\n",
        "\n",
        "# Is possible to put lambda functions inside other functions.\n",
        "list(filter(lambda x: (x % 2) == 0, my_list))"
      ]
    },
    {
      "cell_type": "code",
      "execution_count": 27,
      "metadata": {
        "colab": {
          "base_uri": "https://localhost:8080/",
          "height": 90
        },
        "id": "1JLwr7x0UAuH",
        "outputId": "1d3a007d-8d95-4d21-8f6f-20726eae50f7"
      },
      "outputs": [
        {
          "data": {
            "text/markdown": [
              "\n",
              "\n",
              "## 9. Uso de Função Reduce\n",
              "Use a função `reduce` para calcular o produto de todos os elementos de uma lista"
            ],
            "text/plain": [
              "<IPython.core.display.Markdown object>"
            ]
          },
          "execution_count": 27,
          "metadata": {},
          "output_type": "execute_result"
        }
      ],
      "source": [
        "md(questions.get(9))"
      ]
    },
    {
      "cell_type": "code",
      "execution_count": 28,
      "metadata": {
        "colab": {
          "base_uri": "https://localhost:8080/"
        },
        "id": "jDma7erdUCci",
        "outputId": "3bb6e865-e461-483d-b37f-0331dfe4635b"
      },
      "outputs": [
        {
          "data": {
            "text/plain": [
              "120"
            ]
          },
          "execution_count": 28,
          "metadata": {},
          "output_type": "execute_result"
        }
      ],
      "source": [
        "# List product with reduce\n",
        "\n",
        "# Needs to import functools\n",
        "from functools import reduce\n",
        "\n",
        "my_list = [1,2,3,4,5]\n",
        "\n",
        "reduce(lambda x,y: x*y, my_list)"
      ]
    },
    {
      "cell_type": "markdown",
      "metadata": {
        "id": "BkeVbgAzz_Wp"
      },
      "source": [
        "Ref: https://docs.python.org/3/library/functools.html"
      ]
    },
    {
      "cell_type": "code",
      "execution_count": 29,
      "metadata": {
        "colab": {
          "base_uri": "https://localhost:8080/",
          "height": 90
        },
        "id": "_jwjLqGNUOkc",
        "outputId": "7c5ac382-7363-4f27-abf4-75886b3c5465"
      },
      "outputs": [
        {
          "data": {
            "text/markdown": [
              "\n",
              "\n",
              "## 10. Gerador de Números Pares\n",
              "Crie uma função geradora que retorne números pares até um valor especificado"
            ],
            "text/plain": [
              "<IPython.core.display.Markdown object>"
            ]
          },
          "execution_count": 29,
          "metadata": {},
          "output_type": "execute_result"
        }
      ],
      "source": [
        "md(questions.get(10))"
      ]
    },
    {
      "cell_type": "code",
      "execution_count": 30,
      "metadata": {
        "colab": {
          "base_uri": "https://localhost:8080/"
        },
        "id": "x5jNYJQyUQIw",
        "outputId": "7398e4d0-7f0a-4589-cfc9-055c84fae9c7"
      },
      "outputs": [
        {
          "data": {
            "text/plain": [
              "[2, 4, 6, 8, 10, 12]"
            ]
          },
          "execution_count": 30,
          "metadata": {},
          "output_type": "execute_result"
        }
      ],
      "source": [
        "def even_numbers_generator(n):\n",
        "  for k in range(1,n+1):\n",
        "    if (k % 2) == 0:\n",
        "      yield k\n",
        "\n",
        "list(even_numbers_generator(13))"
      ]
    },
    {
      "cell_type": "code",
      "execution_count": 31,
      "metadata": {
        "colab": {
          "base_uri": "https://localhost:8080/",
          "height": 90
        },
        "id": "_vf0tyf_V9az",
        "outputId": "3e53f7ef-d07b-46c1-fd97-6561edf59277"
      },
      "outputs": [
        {
          "data": {
            "text/markdown": [
              "\n",
              "\n",
              "## 11. Gerador de Fibonacci\n",
              "Escreva uma função geradora para a sequência de Fibonacci com `n` elementos"
            ],
            "text/plain": [
              "<IPython.core.display.Markdown object>"
            ]
          },
          "execution_count": 31,
          "metadata": {},
          "output_type": "execute_result"
        }
      ],
      "source": [
        "md(questions.get(11))"
      ]
    },
    {
      "cell_type": "code",
      "execution_count": 32,
      "metadata": {
        "colab": {
          "base_uri": "https://localhost:8080/"
        },
        "id": "fXySaKkJXSzr",
        "outputId": "fcb05b0b-fa58-4cc8-e230-45f60377058c"
      },
      "outputs": [
        {
          "data": {
            "text/plain": [
              "[0, 1, 1, 2, 3, 5, 8, 13, 21, 34]"
            ]
          },
          "execution_count": 32,
          "metadata": {},
          "output_type": "execute_result"
        }
      ],
      "source": [
        "def fibonacci_gerator(n):\n",
        "  a=0\n",
        "  b=1\n",
        "  temp = None\n",
        "  for _ in range(1,n+1):\n",
        "    yield a\n",
        "    temp = a\n",
        "    a = b\n",
        "    b = temp+b\n",
        "\n",
        "list(fibonacci_gerator(10))"
      ]
    },
    {
      "cell_type": "code",
      "execution_count": 33,
      "metadata": {
        "colab": {
          "base_uri": "https://localhost:8080/",
          "height": 90
        },
        "id": "nAWrylvKWV4a",
        "outputId": "4c6797ec-c165-44cf-99bb-6c673f0e4494"
      },
      "outputs": [
        {
          "data": {
            "text/markdown": [
              "\n",
              "\n",
              "## 12. Função para Desempacotamento de Argumentos\n",
              "Crie uma função que receba um número variável de argumentos e retorne a soma deles"
            ],
            "text/plain": [
              "<IPython.core.display.Markdown object>"
            ]
          },
          "execution_count": 33,
          "metadata": {},
          "output_type": "execute_result"
        }
      ],
      "source": [
        "md(questions.get(12))"
      ]
    },
    {
      "cell_type": "code",
      "execution_count": 34,
      "metadata": {
        "colab": {
          "base_uri": "https://localhost:8080/"
        },
        "id": "08L8uTY0ZW9-",
        "outputId": "acc47109-608d-4f01-8d88-8ed2e3544556"
      },
      "outputs": [
        {
          "data": {
            "text/plain": [
              "15"
            ]
          },
          "execution_count": 34,
          "metadata": {},
          "output_type": "execute_result"
        }
      ],
      "source": [
        "def my_sum(*args):\n",
        "  return sum(args)\n",
        "\n",
        "my_sum(1,2,3,4,5)"
      ]
    },
    {
      "cell_type": "code",
      "execution_count": 35,
      "metadata": {
        "colab": {
          "base_uri": "https://localhost:8080/",
          "height": 91
        },
        "id": "uspNqj04abuv",
        "outputId": "a50362a2-c0d8-44b9-a14c-d54badfe5a90"
      },
      "outputs": [
        {
          "data": {
            "text/markdown": [
              "\n",
              "\n",
              "## 13. Utilizando `*args` e `**kwargs`\n",
              "Escreva uma função que utilize `*args` para receber números e `**kwargs` para receber um operador (`+, -, *, /`) e realize a operação desejada"
            ],
            "text/plain": [
              "<IPython.core.display.Markdown object>"
            ]
          },
          "execution_count": 35,
          "metadata": {},
          "output_type": "execute_result"
        }
      ],
      "source": [
        "md(questions.get(13))"
      ]
    },
    {
      "cell_type": "code",
      "execution_count": 36,
      "metadata": {
        "colab": {
          "base_uri": "https://localhost:8080/"
        },
        "id": "oR-8ODskZAuY",
        "outputId": "4eca6541-c572-4f48-b13e-f8bafd502d87"
      },
      "outputs": [
        {
          "data": {
            "text/plain": [
              "120"
            ]
          },
          "execution_count": 36,
          "metadata": {},
          "output_type": "execute_result"
        }
      ],
      "source": [
        "def myfun(*numbers, **operator):\n",
        "  result = None\n",
        "  op = next(iter(operator.values()))\n",
        "  for num in numbers:\n",
        "    if result == None:\n",
        "      result = num\n",
        "    else:\n",
        "      result = eval(f\"{result} {op} {num}\")\n",
        "\n",
        "  return result\n",
        "\n",
        "\n",
        "myfun(1,2,3,4,5, operation='*')"
      ]
    },
    {
      "cell_type": "code",
      "execution_count": 37,
      "metadata": {
        "colab": {
          "base_uri": "https://localhost:8080/",
          "height": 91
        },
        "id": "M7e5XW85bdsS",
        "outputId": "948a4d48-ddb9-46f6-9a61-cb05dc9982fb"
      },
      "outputs": [
        {
          "data": {
            "text/markdown": [
              "\n",
              "\n",
              "## 14. Uso da Função Embutida `sorted`\n",
              "Use a função `sorted` para ordenar uma lista de strings por comprimento"
            ],
            "text/plain": [
              "<IPython.core.display.Markdown object>"
            ]
          },
          "execution_count": 37,
          "metadata": {},
          "output_type": "execute_result"
        }
      ],
      "source": [
        "md(questions.get(14))"
      ]
    },
    {
      "cell_type": "code",
      "execution_count": 38,
      "metadata": {
        "colab": {
          "base_uri": "https://localhost:8080/"
        },
        "id": "AimDFK6Wet9n",
        "outputId": "4ef18fc5-4dd6-4006-f154-ee79b3a65088"
      },
      "outputs": [
        {
          "name": "stdout",
          "output_type": "stream",
          "text": [
            "shuffled_strs=['i', 'o', 'e', 'a', 'u']\n",
            "shuffled_strs=['a', 'e', 'i', 'o', 'u']\n"
          ]
        }
      ],
      "source": [
        "shuffled_strs=['i','o','e','a','u']\n",
        "print(f\"{shuffled_strs=}\")\n",
        "\n",
        "# Sorting the list\n",
        "shuffled_strs.sort()\n",
        "print(f\"{shuffled_strs=}\")"
      ]
    },
    {
      "cell_type": "code",
      "execution_count": 39,
      "metadata": {
        "colab": {
          "base_uri": "https://localhost:8080/",
          "height": 91
        },
        "id": "ScgWjukGfGh5",
        "outputId": "82487311-2e5a-456b-cb3e-3d9f955d192f"
      },
      "outputs": [
        {
          "data": {
            "text/markdown": [
              "\n",
              "\n",
              "## 15. Uso da Função Embutida `zip`\n",
              "Escreva um programa que combine duas listas de mesma quantidade de elementos em pares usando a função `zip`"
            ],
            "text/plain": [
              "<IPython.core.display.Markdown object>"
            ]
          },
          "execution_count": 39,
          "metadata": {},
          "output_type": "execute_result"
        }
      ],
      "source": [
        "md(questions.get(15))"
      ]
    },
    {
      "cell_type": "code",
      "execution_count": 40,
      "metadata": {
        "colab": {
          "base_uri": "https://localhost:8080/"
        },
        "id": "3s3CGR0of3NL",
        "outputId": "32a7edf6-62cb-4fcc-c6bf-8bbaf078594c"
      },
      "outputs": [
        {
          "name": "stdout",
          "output_type": "stream",
          "text": [
            "1:a\n",
            "2:b\n",
            "3:c\n",
            "4:d\n",
            "5:e\n"
          ]
        }
      ],
      "source": [
        "def dummy_zip(list1, list2):\n",
        "  for a,b in list(zip(list1, list2)):\n",
        "    print(f\"{a}:{b}\")\n",
        "\n",
        "dummy_zip([1,2,3,4,5],['a','b','c','d','e'])"
      ]
    },
    {
      "cell_type": "code",
      "execution_count": 41,
      "metadata": {
        "colab": {
          "base_uri": "https://localhost:8080/",
          "height": 90
        },
        "id": "AviMojjNgTon",
        "outputId": "a837bfc9-7f74-4679-f6a1-b397813c5a0d"
      },
      "outputs": [
        {
          "data": {
            "text/markdown": [
              "\n",
              "\n",
              "## 16. Função que Modifica uma Lista\n",
              "Escreva uma função que receba uma lista e adicione um elemento a ela. Teste com listas mutáveis e com um tupla e observe o comportamento"
            ],
            "text/plain": [
              "<IPython.core.display.Markdown object>"
            ]
          },
          "execution_count": 41,
          "metadata": {},
          "output_type": "execute_result"
        }
      ],
      "source": [
        "md(questions.get(16))"
      ]
    },
    {
      "cell_type": "code",
      "execution_count": 42,
      "metadata": {
        "id": "T4rI8-01gK7w"
      },
      "outputs": [],
      "source": [
        "def dummy_list_append(list1, value):\n",
        "  list1.append(value)\n",
        "  return list1"
      ]
    },
    {
      "cell_type": "code",
      "execution_count": 43,
      "metadata": {
        "colab": {
          "base_uri": "https://localhost:8080/"
        },
        "id": "vlyzD-H4geNw",
        "outputId": "a6f0bc7f-3da6-4810-f7f7-ceaa8dd05b7b"
      },
      "outputs": [
        {
          "data": {
            "text/plain": [
              "[1, 2, 3, 4, 5, 6]"
            ]
          },
          "execution_count": 43,
          "metadata": {},
          "output_type": "execute_result"
        }
      ],
      "source": [
        "dummy_list_append([1,2,3,4,5], 6)"
      ]
    },
    {
      "cell_type": "code",
      "execution_count": 44,
      "metadata": {
        "colab": {
          "base_uri": "https://localhost:8080/",
          "height": 252
        },
        "id": "fNl87QpBgh6l",
        "outputId": "8a65c8b2-fba2-434c-f333-e6999e6549d4"
      },
      "outputs": [
        {
          "ename": "AttributeError",
          "evalue": "'tuple' object has no attribute 'append'",
          "output_type": "error",
          "traceback": [
            "\u001b[0;31m---------------------------------------------------------------------------\u001b[0m",
            "\u001b[0;31mAttributeError\u001b[0m                            Traceback (most recent call last)",
            "\u001b[0;32m<ipython-input-44-1aa0514cde5f>\u001b[0m in \u001b[0;36m<cell line: 2>\u001b[0;34m()\u001b[0m\n\u001b[1;32m      1\u001b[0m \u001b[0;31m# An error is expected because tuples do not have an append method and cannot be changed.\u001b[0m\u001b[0;34m\u001b[0m\u001b[0;34m\u001b[0m\u001b[0m\n\u001b[0;32m----> 2\u001b[0;31m \u001b[0mdummy_list_append\u001b[0m\u001b[0;34m(\u001b[0m\u001b[0;34m(\u001b[0m\u001b[0;36m1\u001b[0m\u001b[0;34m,\u001b[0m\u001b[0;36m2\u001b[0m\u001b[0;34m,\u001b[0m\u001b[0;36m3\u001b[0m\u001b[0;34m,\u001b[0m\u001b[0;36m4\u001b[0m\u001b[0;34m,\u001b[0m\u001b[0;36m5\u001b[0m\u001b[0;34m)\u001b[0m\u001b[0;34m,\u001b[0m \u001b[0;36m6\u001b[0m\u001b[0;34m)\u001b[0m\u001b[0;34m\u001b[0m\u001b[0;34m\u001b[0m\u001b[0m\n\u001b[0m",
            "\u001b[0;32m<ipython-input-42-3d2da606b84c>\u001b[0m in \u001b[0;36mdummy_list_append\u001b[0;34m(list1, value)\u001b[0m\n\u001b[1;32m      1\u001b[0m \u001b[0;32mdef\u001b[0m \u001b[0mdummy_list_append\u001b[0m\u001b[0;34m(\u001b[0m\u001b[0mlist1\u001b[0m\u001b[0;34m,\u001b[0m \u001b[0mvalue\u001b[0m\u001b[0;34m)\u001b[0m\u001b[0;34m:\u001b[0m\u001b[0;34m\u001b[0m\u001b[0;34m\u001b[0m\u001b[0m\n\u001b[0;32m----> 2\u001b[0;31m   \u001b[0mlist1\u001b[0m\u001b[0;34m.\u001b[0m\u001b[0mappend\u001b[0m\u001b[0;34m(\u001b[0m\u001b[0mvalue\u001b[0m\u001b[0;34m)\u001b[0m\u001b[0;34m\u001b[0m\u001b[0;34m\u001b[0m\u001b[0m\n\u001b[0m\u001b[1;32m      3\u001b[0m   \u001b[0;32mreturn\u001b[0m \u001b[0mlist1\u001b[0m\u001b[0;34m\u001b[0m\u001b[0;34m\u001b[0m\u001b[0m\n",
            "\u001b[0;31mAttributeError\u001b[0m: 'tuple' object has no attribute 'append'"
          ]
        }
      ],
      "source": [
        "# An error is expected because tuples do not have an append method and cannot be changed.\n",
        "dummy_list_append((1,2,3,4,5), 6)"
      ]
    }
  ],
  "metadata": {
    "colab": {
      "include_colab_link": true,
      "provenance": []
    },
    "kernelspec": {
      "display_name": "Python 3",
      "name": "python3"
    },
    "language_info": {
      "name": "python"
    }
  },
  "nbformat": 4,
  "nbformat_minor": 0
}
