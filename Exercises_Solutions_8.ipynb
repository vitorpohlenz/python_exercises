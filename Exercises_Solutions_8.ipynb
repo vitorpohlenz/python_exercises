{
  "nbformat": 4,
  "nbformat_minor": 0,
  "metadata": {
    "colab": {
      "provenance": [],
      "include_colab_link": true
    },
    "kernelspec": {
      "name": "python3",
      "display_name": "Python 3"
    },
    "language_info": {
      "name": "python"
    }
  },
  "cells": [
    {
      "cell_type": "markdown",
      "metadata": {
        "id": "view-in-github",
        "colab_type": "text"
      },
      "source": [
        "<a href=\"https://colab.research.google.com/github/vitorpohlenz/python_exercises/blob/list_8/Exercises_Solutions_8.ipynb\" target=\"_parent\"><img src=\"https://colab.research.google.com/assets/colab-badge.svg\" alt=\"Open In Colab\"/></a>"
      ]
    },
    {
      "cell_type": "markdown",
      "source": [
        "# Language\n",
        "\n",
        "[EN] Please select the language.\n",
        "\n",
        "[PT] Por favor selecione a linguadem."
      ],
      "metadata": {
        "id": "jM3IdlPQourA"
      }
    },
    {
      "cell_type": "code",
      "source": [
        "# 'PTBR': Português\n",
        "# 'EN': English\n",
        "LANGUAGE = 'PTBR'"
      ],
      "metadata": {
        "id": "7oPN-pqODga1"
      },
      "execution_count": null,
      "outputs": []
    },
    {
      "cell_type": "markdown",
      "source": [
        "# Setup"
      ],
      "metadata": {
        "id": "089nyz4hDnri"
      }
    },
    {
      "cell_type": "code",
      "source": [
        "import os\n",
        "import numpy as np\n",
        "from IPython.display import Markdown as md # Displaying Markdown as \"prints\""
      ],
      "metadata": {
        "id": "vkCd1GdARJsh"
      },
      "execution_count": null,
      "outputs": []
    },
    {
      "cell_type": "markdown",
      "source": [
        "<font color = \"yellow\">[EN] Please do not change the following code! </font>\n",
        "\n",
        "<font color = \"yellow\">[PT] Por favor não altere o código abaixo! </font>"
      ],
      "metadata": {
        "id": "ZyfGjTf0DZxV"
      }
    },
    {
      "cell_type": "code",
      "source": [
        "!git clone https://github.com/vitorpohlenz/python_exercises.git --branch list_8 --single-branch"
      ],
      "metadata": {
        "colab": {
          "base_uri": "https://localhost:8080/"
        },
        "id": "XaX4qBnViWOM",
        "outputId": "b26f90dd-020a-4630-e1b8-47d32b2bef8d"
      },
      "execution_count": null,
      "outputs": [
        {
          "output_type": "stream",
          "name": "stdout",
          "text": [
            "fatal: destination path 'python_exercises' already exists and is not an empty directory.\n"
          ]
        }
      ]
    },
    {
      "cell_type": "code",
      "source": [
        "# Reading Markdown file with the exercises.\n",
        "with open(f'python_exercises/exercises/List_8_{LANGUAGE}.md','r') as file:\n",
        "  exercises_raw = file.read()"
      ],
      "metadata": {
        "id": "e9gtnBc5qWlF"
      },
      "execution_count": null,
      "outputs": []
    },
    {
      "cell_type": "code",
      "source": [
        "# Header of the file.\n",
        "header = exercises_raw.split('## 1')[0]"
      ],
      "metadata": {
        "id": "YlOOasNnsyWI"
      },
      "execution_count": null,
      "outputs": []
    },
    {
      "cell_type": "code",
      "source": [
        "# Raw string with the questions.\n",
        "questions_raw = exercises_raw.replace(header,'')"
      ],
      "metadata": {
        "id": "OOrf0QHrtqFB"
      },
      "execution_count": null,
      "outputs": []
    },
    {
      "cell_type": "code",
      "source": [
        "# Putting the questions in to a dict to be displayed.\n",
        "questions = dict()\n",
        "for q_string in questions_raw.split(';'):\n",
        "  if '## ' in q_string:\n",
        "    q_num = int(q_string.replace('## ','').split('.')[0])\n",
        "    questions[q_num] = q_string"
      ],
      "metadata": {
        "id": "H8LW6njsu8_a"
      },
      "execution_count": null,
      "outputs": []
    },
    {
      "cell_type": "markdown",
      "source": [
        "# Suggested Solutions\n",
        "[EN] The solutions provided are just suggestions, there are other possible solutions.\n",
        "\n",
        "For now on <font color = \"whitegreen\"> feel free to change</font> the code if you want, and <font color = \"yellow\"> please report any issues!</font>\n",
        "\n",
        "[PT] As soluções fornecidas aqui são apenas sugestões, existem outras soluções possíveis.\n",
        "\n",
        "Daqui em diante <font color = \"whitegreen\"> fique a vontade para modificar</font> o código se quiser, e <font color = \"yellow\"> por favor reportem qualquer problema!</font>\n",
        "\n"
      ],
      "metadata": {
        "id": "XKoDYjHbD2v7"
      }
    },
    {
      "cell_type": "code",
      "source": [
        "md(header)"
      ],
      "metadata": {
        "colab": {
          "base_uri": "https://localhost:8080/",
          "height": 74
        },
        "id": "6qlj9ap3ta0O",
        "outputId": "df918ffb-46e9-4a88-aa40-59a04f23c9da"
      },
      "execution_count": null,
      "outputs": [
        {
          "output_type": "execute_result",
          "data": {
            "text/plain": [
              "<IPython.core.display.Markdown object>"
            ],
            "text/markdown": "# Exercícios com Comandos Linux\n\n"
          },
          "metadata": {},
          "execution_count": 17
        }
      ]
    },
    {
      "cell_type": "code",
      "source": [
        "md(questions.get(1))"
      ],
      "metadata": {
        "colab": {
          "base_uri": "https://localhost:8080/",
          "height": 90
        },
        "id": "L6NhrdF7wGCA",
        "outputId": "effd7eb8-d6e1-48e3-f56f-09388600600c"
      },
      "execution_count": null,
      "outputs": [
        {
          "output_type": "execute_result",
          "data": {
            "text/plain": [
              "<IPython.core.display.Markdown object>"
            ],
            "text/markdown": "## 1. Listar Arquivos e Diretórios\nListe todos os arquivos e diretórios do diretório atual. Use o comando `ls` para exibir o conteúdo da pasta em que você está trabalhando"
          },
          "metadata": {},
          "execution_count": 18
        }
      ]
    },
    {
      "cell_type": "code",
      "source": [
        "!ls"
      ],
      "metadata": {
        "id": "2Yin210GSTj_",
        "colab": {
          "base_uri": "https://localhost:8080/"
        },
        "outputId": "4c638106-6c7d-4c66-af48-19e76a33ffea"
      },
      "execution_count": 19,
      "outputs": [
        {
          "output_type": "stream",
          "name": "stdout",
          "text": [
            "python_exercises  sample_data\n"
          ]
        }
      ]
    },
    {
      "cell_type": "code",
      "source": [
        "md(questions.get(2))"
      ],
      "metadata": {
        "colab": {
          "base_uri": "https://localhost:8080/",
          "height": 90
        },
        "id": "Aa_V-DEXSmbd",
        "outputId": "cb05bcf8-8057-4f82-f47d-37eeae36abf5"
      },
      "execution_count": 20,
      "outputs": [
        {
          "output_type": "execute_result",
          "data": {
            "text/plain": [
              "<IPython.core.display.Markdown object>"
            ],
            "text/markdown": "\n\n## 2. Verificar Diretório Atual\nExiba o diretório atual em que você está utilizando o comando `pwd` (print working directory)"
          },
          "metadata": {},
          "execution_count": 20
        }
      ]
    },
    {
      "cell_type": "code",
      "source": [
        "!pwd"
      ],
      "metadata": {
        "colab": {
          "base_uri": "https://localhost:8080/"
        },
        "id": "BNdaPPFHSuvu",
        "outputId": "410fdfe5-0a69-4042-c3b0-115247ef5ddd"
      },
      "execution_count": 22,
      "outputs": [
        {
          "output_type": "stream",
          "name": "stdout",
          "text": [
            "/content\n"
          ]
        }
      ]
    },
    {
      "cell_type": "code",
      "source": [
        "md(questions.get(3))"
      ],
      "metadata": {
        "colab": {
          "base_uri": "https://localhost:8080/",
          "height": 90
        },
        "id": "AyMwkYzkSo4r",
        "outputId": "8cbb2752-d3ab-44ab-ae4d-4b81df94dd42"
      },
      "execution_count": 21,
      "outputs": [
        {
          "output_type": "execute_result",
          "data": {
            "text/plain": [
              "<IPython.core.display.Markdown object>"
            ],
            "text/markdown": "\n\n## 3. Criar e Navegar Entre Diretórios\nCrie um diretório chamado `my_folder`, navegue até ele usando o comando `cd` e verifique se você está no diretório correto usando `pwd`"
          },
          "metadata": {},
          "execution_count": 21
        }
      ]
    },
    {
      "cell_type": "markdown",
      "source": [
        "<font color = \"yellow\">[EN] WARNING! </font> In Colab the `cd` command must be executed alone in the cell.\n",
        "\n",
        "<font color = \"yellow\">[PTBR] ATENÇÂO! </font>No Colab o comando `cd` deve ser executado sozinho na célula.\n",
        "\n",
        "> Ref: https://github.com/googlecolab/colabtools/issues/40"
      ],
      "metadata": {
        "id": "YtGNuoGzYuY7"
      }
    },
    {
      "cell_type": "code",
      "source": [
        "!mkdir my_folder"
      ],
      "metadata": {
        "id": "R870hidJS2be"
      },
      "execution_count": 49,
      "outputs": []
    },
    {
      "cell_type": "code",
      "source": [
        "cd my_folder"
      ],
      "metadata": {
        "colab": {
          "base_uri": "https://localhost:8080/"
        },
        "id": "wdAktIz4YOwj",
        "outputId": "ba4400d4-8dd8-44ee-9780-57cb1cb9632e"
      },
      "execution_count": 50,
      "outputs": [
        {
          "output_type": "stream",
          "name": "stdout",
          "text": [
            "/content/my_folder\n"
          ]
        }
      ]
    },
    {
      "cell_type": "code",
      "source": [
        "!pwd"
      ],
      "metadata": {
        "colab": {
          "base_uri": "https://localhost:8080/"
        },
        "id": "EmvcAsqXYROy",
        "outputId": "8eee1038-518b-46a4-fd6a-30297406b197"
      },
      "execution_count": 51,
      "outputs": [
        {
          "output_type": "stream",
          "name": "stdout",
          "text": [
            "/content/my_folder\n"
          ]
        }
      ]
    },
    {
      "cell_type": "code",
      "source": [
        "md(questions.get(4))"
      ],
      "metadata": {
        "colab": {
          "base_uri": "https://localhost:8080/",
          "height": 90
        },
        "id": "fQJNMMlvbMm3",
        "outputId": "1f9200aa-2170-4a12-d75b-ace2d771139f"
      },
      "execution_count": 52,
      "outputs": [
        {
          "output_type": "execute_result",
          "data": {
            "text/plain": [
              "<IPython.core.display.Markdown object>"
            ],
            "text/markdown": "\n\n## 4. Criar e Modificar um Arquivo de Texto\nCrie um arquivo de texto chamado `sample.txt` no diretório atual, adicione a frase \"Hello, Linux!\" ao arquivo e, em seguida, visualize seu conteúdo"
          },
          "metadata": {},
          "execution_count": 52
        }
      ]
    },
    {
      "cell_type": "code",
      "source": [
        "!echo \"Hello, Linux!\" > sample.txt\n",
        "!cat sample.txt"
      ],
      "metadata": {
        "colab": {
          "base_uri": "https://localhost:8080/"
        },
        "id": "P3NvXVsvbbcy",
        "outputId": "f898cfcb-24a5-44f9-ab3e-2d007913fa1a"
      },
      "execution_count": 64,
      "outputs": [
        {
          "output_type": "stream",
          "name": "stdout",
          "text": [
            "Hello, Linux!\n"
          ]
        }
      ]
    },
    {
      "cell_type": "code",
      "source": [
        "md(questions.get(5))"
      ],
      "metadata": {
        "colab": {
          "base_uri": "https://localhost:8080/",
          "height": 90
        },
        "id": "X853HyBCbPhA",
        "outputId": "dcb98f71-3a2e-4031-8385-c9459603f27a"
      },
      "execution_count": 65,
      "outputs": [
        {
          "output_type": "execute_result",
          "data": {
            "text/plain": [
              "<IPython.core.display.Markdown object>"
            ],
            "text/markdown": "\n\n## 5. Copiar Arquivos\nCopie o arquivo `sample.txt` criado no exercício anterior para um novo arquivo chamado `copy_sample.txt`. Verifique se a cópia foi realizada corretamente"
          },
          "metadata": {},
          "execution_count": 65
        }
      ]
    },
    {
      "cell_type": "code",
      "source": [
        "!cp sample.txt copy_sample.txt\n",
        "!ls"
      ],
      "metadata": {
        "colab": {
          "base_uri": "https://localhost:8080/"
        },
        "id": "FBUOBPIebii-",
        "outputId": "7eb6bf45-ee77-459c-84ac-3fa887c90aeb"
      },
      "execution_count": 67,
      "outputs": [
        {
          "output_type": "stream",
          "name": "stdout",
          "text": [
            "copy_sample.txt  sample.txt\n"
          ]
        }
      ]
    },
    {
      "cell_type": "code",
      "source": [
        "md(questions.get(6))"
      ],
      "metadata": {
        "colab": {
          "base_uri": "https://localhost:8080/",
          "height": 90
        },
        "id": "A7PMd8DMbRJO",
        "outputId": "1b51cd52-73f3-4cf3-a0f5-df90afcfd87d"
      },
      "execution_count": 56,
      "outputs": [
        {
          "output_type": "execute_result",
          "data": {
            "text/plain": [
              "<IPython.core.display.Markdown object>"
            ],
            "text/markdown": "\n\n## 6. Mover e Renomear Arquivos\nMova o arquivo `copy_sample.txt` para um diretório chamado `backup` e, ao mesmo tempo, renomeie-o para `backup_sample.txt`"
          },
          "metadata": {},
          "execution_count": 56
        }
      ]
    },
    {
      "cell_type": "code",
      "source": [
        "!mkdir backup\n",
        "!mv copy_sample.txt backup/backup_sample.txt\n",
        "!ls backup/"
      ],
      "metadata": {
        "colab": {
          "base_uri": "https://localhost:8080/"
        },
        "id": "2aJ1W6SGbk5e",
        "outputId": "8ab866de-5cd7-40e6-d495-4fca5af91932"
      },
      "execution_count": 68,
      "outputs": [
        {
          "output_type": "stream",
          "name": "stdout",
          "text": [
            "backup_sample.txt\n"
          ]
        }
      ]
    },
    {
      "cell_type": "code",
      "source": [
        "md(questions.get(7))"
      ],
      "metadata": {
        "colab": {
          "base_uri": "https://localhost:8080/",
          "height": 90
        },
        "id": "dPka9KM4bSB6",
        "outputId": "0189e961-1ac8-427c-c079-34285d53db93"
      },
      "execution_count": 57,
      "outputs": [
        {
          "output_type": "execute_result",
          "data": {
            "text/plain": [
              "<IPython.core.display.Markdown object>"
            ],
            "text/markdown": "\n\n## 7. Exibir Uso de Disco\nExiba o uso de disco do ambiente atual utilizando o comando `df -h`. Verifique quanto espaço em disco está disponível"
          },
          "metadata": {},
          "execution_count": 57
        }
      ]
    },
    {
      "cell_type": "code",
      "source": [
        "!df -h"
      ],
      "metadata": {
        "colab": {
          "base_uri": "https://localhost:8080/"
        },
        "id": "HTuoE9Nrbnxm",
        "outputId": "a3a299d9-c1dc-4430-db5a-f6a94516d994"
      },
      "execution_count": 69,
      "outputs": [
        {
          "output_type": "stream",
          "name": "stdout",
          "text": [
            "Filesystem      Size  Used Avail Use% Mounted on\n",
            "overlay         108G   30G   79G  28% /\n",
            "tmpfs            64M     0   64M   0% /dev\n",
            "shm             5.8G     0  5.8G   0% /dev/shm\n",
            "/dev/root       2.0G  1.2G  820M  59% /usr/sbin/docker-init\n",
            "tmpfs           6.4G  168K  6.4G   1% /var/colab\n",
            "/dev/sda1        77G   54G   23G  71% /etc/hosts\n",
            "tmpfs           6.4G     0  6.4G   0% /proc/acpi\n",
            "tmpfs           6.4G     0  6.4G   0% /proc/scsi\n",
            "tmpfs           6.4G     0  6.4G   0% /sys/firmware\n"
          ]
        }
      ]
    },
    {
      "cell_type": "code",
      "source": [
        "md(questions.get(8))"
      ],
      "metadata": {
        "colab": {
          "base_uri": "https://localhost:8080/",
          "height": 90
        },
        "id": "2tyfv6qZbSwk",
        "outputId": "3056baa9-b62d-495f-d89a-faa9c9673020"
      },
      "execution_count": 58,
      "outputs": [
        {
          "output_type": "execute_result",
          "data": {
            "text/plain": [
              "<IPython.core.display.Markdown object>"
            ],
            "text/markdown": "\n\n## 8. Encontrar Arquivos Específicos\nUse o comando `find` para encontrar todos os arquivos `.txt` dentro do diretório atual e seus subdiretórios"
          },
          "metadata": {},
          "execution_count": 58
        }
      ]
    },
    {
      "cell_type": "code",
      "source": [
        "!find . -name \"*.txt\""
      ],
      "metadata": {
        "colab": {
          "base_uri": "https://localhost:8080/"
        },
        "id": "0TM1iX8wbrSf",
        "outputId": "b789fa8e-b89f-4749-d199-7458f95489c0"
      },
      "execution_count": 70,
      "outputs": [
        {
          "output_type": "stream",
          "name": "stdout",
          "text": [
            "./backup/backup_sample.txt\n",
            "./sample.txt\n"
          ]
        }
      ]
    },
    {
      "cell_type": "code",
      "source": [
        "md(questions.get(9))"
      ],
      "metadata": {
        "colab": {
          "base_uri": "https://localhost:8080/",
          "height": 90
        },
        "id": "rQVLWBsFbTck",
        "outputId": "8c9cdfe3-74e1-43e6-ccd4-7dc225b9070b"
      },
      "execution_count": 59,
      "outputs": [
        {
          "output_type": "execute_result",
          "data": {
            "text/plain": [
              "<IPython.core.display.Markdown object>"
            ],
            "text/markdown": "\n\n## 9. Exibir as 10 Primeiras Linhas de um Arquivo\nUtilizando o arquivo `sample.txt`, exiba as 10 primeiras linhas do arquivo com o comando `head`. Caso o arquivo tenha menos de 10 linhas, exiba todas elas"
          },
          "metadata": {},
          "execution_count": 59
        }
      ]
    },
    {
      "cell_type": "code",
      "source": [
        "!head -n 10 sample.txt"
      ],
      "metadata": {
        "colab": {
          "base_uri": "https://localhost:8080/"
        },
        "id": "p23bJojMbuYK",
        "outputId": "e7a450cc-4bdc-403f-bdc4-fa7f0105d5da"
      },
      "execution_count": 71,
      "outputs": [
        {
          "output_type": "stream",
          "name": "stdout",
          "text": [
            "Hello, Linux!\n"
          ]
        }
      ]
    },
    {
      "cell_type": "code",
      "source": [
        "md(questions.get(10))"
      ],
      "metadata": {
        "colab": {
          "base_uri": "https://localhost:8080/",
          "height": 90
        },
        "id": "FkFaBp4LbUHw",
        "outputId": "30cc666c-0ab8-436f-9135-3536e3ed8244"
      },
      "execution_count": 60,
      "outputs": [
        {
          "output_type": "execute_result",
          "data": {
            "text/plain": [
              "<IPython.core.display.Markdown object>"
            ],
            "text/markdown": "\n\n## 10. Contar o Número de Linhas, Palavras e Caracteres de um Arquivo\nUse o comando `wc` para contar o número de linhas, palavras e caracteres no arquivo `sample.txt`.\n"
          },
          "metadata": {},
          "execution_count": 60
        }
      ]
    },
    {
      "cell_type": "code",
      "source": [
        "!wc sample.txt"
      ],
      "metadata": {
        "colab": {
          "base_uri": "https://localhost:8080/"
        },
        "id": "KLcjmPKtb2H3",
        "outputId": "4644613d-16c4-40d3-aa45-9205e9a0ce7c"
      },
      "execution_count": 72,
      "outputs": [
        {
          "output_type": "stream",
          "name": "stdout",
          "text": [
            " 1  2 14 sample.txt\n"
          ]
        }
      ]
    }
  ]
}